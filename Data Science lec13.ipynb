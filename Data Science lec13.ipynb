{
 "cells": [
  {
   "cell_type": "code",
   "execution_count": 1,
   "id": "d87d968c",
   "metadata": {},
   "outputs": [],
   "source": [
    "#lambda function"
   ]
  },
  {
   "cell_type": "code",
   "execution_count": 2,
   "id": "da231fb5",
   "metadata": {},
   "outputs": [
    {
     "data": {
      "text/plain": [
       "<function __main__.<lambda>(a, b)>"
      ]
     },
     "execution_count": 2,
     "metadata": {},
     "output_type": "execute_result"
    }
   ],
   "source": [
    "lambda a,b:(a+b)/2"
   ]
  },
  {
   "cell_type": "code",
   "execution_count": 4,
   "id": "255e3642",
   "metadata": {},
   "outputs": [
    {
     "name": "stdout",
     "output_type": "stream",
     "text": [
      "20.0\n"
     ]
    }
   ],
   "source": [
    "avg = lambda a,b:(a+b)/2\n",
    "print(avg(10,30))"
   ]
  },
  {
   "cell_type": "code",
   "execution_count": 5,
   "id": "5a8f034a",
   "metadata": {},
   "outputs": [],
   "source": [
    "#sort via values using lambda function"
   ]
  },
  {
   "cell_type": "code",
   "execution_count": 6,
   "id": "23d87272",
   "metadata": {},
   "outputs": [],
   "source": [
    "#map, filter and reduce function"
   ]
  },
  {
   "cell_type": "code",
   "execution_count": 9,
   "id": "cd9c2af1",
   "metadata": {},
   "outputs": [
    {
     "name": "stdout",
     "output_type": "stream",
     "text": [
      "<map object at 0x000001B48D914940> <class 'map'>\n"
     ]
    }
   ],
   "source": [
    "lst1 = [1,2,3,4,5]\n",
    "lst2 = map(lambda x:x**2,lst1)\n",
    "print(lst2,type(lst2))#giving the address"
   ]
  },
  {
   "cell_type": "code",
   "execution_count": 10,
   "id": "8aae25da",
   "metadata": {},
   "outputs": [
    {
     "name": "stdout",
     "output_type": "stream",
     "text": [
      "[1, 4, 9, 16, 25]\n"
     ]
    }
   ],
   "source": [
    "print(list(lst2))#converting into list"
   ]
  },
  {
   "cell_type": "code",
   "execution_count": 11,
   "id": "6926cbe1",
   "metadata": {},
   "outputs": [],
   "source": [
    "#classes and objects"
   ]
  },
  {
   "cell_type": "code",
   "execution_count": 15,
   "id": "4e3adc32",
   "metadata": {},
   "outputs": [
    {
     "name": "stdout",
     "output_type": "stream",
     "text": [
      "Ram 12 3\n"
     ]
    }
   ],
   "source": [
    "class StudentDetail:\n",
    "    def datainput(self, n, r, s):\n",
    "        self.name = n\n",
    "        self.rollno = r\n",
    "        self.sem = s\n",
    "\n",
    "    def printout(self):\n",
    "        print(self.name, self.rollno, self.sem)\n",
    "        \n",
    "s1 = StudentDetail( ) #Object instantiation\n",
    "s1.datainput('Ram', 12, 3)\n",
    "s1.printout( )"
   ]
  },
  {
   "cell_type": "code",
   "execution_count": 20,
   "id": "cf1204f1",
   "metadata": {},
   "outputs": [
    {
     "name": "stdout",
     "output_type": "stream",
     "text": [
      "Ram 12 3\n"
     ]
    }
   ],
   "source": [
    "class StudentDetail:\n",
    "    \n",
    "    def __init__(self, n='', r=1, s=1):   #init: constructor\n",
    "        \n",
    "        self.name = n\n",
    "        self.rollno = r\n",
    "        self.sem = s\n",
    "\n",
    "    def printout(self):\n",
    "        print(self.name, self.rollno, self.sem)\n",
    "        \n",
    "s2 = StudentDetail('Ram', 12, 3) #Object instantiation\n",
    "#s1.datainput('Ram', 12, 3)\n",
    "s2.printout( )"
   ]
  },
  {
   "cell_type": "code",
   "execution_count": 24,
   "id": "3211d83b",
   "metadata": {},
   "outputs": [
    {
     "name": "stdout",
     "output_type": "stream",
     "text": [
      "Before modification:\n",
      "Ram 12 3\n",
      "\n",
      "After modification:\n",
      "Shyam 13 4\n"
     ]
    }
   ],
   "source": [
    "class ChangeStudentDetail:\n",
    "    \n",
    "    def __init__(self, n='', r=1, s=1):   #init: constructor\n",
    "        \n",
    "        self.name = n\n",
    "        self.rollno = r\n",
    "        self.sem = s\n",
    "\n",
    "    def change_name(student, new_name):\n",
    "        student.name = 'Shyam'\n",
    "    \n",
    "    def change_rollno(student, new_rollno):\n",
    "        student.rollno = 13\n",
    "    \n",
    "    def change_sem(student, new_sem):\n",
    "        student.sem = 4\n",
    "\n",
    "        \n",
    "s2 = StudentDetail('Ram', 12, 3) #Object instantiation\n",
    "\n",
    "print(\"Before modification:\")\n",
    "s2.printout()\n",
    "\n",
    "ChangeStudentDetail.change_name(s2, 'Shyam')\n",
    "ChangeStudentDetail.change_rollno(s2, 15)\n",
    "ChangeStudentDetail.change_sem(s2, 4)\n",
    "\n",
    "print(\"\\nAfter modification:\")\n",
    "s2.printout()"
   ]
  },
  {
   "cell_type": "code",
   "execution_count": 25,
   "id": "ff9eeeeb",
   "metadata": {},
   "outputs": [
    {
     "name": "stdout",
     "output_type": "stream",
     "text": [
      "name =  R ,  roll no =  1 ,  sem =  1\n",
      "Del obj<__main__.StudentDetail object at 0x000001B48E5AA890>\n",
      "name =  Ram ,  roll no =  1 ,  sem =  1\n",
      "Del obj<__main__.StudentDetail object at 0x000001B48D9444D0>\n",
      "name =  Raman ,  roll no =  23 ,  sem =  1\n",
      "Del obj<__main__.StudentDetail object at 0x000001B48E5AA890>\n",
      "name =  Ramana ,  roll no =  23 ,  sem =  5\n"
     ]
    }
   ],
   "source": [
    "class StudentDetail:\n",
    "#Constructor\n",
    "    def __init__(self, n='R', r=1, s=1):\n",
    "        self._name = n\n",
    "        self._rollno = r\n",
    "        self._sem = s\n",
    "#Printing the data\n",
    "    def printout(self):\n",
    "        print('name = ', self._name, \", \" , 'roll no = ', self._rollno, \", \" , 'sem = ', self._sem)\n",
    "#destructor\n",
    "    def __del__(self):\n",
    "        print('Del obj' + str(self))\n",
    "    \n",
    "s1 = StudentDetail()\n",
    "s1.printout()\n",
    "\n",
    "s1 = StudentDetail('Ram')\n",
    "s1.printout()\n",
    "\n",
    "s1 = StudentDetail('Raman', 23)\n",
    "s1.printout()\n",
    "\n",
    "s1 = StudentDetail('Ramana', 23, 5)\n",
    "s1.printout()"
   ]
  },
  {
   "cell_type": "code",
   "execution_count": null,
   "id": "36ac76dd",
   "metadata": {},
   "outputs": [],
   "source": [
    "#notionally private data??"
   ]
  }
 ],
 "metadata": {
  "kernelspec": {
   "display_name": "Python 3 (ipykernel)",
   "language": "python",
   "name": "python3"
  },
  "language_info": {
   "codemirror_mode": {
    "name": "ipython",
    "version": 3
   },
   "file_extension": ".py",
   "mimetype": "text/x-python",
   "name": "python",
   "nbconvert_exporter": "python",
   "pygments_lexer": "ipython3",
   "version": "3.11.4"
  }
 },
 "nbformat": 4,
 "nbformat_minor": 5
}
