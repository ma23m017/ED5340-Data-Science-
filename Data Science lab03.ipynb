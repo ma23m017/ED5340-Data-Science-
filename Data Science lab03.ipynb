{
 "cells": [
  {
   "cell_type": "code",
   "execution_count": 1,
   "id": "6c5afd65",
   "metadata": {},
   "outputs": [],
   "source": [
    "## "
   ]
  },
  {
   "cell_type": "markdown",
   "id": "0a5033aa",
   "metadata": {},
   "source": [
    "## Question 1"
   ]
  },
  {
   "cell_type": "markdown",
   "id": "b3ab126a",
   "metadata": {},
   "source": [
    "1.Write a program (WAP) to implement the following operations on a collection of library books:\n",
    "\n",
    "(a) Construct a catalog of books, with each book having an author's name, book title, ISBN number, publication year, and number of pages.\n",
    "\n",
    "(b) Add a new book to the catalog, ensuring that the books are kept in ascending order based on the publication year.\n",
    "\n",
    "(c) Locate a book by its ISBN number and delete the book's entry from the catalog.\n",
    "\n",
    "(d) Insert a new book entry at the end of the catalog using the provided book information.\n",
    "\n",
    "(e) Identify and remove any duplicate entries in the catalog, preserving only one copy of each book based on its ISBN number.\n",
    "\n",
    "(f) Reorganize the entire catalog so that the books are sorted in descending order by the number of pages."
   ]
  },
  {
   "cell_type": "markdown",
   "id": "c4c9b9cc",
   "metadata": {},
   "source": [
    "## Solution"
   ]
  },
  {
   "cell_type": "markdown",
   "id": "d74f3c3f",
   "metadata": {},
   "source": [
    "## (a)"
   ]
  },
  {
   "cell_type": "code",
   "execution_count": 11,
   "id": "93b12885",
   "metadata": {},
   "outputs": [
    {
     "name": "stdout",
     "output_type": "stream",
     "text": [
      "Title: Introduction to Python\n",
      "Author: John Doe\n",
      "ISBN: 123456789\n",
      "Year: 2010\n",
      "Pages: 300\n",
      "\n",
      "Title: Data Structures and Algorithms\n",
      "Author: Jane Smith\n",
      "ISBN: 987654321\n",
      "Year: 2015\n",
      "Pages: 400\n",
      "\n",
      "Title: Machine Learning Basics\n",
      "Author: Alice Johnson\n",
      "ISBN: 456789123\n",
      "Year: 2018\n",
      "Pages: 350\n",
      "\n"
     ]
    }
   ],
   "source": [
    "book1 = {\"author\": 'John Doe', \"title\": \"Introduction to Python\", \"isbn\": \"123456789\", \"year\": 2010, \"pages\": 300}\n",
    "book2 = {\"author\": \"Jane Smith\", \"title\": \"Data Structures and Algorithms\", \"isbn\": \"987654321\", \"year\": 2015, \"pages\": 400}\n",
    "book3 = {\"author\": \"Alice Johnson\", \"title\": \"Machine Learning Basics\", \"isbn\": \"456789123\", \"year\": 2018, \"pages\": 350}\n",
    "\n",
    "catalog = [book1, book2, book3]\n",
    "\n",
    "for book in catalog:\n",
    "    print(f\"Title: {book['title']}\")\n",
    "    print(f\"Author: {book['author']}\")\n",
    "    print(f\"ISBN: {book['isbn']}\")\n",
    "    print(f\"Year: {book['year']}\")\n",
    "    print(f\"Pages: {book['pages']}\")\n",
    "    print()"
   ]
  },
  {
   "cell_type": "markdown",
   "id": "ed1001eb",
   "metadata": {},
   "source": [
    "## (b)"
   ]
  },
  {
   "cell_type": "code",
   "execution_count": 12,
   "id": "9b81420f",
   "metadata": {
    "scrolled": false
   },
   "outputs": [
    {
     "name": "stdout",
     "output_type": "stream",
     "text": [
      "Updated catalog:\n",
      "Title: Introduction to Python, Year: 2010\n",
      "Title: Data Structures and Algorithms, Year: 2015\n",
      "Title: Machine Learning Basics, Year: 2018\n",
      "Title: Artificial Intelligence Essentials, Year: 2022\n"
     ]
    }
   ],
   "source": [
    "new_book = {\"author\": \"Bob Williams\", \"title\": \"Artificial Intelligence Essentials\", \"isbn\": \"246813579\", \"year\": 2022, \"pages\": 500}\n",
    "\n",
    "for x, book in enumerate(catalog):\n",
    "    if new_book['year'] < book['year']:\n",
    "        catalog.insert(x,new_book)\n",
    "catalog.append(new_book)\n",
    "    \n",
    "print(\"Updated catalog:\")\n",
    "for book in catalog:\n",
    "    print(f\"Title: {book['title']}, Year: {book['year']}\")"
   ]
  },
  {
   "cell_type": "markdown",
   "id": "fbc7d89a",
   "metadata": {},
   "source": [
    "## (c)"
   ]
  },
  {
   "cell_type": "code",
   "execution_count": 13,
   "id": "391e4274",
   "metadata": {},
   "outputs": [
    {
     "name": "stdout",
     "output_type": "stream",
     "text": [
      "Book with ISBN: 246813579 deleted\n",
      "Book with ISBN: 246813579 not found\n",
      "Updated catalog:\n",
      "Title: Introduction to Python\n",
      "Author: John Doe\n",
      "ISBN: 123456789\n",
      "Year: 2010\n",
      "Pages: 300\n",
      "\n",
      "Title: Data Structures and Algorithms\n",
      "Author: Jane Smith\n",
      "ISBN: 987654321\n",
      "Year: 2015\n",
      "Pages: 400\n",
      "\n",
      "Title: Machine Learning Basics\n",
      "Author: Alice Johnson\n",
      "ISBN: 456789123\n",
      "Year: 2018\n",
      "Pages: 350\n",
      "\n"
     ]
    }
   ],
   "source": [
    "isbn = \"246813579\"\n",
    "\n",
    "for books in catalog:\n",
    "    if books['isbn'] == isbn:\n",
    "        catalog.remove(book)\n",
    "        print(f'Book with ISBN: {isbn} deleted')\n",
    "print(f'Book with ISBN: {isbn} not found')\n",
    "\n",
    "print(\"Updated catalog:\")\n",
    "for book in catalog:\n",
    "    print(f\"Title: {book['title']}\")\n",
    "    print(f\"Author: {book['author']}\")\n",
    "    print(f\"ISBN: {book['isbn']}\")\n",
    "    print(f\"Year: {book['year']}\")\n",
    "    print(f\"Pages: {book['pages']}\")\n",
    "    print()"
   ]
  },
  {
   "cell_type": "markdown",
   "id": "4c6e248b",
   "metadata": {},
   "source": [
    "## (d)"
   ]
  },
  {
   "cell_type": "code",
   "execution_count": 14,
   "id": "d028cae1",
   "metadata": {},
   "outputs": [
    {
     "name": "stdout",
     "output_type": "stream",
     "text": [
      "New book inserted at the end of the catalog.\n",
      "\n",
      "\n",
      "Updated catalog:\n",
      "\n",
      "Title: Introduction to Python\n",
      "Author: John Doe\n",
      "ISBN: 123456789\n",
      "Year: 2010\n",
      "Pages: 300\n",
      "\n",
      "Title: Data Structures and Algorithms\n",
      "Author: Jane Smith\n",
      "ISBN: 987654321\n",
      "Year: 2015\n",
      "Pages: 400\n",
      "\n",
      "Title: Machine Learning Basics\n",
      "Author: Alice Johnson\n",
      "ISBN: 456789123\n",
      "Year: 2018\n",
      "Pages: 350\n",
      "\n",
      "Title: Advanced Data Analysis\n",
      "Author: Emily Brown\n",
      "ISBN: 135792468\n",
      "Year: 2023\n",
      "Pages: 420\n",
      "\n"
     ]
    }
   ],
   "source": [
    "new_book = {'author': 'Emily Brown', 'title': 'Advanced Data Analysis', 'isbn': '135792468', 'year': 2023, 'pages': 420}\n",
    "\n",
    "catalog.append(new_book)\n",
    "print('New book inserted at the end of the catalog.\\n')\n",
    "print('\\nUpdated catalog:\\n')\n",
    "for book in catalog:\n",
    "    print(f\"Title: {book['title']}\")\n",
    "    print(f\"Author: {book['author']}\")\n",
    "    print(f\"ISBN: {book['isbn']}\")\n",
    "    print(f\"Year: {book['year']}\")\n",
    "    print(f\"Pages: {book['pages']}\")\n",
    "    print()"
   ]
  },
  {
   "cell_type": "markdown",
   "id": "045cc71f",
   "metadata": {},
   "source": [
    "## (e)"
   ]
  },
  {
   "cell_type": "code",
   "execution_count": 22,
   "id": "3278760a",
   "metadata": {},
   "outputs": [
    {
     "name": "stdout",
     "output_type": "stream",
     "text": [
      "Catalog with duplicates:\n",
      "\n",
      "Title: Introduction to Python, ISBN: 123456789\n",
      "Title: Data Structures and Algorithms, ISBN: 987654321\n",
      "Title: Machine Learning Basics, ISBN: 456789123\n",
      "Title: Advanced Data Analysis, ISBN: 135792468\n",
      "Title: Advanced Data Analysis, ISBN: 135792468\n",
      "\n",
      "Catalog without duplicates:\n",
      "\n",
      "Title: Introduction to Python, ISBN: 123456789\n",
      "Title: Data Structures and Algorithms, ISBN: 987654321\n",
      "Title: Machine Learning Basics, ISBN: 456789123\n",
      "Title: Advanced Data Analysis, ISBN: 135792468\n"
     ]
    }
   ],
   "source": [
    "new_book = {'author': 'Emily Brown', 'title': 'Advanced Data Analysis', 'isbn': '135792468', 'year': 2023, 'pages': 420}\n",
    "\n",
    "catalog.append(new_book)\n",
    "\n",
    "print('Catalog with duplicates:\\n')\n",
    "for book in catalog:\n",
    "    print(f\"Title: {book['title']}, ISBN: {book['isbn']}\")\n",
    "    \n",
    "\n",
    "set1 = set()\n",
    "unique_catalog = []\n",
    "\n",
    "for book in catalog:\n",
    "    if book['isbn'] not in set1:\n",
    "        unique_catalog.append(book)\n",
    "        set1.add(book['isbn'])\n",
    "        \n",
    "print('\\nCatalog without duplicates:\\n')\n",
    "for book in unique_catalog:\n",
    "    print(f\"Title: {book['title']}, ISBN: {book['isbn']}\")"
   ]
  },
  {
   "cell_type": "markdown",
   "id": "38d70466",
   "metadata": {},
   "source": [
    "## (f)"
   ]
  },
  {
   "cell_type": "code",
   "execution_count": 24,
   "id": "b85571b2",
   "metadata": {},
   "outputs": [
    {
     "name": "stdout",
     "output_type": "stream",
     "text": [
      "Catalog sorted by pages in descending order:\n",
      "\n",
      "Title: Advanced Data Analysis, Pages: 420\n",
      "Title: Advanced Data Analysis, Pages: 420\n",
      "Title: Data Structures and Algorithms, Pages: 400\n",
      "Title: Machine Learning Basics, Pages: 350\n",
      "Title: Introduction to Python, Pages: 300\n"
     ]
    }
   ],
   "source": [
    "sorted_catalog = sorted(catalog, key=lambda x: x['pages'], reverse=True)\n",
    "\n",
    "print('Catalog sorted by pages in descending order:\\n')\n",
    "for book in sorted_catalog:\n",
    "    print(f\"Title: {book['title']}, Pages: {book['pages']}\")"
   ]
  },
  {
   "cell_type": "markdown",
   "id": "e8ef5325",
   "metadata": {},
   "source": [
    "## Question 2"
   ]
  },
  {
   "cell_type": "markdown",
   "id": "872c4725",
   "metadata": {},
   "source": [
    "Write a program using list comprehension\n",
    "\n",
    "a) To add the corresponding elements of two lists and print the new list.\n",
    "\n",
    "b) To perform element wise multiplication of two lists and print the new list.\n",
    "\n",
    "c) To create a list of the unique characters of a given string. \n",
    "\n",
    "Eg: input = “hello” , output = [‘h’, ‘e’, ‘l’, ‘o’]"
   ]
  },
  {
   "cell_type": "markdown",
   "id": "05bfcd9f",
   "metadata": {},
   "source": [
    "## Solution"
   ]
  },
  {
   "cell_type": "markdown",
   "id": "00c76466",
   "metadata": {},
   "source": [
    "## (a)"
   ]
  },
  {
   "cell_type": "code",
   "execution_count": 28,
   "id": "8a4bafed",
   "metadata": {},
   "outputs": [
    {
     "name": "stdout",
     "output_type": "stream",
     "text": [
      "New list after adding corresponding elements:\n",
      "[12, 14, 16, 18, 20]\n"
     ]
    }
   ],
   "source": [
    "lst1 = [1,2,3,4,5]\n",
    "lst2 = [11,12,13,14,15]\n",
    "\n",
    "if len(lst1) == len(lst2):\n",
    "    new_list = [lst1[i] + lst2[i] for i in range(len(lst1))]\n",
    "    print('New list after adding corresponding elements:', new_list, sep='\\n')\n",
    "else:\n",
    "    print('Both list must be of same size!!')"
   ]
  },
  {
   "cell_type": "markdown",
   "id": "9d47c9d9",
   "metadata": {},
   "source": [
    "## (b)"
   ]
  },
  {
   "cell_type": "code",
   "execution_count": 29,
   "id": "e4def179",
   "metadata": {},
   "outputs": [
    {
     "name": "stdout",
     "output_type": "stream",
     "text": [
      "New list after multiplying corresponding elements:\n",
      "[11, 24, 39, 56, 75]\n"
     ]
    }
   ],
   "source": [
    "lst1 = [1,2,3,4,5]\n",
    "lst2 = [11,12,13,14,15]\n",
    "\n",
    "if len(lst1) == len(lst2):\n",
    "    new_list = [lst1[i] * lst2[i] for i in range(len(lst1))]\n",
    "    print('New list after multiplying corresponding elements:', new_list, sep='\\n')\n",
    "else:\n",
    "    print('Both list must be of same size!!')"
   ]
  },
  {
   "cell_type": "markdown",
   "id": "9bc75b08",
   "metadata": {},
   "source": [
    "## (c)"
   ]
  },
  {
   "cell_type": "code",
   "execution_count": 45,
   "id": "fba35d05",
   "metadata": {},
   "outputs": [
    {
     "name": "stdout",
     "output_type": "stream",
     "text": [
      "List of unique characters is given by:\n",
      "['p', 'r', 'h', 'l', 'n', 'm', 'e', 'a', 'g', 'y', 't', 'i', 'o']\n"
     ]
    }
   ],
   "source": [
    "input_string = 'I am learning python'\n",
    "str1 = ''.join(input_string.lower().split())\n",
    "\n",
    "lst = list(set(str1))\n",
    "\n",
    "print('List of unique characters is given by:', lst, sep = '\\n')"
   ]
  },
  {
   "cell_type": "markdown",
   "id": "53286d86",
   "metadata": {},
   "source": [
    "## Question 3"
   ]
  },
  {
   "cell_type": "markdown",
   "id": "5b641b51",
   "metadata": {},
   "source": [
    "Using the zip function, WAP\n",
    "\n",
    "a) To add the elements of 2 matrices (Define matrices as per your wish).\n",
    "\n",
    "b) To perform element wise multiplication on 2 matrices."
   ]
  },
  {
   "cell_type": "markdown",
   "id": "f0a90e9d",
   "metadata": {},
   "source": [
    "## Solution"
   ]
  },
  {
   "cell_type": "markdown",
   "id": "616b3e1d",
   "metadata": {},
   "source": [
    "# (a)"
   ]
  },
  {
   "cell_type": "code",
   "execution_count": 48,
   "id": "0d24d21d",
   "metadata": {},
   "outputs": [
    {
     "name": "stdout",
     "output_type": "stream",
     "text": [
      "[10, 10, 10]\n",
      "[10, 10, 10]\n",
      "[10, 10, 10]\n"
     ]
    }
   ],
   "source": [
    "mat1 = [[1, 2, 3],\n",
    "        [4, 5, 6],\n",
    "        [7, 8, 9]]\n",
    "\n",
    "mat2 = [[9, 8, 7],\n",
    "        [6, 5, 4],\n",
    "        [3, 2, 1]]\n",
    "\n",
    "result = [[i+j for i, j in zip(x, y)] for x, y in zip(mat1, mat2)]\n",
    "\n",
    "for row in result:\n",
    "    print(row)"
   ]
  },
  {
   "cell_type": "markdown",
   "id": "1e0c5087",
   "metadata": {},
   "source": [
    "## (b)"
   ]
  },
  {
   "cell_type": "code",
   "execution_count": 49,
   "id": "9895771d",
   "metadata": {},
   "outputs": [
    {
     "name": "stdout",
     "output_type": "stream",
     "text": [
      "[9, 16, 21]\n",
      "[24, 25, 24]\n",
      "[21, 16, 9]\n"
     ]
    }
   ],
   "source": [
    "mat1 = [[1, 2, 3],\n",
    "        [4, 5, 6],\n",
    "        [7, 8, 9]]\n",
    "\n",
    "mat2 = [[9, 8, 7],\n",
    "        [6, 5, 4],\n",
    "        [3, 2, 1]]\n",
    "\n",
    "result = [[i*j for i, j in zip(x, y)] for x, y in zip(mat1, mat2)]\n",
    "\n",
    "for row in result:\n",
    "    print(row)"
   ]
  },
  {
   "cell_type": "markdown",
   "id": "e0ca48fa",
   "metadata": {},
   "source": [
    "## Question 4"
   ]
  },
  {
   "cell_type": "markdown",
   "id": "20d65234",
   "metadata": {},
   "source": [
    "List of List : Given a square matrix represented as a list of lists, \n",
    "\n",
    "a) WAP to print the row sum, column sum and trace of the matrix \n",
    "\n",
    "b) WAP to print the transpose of the matrix.\n",
    "\n",
    "c) WAP to check whether the given matrix is symmetric or not.\n",
    "\n",
    "d) WAP to check whether the Identity matrix (I) is positive definite or not by using Quadratic form method (x^T*I*x > 0), where x is any non zero vector."
   ]
  },
  {
   "cell_type": "markdown",
   "id": "81191b50",
   "metadata": {},
   "source": [
    "## Solution"
   ]
  },
  {
   "cell_type": "markdown",
   "id": "a8c447d7",
   "metadata": {},
   "source": [
    "## (a)"
   ]
  },
  {
   "cell_type": "code",
   "execution_count": 58,
   "id": "6fe87332",
   "metadata": {},
   "outputs": [
    {
     "name": "stdout",
     "output_type": "stream",
     "text": [
      "Row sum in a list is given by:\n",
      "[10, 13, -1]\n",
      "\n",
      "Column sum in a list is given by:\n",
      "[-1, 16, 7]\n",
      "\n",
      "Trace of matrix is given by:\n",
      "10\n"
     ]
    }
   ],
   "source": [
    "matrix = [[1,3,6],\n",
    "         [5,8,0],\n",
    "         [-7,5,1]]\n",
    "\n",
    "row_sum = []\n",
    "for x in matrix:\n",
    "    row_sum.append(sum(x))\n",
    "    \n",
    "print('Row sum in a list is given by:', row_sum, sep='\\n')\n",
    "\n",
    "transpose = [list(row) for row in zip(*matrix)]\n",
    "transpose1 = list(transpose)\n",
    "\n",
    "column_sum = []\n",
    "\n",
    "for y in transpose1:\n",
    "    column_sum.append(sum(y))\n",
    "    \n",
    "print('\\nColumn sum in a list is given by:', column_sum, sep='\\n')\n",
    "\n",
    "sum_ = 0\n",
    "for i in range(len(matrix[0])):\n",
    "    for j in range(len(matrix[0])):\n",
    "        if i == j:\n",
    "            sum_ = sum_ + matrix[i][j]\n",
    "        \n",
    "print('\\nTrace of matrix is given by:', sum_, sep = '\\n')"
   ]
  },
  {
   "cell_type": "markdown",
   "id": "61b90694",
   "metadata": {},
   "source": [
    "## (b)"
   ]
  },
  {
   "cell_type": "code",
   "execution_count": 62,
   "id": "45050e33",
   "metadata": {},
   "outputs": [
    {
     "name": "stdout",
     "output_type": "stream",
     "text": [
      "\n",
      "Transpose of the matrix is given by:\n",
      "[[1, 5, -7], [3, 8, 5], [6, 0, 1]]\n"
     ]
    }
   ],
   "source": [
    "matrix = [[1,3,6],\n",
    "         [5,8,0],\n",
    "         [-7,5,1]]\n",
    "\n",
    "transpose = [list(row) for row in zip(*matrix)]\n",
    "transpose1 = list(transpose)\n",
    "\n",
    "print('\\nTranspose of the matrix is given by:', transpose1, sep ='\\n')"
   ]
  },
  {
   "cell_type": "markdown",
   "id": "338717d5",
   "metadata": {},
   "source": [
    "## (c)"
   ]
  },
  {
   "cell_type": "code",
   "execution_count": 63,
   "id": "64694daf",
   "metadata": {},
   "outputs": [
    {
     "name": "stdout",
     "output_type": "stream",
     "text": [
      "Matrix is not symmetric\n"
     ]
    }
   ],
   "source": [
    "if matrix == transpose1:\n",
    "    print('Matrix is symmetric')\n",
    "else:\n",
    "    print('Matrix is not symmetric')"
   ]
  },
  {
   "cell_type": "markdown",
   "id": "b62f8a7b",
   "metadata": {},
   "source": [
    "## (d)"
   ]
  },
  {
   "cell_type": "code",
   "execution_count": 64,
   "id": "a4519c77",
   "metadata": {},
   "outputs": [
    {
     "name": "stdout",
     "output_type": "stream",
     "text": [
      "The Identity matrix is positive definite.\n"
     ]
    }
   ],
   "source": [
    "id_matrix = [[1, 0, 0],\n",
    "            [0, 1, 0],\n",
    "            [0, 0, 1]]\n",
    "\n",
    "n = len(matrix)\n",
    "\n",
    "x = [5,6,7]\n",
    "\n",
    "quadratic_form = sum(matrix[i][i] * x[i] ** 2 for i in range(n))\n",
    "\n",
    "if quadratic_form > 0:\n",
    "        print(\"The Identity matrix is positive definite.\")\n",
    "else:\n",
    "    print(\"The Identity matrix is not positive definite.\")"
   ]
  },
  {
   "cell_type": "markdown",
   "id": "1e08e98f",
   "metadata": {},
   "source": [
    "## Question 5"
   ]
  },
  {
   "cell_type": "markdown",
   "id": "fdce31b1",
   "metadata": {},
   "source": [
    " List of Lists : WAP to remove sub lists from a given list of lists that contain an element outside a given range.\n",
    "\n",
    "Example :\n",
    "\n",
    "Input : [[3], [1, 3, 2], [0, 1, 9, 3, 5, 7], [9, 10], [13, 14, 16, 17]]  Range: 1, 5\n",
    "\n",
    "Output : [[3], [1, 3, 2]]\n",
    "\n",
    "Explanation : If a sublist has a number that is other than 1, 2, 3, 4, 5, remove the sublist from the list of lists and print the remaining sublists as a lists of lists"
   ]
  },
  {
   "cell_type": "markdown",
   "id": "eced8a20",
   "metadata": {},
   "source": [
    "## Answer"
   ]
  },
  {
   "cell_type": "code",
   "execution_count": 72,
   "id": "b2f0f8ee",
   "metadata": {},
   "outputs": [
    {
     "name": "stdout",
     "output_type": "stream",
     "text": [
      "Output is given by:\n",
      "[[3], [1, 3, 2], [9, 10]]\n"
     ]
    }
   ],
   "source": [
    "result = []\n",
    "input_ = [[3], [1, 3, 2], [0, 1, 9, 3, 5, 7], [9, 10], [13, 14, 16, 17], [10, 11, 16, 19], [1, 9, 0, 12, 8]]\n",
    "start = 1\n",
    "end = 15\n",
    "\n",
    "for sublist in input_:\n",
    "    if any(ele < start or ele > end for ele in sublist):\n",
    "        continue\n",
    "    result.append(sublist)\n",
    "    \n",
    "print('Output is given by:', result, sep = '\\n')"
   ]
  },
  {
   "cell_type": "code",
   "execution_count": null,
   "id": "c218beec",
   "metadata": {},
   "outputs": [],
   "source": []
  }
 ],
 "metadata": {
  "kernelspec": {
   "display_name": "Python 3 (ipykernel)",
   "language": "python",
   "name": "python3"
  },
  "language_info": {
   "codemirror_mode": {
    "name": "ipython",
    "version": 3
   },
   "file_extension": ".py",
   "mimetype": "text/x-python",
   "name": "python",
   "nbconvert_exporter": "python",
   "pygments_lexer": "ipython3",
   "version": "3.11.4"
  }
 },
 "nbformat": 4,
 "nbformat_minor": 5
}
