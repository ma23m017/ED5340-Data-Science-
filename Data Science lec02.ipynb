{
 "cells": [
  {
   "cell_type": "code",
   "execution_count": 18,
   "id": "48d87f5b",
   "metadata": {},
   "outputs": [],
   "source": [
    "#defining the function\n",
    "def quotient_remainder(x,y):\n",
    "    print('Quotient: ', x//y)\n",
    "    print('Division: ', round(x/y,2))\n",
    "    print('Remainder: ', x%y)"
   ]
  },
  {
   "cell_type": "code",
   "execution_count": 19,
   "id": "7121ef55",
   "metadata": {},
   "outputs": [
    {
     "name": "stdout",
     "output_type": "stream",
     "text": [
      "Quotient:  3\n",
      "Division:  3.33\n",
      "Remainder:  1\n"
     ]
    }
   ],
   "source": [
    "quotient_remainder(10,3)#calling the function"
   ]
  },
  {
   "cell_type": "code",
   "execution_count": 20,
   "id": "d8bc0669",
   "metadata": {},
   "outputs": [
    {
     "name": "stdout",
     "output_type": "stream",
     "text": [
      "(1+2j)\n",
      "(3+6j)\n",
      "1.0\n",
      "2.0\n",
      "(1-2j)\n"
     ]
    }
   ],
   "source": [
    "a = 1+2j\n",
    "b = 3*(1+2j)\n",
    "print(a,b, sep='\\n')\n",
    "print(a.real, a.imag, a.conjugate(), sep='\\n')#() means calling a function"
   ]
  },
  {
   "cell_type": "code",
   "execution_count": 21,
   "id": "b3c8e793",
   "metadata": {},
   "outputs": [
    {
     "name": "stdout",
     "output_type": "stream",
     "text": [
      "Help on class complex in module builtins:\n",
      "\n",
      "class complex(object)\n",
      " |  complex(real=0, imag=0)\n",
      " |  \n",
      " |  Create a complex number from a real part and an optional imaginary part.\n",
      " |  \n",
      " |  This is equivalent to (real + imag*1j) where imag defaults to 0.\n",
      " |  \n",
      " |  Methods defined here:\n",
      " |  \n",
      " |  __abs__(self, /)\n",
      " |      abs(self)\n",
      " |  \n",
      " |  __add__(self, value, /)\n",
      " |      Return self+value.\n",
      " |  \n",
      " |  __bool__(self, /)\n",
      " |      True if self else False\n",
      " |  \n",
      " |  __complex__(self, /)\n",
      " |      Convert this value to exact type complex.\n",
      " |  \n",
      " |  __eq__(self, value, /)\n",
      " |      Return self==value.\n",
      " |  \n",
      " |  __format__(self, format_spec, /)\n",
      " |      Convert to a string according to format_spec.\n",
      " |  \n",
      " |  __ge__(self, value, /)\n",
      " |      Return self>=value.\n",
      " |  \n",
      " |  __getattribute__(self, name, /)\n",
      " |      Return getattr(self, name).\n",
      " |  \n",
      " |  __getnewargs__(self, /)\n",
      " |  \n",
      " |  __gt__(self, value, /)\n",
      " |      Return self>value.\n",
      " |  \n",
      " |  __hash__(self, /)\n",
      " |      Return hash(self).\n",
      " |  \n",
      " |  __le__(self, value, /)\n",
      " |      Return self<=value.\n",
      " |  \n",
      " |  __lt__(self, value, /)\n",
      " |      Return self<value.\n",
      " |  \n",
      " |  __mul__(self, value, /)\n",
      " |      Return self*value.\n",
      " |  \n",
      " |  __ne__(self, value, /)\n",
      " |      Return self!=value.\n",
      " |  \n",
      " |  __neg__(self, /)\n",
      " |      -self\n",
      " |  \n",
      " |  __pos__(self, /)\n",
      " |      +self\n",
      " |  \n",
      " |  __pow__(self, value, mod=None, /)\n",
      " |      Return pow(self, value, mod).\n",
      " |  \n",
      " |  __radd__(self, value, /)\n",
      " |      Return value+self.\n",
      " |  \n",
      " |  __repr__(self, /)\n",
      " |      Return repr(self).\n",
      " |  \n",
      " |  __rmul__(self, value, /)\n",
      " |      Return value*self.\n",
      " |  \n",
      " |  __rpow__(self, value, mod=None, /)\n",
      " |      Return pow(value, self, mod).\n",
      " |  \n",
      " |  __rsub__(self, value, /)\n",
      " |      Return value-self.\n",
      " |  \n",
      " |  __rtruediv__(self, value, /)\n",
      " |      Return value/self.\n",
      " |  \n",
      " |  __sub__(self, value, /)\n",
      " |      Return self-value.\n",
      " |  \n",
      " |  __truediv__(self, value, /)\n",
      " |      Return self/value.\n",
      " |  \n",
      " |  conjugate(self, /)\n",
      " |      Return the complex conjugate of its argument. (3-4j).conjugate() == 3+4j.\n",
      " |  \n",
      " |  ----------------------------------------------------------------------\n",
      " |  Static methods defined here:\n",
      " |  \n",
      " |  __new__(*args, **kwargs) from builtins.type\n",
      " |      Create and return a new object.  See help(type) for accurate signature.\n",
      " |  \n",
      " |  ----------------------------------------------------------------------\n",
      " |  Data descriptors defined here:\n",
      " |  \n",
      " |  imag\n",
      " |      the imaginary part of a complex number\n",
      " |  \n",
      " |  real\n",
      " |      the real part of a complex number\n",
      "\n"
     ]
    }
   ],
   "source": [
    "help(complex)"
   ]
  },
  {
   "cell_type": "code",
   "execution_count": 22,
   "id": "7a0bac89",
   "metadata": {},
   "outputs": [
    {
     "name": "stdout",
     "output_type": "stream",
     "text": [
      "50.26548245743669\n"
     ]
    }
   ],
   "source": [
    "import math # importing math module\n",
    "pi = math.pi\n",
    "r = 4\n",
    "area = pi*r**2\n",
    "print(area)"
   ]
  },
  {
   "cell_type": "code",
   "execution_count": 23,
   "id": "1633e348",
   "metadata": {},
   "outputs": [
    {
     "name": "stdout",
     "output_type": "stream",
     "text": [
      "abcd\n",
      "abcd\n",
      "abcd\n",
      "abcd\n"
     ]
    }
   ],
   "source": [
    "a = 'abcd'\n",
    "b = \"abcd\"\n",
    "c = '''abcd'''\n",
    "d = \"\"\"abcd\"\"\"\n",
    "print(a,b,c,d,sep='\\n')"
   ]
  },
  {
   "cell_type": "code",
   "execution_count": 24,
   "id": "b747a98d",
   "metadata": {},
   "outputs": [
    {
     "name": "stdout",
     "output_type": "stream",
     "text": [
      "I'm learning python\n"
     ]
    }
   ],
   "source": [
    "msg=\"I'm learning python\"\n",
    "print(msg)"
   ]
  },
  {
   "cell_type": "code",
   "execution_count": 26,
   "id": "3b8f8925",
   "metadata": {},
   "outputs": [
    {
     "name": "stdout",
     "output_type": "stream",
     "text": [
      "I\\'m learning python now\n",
      "\"Ram\n"
     ]
    }
   ],
   "source": [
    "rawstr = r\"I\\'m learning python now\" # r is called raw string\n",
    "rawstr1 = r'\"Ram'\n",
    "print(rawstr,rawstr1, sep='\\n')"
   ]
  },
  {
   "cell_type": "code",
   "execution_count": 27,
   "id": "3afaebf8",
   "metadata": {},
   "outputs": [
    {
     "name": "stdout",
     "output_type": "stream",
     "text": [
      "I am learning\n",
      "python now\n"
     ]
    }
   ],
   "source": [
    "multi1 = '''I am learning\n",
    "python now'''\n",
    "print(multi1)"
   ]
  },
  {
   "cell_type": "code",
   "execution_count": 28,
   "id": "7f205604",
   "metadata": {},
   "outputs": [
    {
     "name": "stdout",
     "output_type": "stream",
     "text": [
      "I am learning\n",
      "python now\n"
     ]
    }
   ],
   "source": [
    "multi1 = \"\"\"I am learning\n",
    "python now\"\"\"\n",
    "print(multi1)"
   ]
  },
  {
   "cell_type": "code",
   "execution_count": 29,
   "id": "c1d30804",
   "metadata": {},
   "outputs": [
    {
     "name": "stdout",
     "output_type": "stream",
     "text": [
      "b\n"
     ]
    }
   ],
   "source": [
    "#accessing the element of string\n",
    "a = 'Prabhat'\n",
    "print(a[3])"
   ]
  },
  {
   "cell_type": "code",
   "execution_count": 30,
   "id": "d3f9afc4",
   "metadata": {},
   "outputs": [
    {
     "name": "stdout",
     "output_type": "stream",
     "text": [
      "Prabhat\n"
     ]
    }
   ],
   "source": [
    "print(a)"
   ]
  },
  {
   "cell_type": "code",
   "execution_count": 32,
   "id": "763ae8ef",
   "metadata": {},
   "outputs": [
    {
     "name": "stdout",
     "output_type": "stream",
     "text": [
      "Prabhat\n",
      "tahbarP\n"
     ]
    }
   ],
   "source": [
    "print(a[:])\n",
    "print(a[::-1])"
   ]
  },
  {
   "cell_type": "code",
   "execution_count": 34,
   "id": "caa12f8d",
   "metadata": {},
   "outputs": [
    {
     "ename": "TypeError",
     "evalue": "'str' object does not support item assignment",
     "output_type": "error",
     "traceback": [
      "\u001b[1;31m---------------------------------------------------------------------------\u001b[0m",
      "\u001b[1;31mTypeError\u001b[0m                                 Traceback (most recent call last)",
      "Cell \u001b[1;32mIn[34], line 2\u001b[0m\n\u001b[0;32m      1\u001b[0m a \u001b[38;5;241m=\u001b[39m \u001b[38;5;124m'\u001b[39m\u001b[38;5;124mkite\u001b[39m\u001b[38;5;124m'\u001b[39m\n\u001b[1;32m----> 2\u001b[0m a[\u001b[38;5;241m0\u001b[39m] \u001b[38;5;241m=\u001b[39m \u001b[38;5;124m'\u001b[39m\u001b[38;5;124mL\u001b[39m\u001b[38;5;124m'\u001b[39m\n",
      "\u001b[1;31mTypeError\u001b[0m: 'str' object does not support item assignment"
     ]
    }
   ],
   "source": [
    "a = 'kite'\n",
    "a[0] = 'L'#error: string is not mutable"
   ]
  },
  {
   "cell_type": "code",
   "execution_count": null,
   "id": "d39dd925",
   "metadata": {},
   "outputs": [],
   "source": []
  }
 ],
 "metadata": {
  "kernelspec": {
   "display_name": "Python 3 (ipykernel)",
   "language": "python",
   "name": "python3"
  },
  "language_info": {
   "codemirror_mode": {
    "name": "ipython",
    "version": 3
   },
   "file_extension": ".py",
   "mimetype": "text/x-python",
   "name": "python",
   "nbconvert_exporter": "python",
   "pygments_lexer": "ipython3",
   "version": "3.11.4"
  }
 },
 "nbformat": 4,
 "nbformat_minor": 5
}
