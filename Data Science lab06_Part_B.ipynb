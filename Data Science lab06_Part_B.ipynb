{
 "cells": [
  {
   "cell_type": "markdown",
   "id": "1357f3b4",
   "metadata": {},
   "source": [
    "## Question 6"
   ]
  },
  {
   "cell_type": "markdown",
   "id": "1ec781bf",
   "metadata": {},
   "source": [
    " Create a base class Vehicle with the following attributes:\n",
    "\n",
    "- make (string)\n",
    "\n",
    "- model (string)\n",
    "\n",
    "- year (int)\n",
    "\n",
    "\n",
    "Create a method initialize_vehicle to set the above attributes. Also, create a method display_vehicle to print these attributes.\n",
    "\n",
    "Create a class Car inherited from Vehicle with the following additional attribute:\n",
    "\n",
    "- fuel_type (string)\n",
    "\n",
    "Create a method get_car_details to initialize the above attribute along with Vehicle attributes.\n",
    "\n",
    "Also, create a method display_vehicle to print these attributes along with Vehicle attributes.\n",
    "\n",
    "Create a class Bike inherited from Vehicle with the following additional attribute:\n",
    "\n",
    "- gear_count (int)\n",
    "\n",
    "Create a method get_bike_details to initialize the above attribute along with Vehicle attributes.\n",
    "\n",
    "Also, create a method display_vehicle to print these attributes along with Vehicle attributes.\n",
    "\n",
    "Create two different objects for Car and Bike and demonstrate each of the methods.\n",
    "\n",
    "1. Example:\n",
    "\n",
    "         my_car = Car()\n",
    "\n",
    "        my_car.get_car_details(\"Toyota\", \"Camry\", 2020, \"Petrol\")\n",
    "\n",
    "        my_car.display_vehicle()\n",
    "\n",
    "        Output:\n",
    "\n",
    "           Make: Toyota, Model: Camry, Year: 2020\n",
    "\n",
    "           Fuel Type: Petrol\n",
    "\n",
    "2. Example:\n",
    "\n",
    "           my_bike = Bike()\n",
    "\n",
    "           my_bike.get_bike_details(\"Yamaha\", \"YZF R1\", 2021, 6)\n",
    "\n",
    "           my_bike.display_vehicle()\n",
    "\n",
    "          Output:\n",
    "\n",
    "             Make: Yamaha, Model: YZF R1, Year: 2021\n",
    "\n",
    "             Gear Count: 6"
   ]
  },
  {
   "cell_type": "markdown",
   "id": "fa9016d9",
   "metadata": {},
   "source": [
    "## Solution"
   ]
  },
  {
   "cell_type": "code",
   "execution_count": 2,
   "id": "9b9fedd1",
   "metadata": {},
   "outputs": [],
   "source": [
    "# Creating base class 'vehicle'\n",
    "\n",
    "class Vehicle:\n",
    "    def __init__(self):  # Constructor method for initializing attributes\n",
    "        self.make = \"\"  # Initializing make attribute to an empty string\n",
    "        self.model = \"\"  # Initializing model attribute to an empty string\n",
    "        self.year = 0    # Initializing year attribute to 0\n",
    "\n",
    "    def initialize_vehicle(self, make, model, year):  # Method to set vehicle attributes\n",
    "        self.make = make    # Setting make attribute\n",
    "        self.model = model  # Setting model attribute\n",
    "        self.year = year    # Setting year attribute\n",
    "\n",
    "    def display_vehicle(self):  # Method to display vehicle details\n",
    "        print(f\"Make: {self.make}, Model: {self.model}, Year: {self.year}\")  # Displaying vehicle details"
   ]
  },
  {
   "cell_type": "code",
   "execution_count": 6,
   "id": "cc52269f",
   "metadata": {},
   "outputs": [],
   "source": [
    "# Creating inherited class 'Car' fro, base class 'vehicle'\n",
    "\n",
    "class Car(Vehicle):\n",
    "    def __init__(self):  # Constructor method for initializing attributes\n",
    "        super().__init__()  # Calling constructor of the base class\n",
    "        self.fuel_type = \"\"  # Initializing fuel_type attribute to an empty string\n",
    "\n",
    "    def get_car_details(self, make, model, year, fuel_type):  # Method to set car attributes\n",
    "        self.initialize_vehicle(make, model, year)  # Calling method from base class to set vehicle attributes\n",
    "        self.fuel_type = fuel_type  # Setting fuel_type attribute\n",
    "\n",
    "    def display_vehicle(self):  # Method to display car details\n",
    "        super().display_vehicle()  # Calling method from base class to display vehicle details\n",
    "        print(f\"Fuel Type: {self.fuel_type}\")  # Displaying fuel_type attribute"
   ]
  },
  {
   "cell_type": "code",
   "execution_count": 7,
   "id": "a5b05862",
   "metadata": {},
   "outputs": [],
   "source": [
    "# Creating inherited class 'Bike' from the class 'Car'\n",
    "\n",
    "class Bike(Vehicle):\n",
    "    def __init__(self):  # Constructor method for initializing attributes\n",
    "        super().__init__()  # Calling constructor of the base class\n",
    "        self.gear_count = 0  # Initializing gear_count attribute to 0\n",
    "\n",
    "    def get_bike_details(self, make, model, year, gear_count):  # Method to set bike attributes\n",
    "        self.initialize_vehicle(make, model, year)  # Calling method from base class to set vehicle attributes\n",
    "        self.gear_count = gear_count  # Setting gear_count attribute\n",
    "\n",
    "    def display_vehicle(self):  # Method to display bike details\n",
    "        super().display_vehicle()  # Calling method from base class to display vehicle details\n",
    "        print(f\"Gear Count: {self.gear_count}\")  # Displaying gear_count attribute"
   ]
  },
  {
   "cell_type": "code",
   "execution_count": 5,
   "id": "6519202e",
   "metadata": {},
   "outputs": [
    {
     "name": "stdout",
     "output_type": "stream",
     "text": [
      "Make: Toyota, Model: Camry, Year: 2020\n",
      "Fuel Type: Petrol\n",
      "Make: Yamaha, Model: YZF R1, Year: 2021\n",
      "Gear Count: 6\n"
     ]
    }
   ],
   "source": [
    "# Implementation by taking examples\n",
    "\n",
    "# Example 1\n",
    "my_car = Car()  # Creating an instance of Car class\n",
    "my_car.get_car_details(\"Toyota\", \"Camry\", 2020, \"Petrol\")  # Setting car details\n",
    "my_car.display_vehicle()  # Displaying car details\n",
    "\n",
    "# Example 2\n",
    "my_bike = Bike()  # Creating an instance of Bike class\n",
    "my_bike.get_bike_details(\"Yamaha\", \"YZF R1\", 2021, 6)  # Setting bike details\n",
    "my_bike.display_vehicle()  # Displaying bike details"
   ]
  },
  {
   "cell_type": "markdown",
   "id": "51ee3468",
   "metadata": {},
   "source": [
    "## Question 7"
   ]
  },
  {
   "cell_type": "markdown",
   "id": "00d856be",
   "metadata": {},
   "source": [
    "Suppose you are building a Python program to manage a school's student data. You need to create a Student class that contains information such as the student's name, age, grade, and class schedule. Additionally, there are some attributes that are shared by all students, such as the school name, the total number of students, and the number of classes offered.\n",
    "\n",
    "How can you use class variables in Python to define these shared attributes of the Student class? What are the advantages of using class variables in this scenario? Can you provide an example program that demonstrates the use of class variables in the Student class? "
   ]
  },
  {
   "cell_type": "markdown",
   "id": "3f84721f",
   "metadata": {},
   "source": [
    "## Solution"
   ]
  },
  {
   "cell_type": "markdown",
   "id": "d6698dae",
   "metadata": {},
   "source": [
    "Class variables in Python can be used to define attributes that are shared among all instances of a class. In the scenario of managing a school's student data, class variables can be utilized to store information that applies to all students, such as the school name, the total number of students, and the number of classes offered.\n",
    "\n",
    "Advantages of using class variables in this scenario:\n",
    "\n",
    "(a) $Shared$ $Information:$ Class variables ensure that common data is stored only once in memory and shared across all instances of the class, reducing memory usage.\n",
    "\n",
    "\n",
    "(b) $Consistency:$ Class variables maintain consistency across all instances, ensuring that all students have access to the same school-related information.\n",
    "\n",
    "(c) $Ease$ $of$ $Maintenance:$ If there are changes to shared attributes (e.g., school name), updating a class variable ensures that the change is reflected across all instances, simplifying maintenance.\n",
    "\n"
   ]
  },
  {
   "cell_type": "markdown",
   "id": "3d7954ef",
   "metadata": {},
   "source": [
    "### Example program to demonstrate the use of class variables in the Student class"
   ]
  },
  {
   "cell_type": "code",
   "execution_count": 37,
   "id": "e414b4f7",
   "metadata": {},
   "outputs": [],
   "source": [
    "class Student:\n",
    "    school_name = \"Oxford Public School, Ranchi\"  # Class variable for school name\n",
    "    total_students = 0  # Class variable for total number of students\n",
    "    total_classes = 5  # Class variable for total number of classes offered\n",
    "\n",
    "    def __init__(self, name, age, grade, schedule):\n",
    "        self.name = name  # Initializing instance variable for student's name\n",
    "        self.age = age  # Initializing instance variable for student's age\n",
    "        self.grade = grade  # Initializing instance variable for student's grade\n",
    "        self.schedule = schedule  # Initializing instance variable for student's class schedule\n",
    "        Student.total_students += 1  # Incrementing total_students class variable\n",
    "\n",
    "    def display_student_info(self):\n",
    "        print(f\"Name: {self.name}, Age: {self.age}, Grade: {self.grade}\")  # Displaying individual student information\n",
    "        print(\"Class Schedule:\")  # Displaying heading for class schedule\n",
    "        for day, subject in self.schedule.items():  # Iterating through class schedule\n",
    "            print(f\"{day}: {subject}\")  # Displaying each day and corresponding subject\n",
    "\n",
    "    @classmethod\n",
    "    def display_school_info(cls):\n",
    "        print(f\"School Name: {cls.school_name}\")  # Displaying school name using class variable\n",
    "        print(f\"Total Students: {cls.total_students}\")  # Displaying total number of students using class variable\n",
    "        print(f\"Total Classes Offered: {cls.total_classes}\")  # Displaying total classes offered using class variable"
   ]
  },
  {
   "cell_type": "code",
   "execution_count": 38,
   "id": "21875304",
   "metadata": {},
   "outputs": [
    {
     "name": "stdout",
     "output_type": "stream",
     "text": [
      "Student 1:\n",
      "Name: Prabhat, Age: 16, Grade: 11\n",
      "Class Schedule:\n",
      "Monday: Math\n",
      "Tuesday: Science\n",
      "\n",
      "Student 2:\n",
      "Name: Shubham, Age: 16, Grade: 11\n",
      "Class Schedule:\n",
      "Monday: History\n",
      "Wednesday: English\n",
      "\n",
      "School Information:\n",
      "School Name: Oxford Public School, Ranchi\n",
      "Total Students: 2\n",
      "Total Classes Offered: 5\n"
     ]
    }
   ],
   "source": [
    "# Implementation\n",
    "\n",
    "# Creating instances of Student class\n",
    "student1 = Student(\"Prabhat\", 16, 11, {\"Monday\": \"Math\", \"Tuesday\": \"Science\"})  # Creating first student instance\n",
    "student2 = Student(\"Shubham\", 16, 11, {\"Monday\": \"History\", \"Wednesday\": \"English\"})  # Creating second student instance\n",
    "\n",
    "# Displaying individual student information\n",
    "print(\"Student 1:\")  # Displaying student 1 header\n",
    "student1.display_student_info()  # Displaying student 1 info\n",
    "print(\"\\nStudent 2:\")  # Displaying student 2 header\n",
    "student2.display_student_info()  # Displaying student 2 info\n",
    "\n",
    "# Displaying school information using class method\n",
    "print(\"\\nSchool Information:\")  # Displaying school information header\n",
    "Student.display_school_info()  # Displaying school information"
   ]
  },
  {
   "cell_type": "markdown",
   "id": "fc1f3b67",
   "metadata": {},
   "source": [
    "## Question 8"
   ]
  },
  {
   "cell_type": "markdown",
   "id": "75af769a",
   "metadata": {},
   "source": [
    "Class Inheritance in Python: Finding GCD (greatest common divisor) and LCM (least common multiple) of Numbers and Handling Composite Numbers.\n",
    "\n",
    "\n",
    "a) Create a Numbers class with a, b, find_gcd(), and find_lcm() methods.\n",
    "\n",
    "b) Create an EvenNumbers class that inherits from Numbers and overrides find_lcm() to handle even numbers.\n",
    "\n",
    "c) Create an OddNumbers class that inherits from Numbers and overrides find_lcm() to handle odd numbers.\n",
    "\n",
    "d) Create a CompositeNumbers class that inherits from EvenNumbers and OddNumbers and overrides find_gcd() to handle composite numbers.\n",
    "\n",
    "e) Create a CompositeNumbers object with a = 12 and b = 9, and call its find_lcm() and find_gcd() methods."
   ]
  },
  {
   "cell_type": "markdown",
   "id": "d54528ce",
   "metadata": {},
   "source": [
    "## Solution"
   ]
  },
  {
   "cell_type": "markdown",
   "id": "23921c8b",
   "metadata": {},
   "source": [
    "### (a)"
   ]
  },
  {
   "cell_type": "code",
   "execution_count": 29,
   "id": "a7407d42",
   "metadata": {},
   "outputs": [],
   "source": [
    "class Numbers:\n",
    "    def __init__(self, a, b):  # Constructor method to initialize attributes\n",
    "        self.a = a  # Initializing first number\n",
    "        self.b = b  # Initializing second number\n",
    "\n",
    "    def find_gcd(self):  # Method to find the greatest common divisor\n",
    "        a = self.a  # Assigning first number to a\n",
    "        b = self.b  # Assigning second number to b\n",
    "        while b:  # Loop until b is not zero\n",
    "            a, b = b, a % b  # Swapping and updating values of a and b\n",
    "        return a  # Returning the GCD\n",
    "\n",
    "    def find_lcm(self):  # Method to find the least common multiple\n",
    "        return (self.a * self.b) // self.find_gcd()  # Returning the LCM using GCD"
   ]
  },
  {
   "cell_type": "markdown",
   "id": "c1a7bc7b",
   "metadata": {},
   "source": [
    "### (b)"
   ]
  },
  {
   "cell_type": "code",
   "execution_count": 30,
   "id": "759cd7e2",
   "metadata": {},
   "outputs": [],
   "source": [
    "class EvenNumbers(Numbers):\n",
    "    def find_lcm(self):  # Overriding find_lcm method to handle even numbers\n",
    "        return super().find_lcm()  # Calling parent class method to find LCM"
   ]
  },
  {
   "cell_type": "markdown",
   "id": "10732c4d",
   "metadata": {},
   "source": [
    "### (c)"
   ]
  },
  {
   "cell_type": "code",
   "execution_count": 31,
   "id": "d9f24599",
   "metadata": {},
   "outputs": [],
   "source": [
    "class OddNumbers(Numbers):\n",
    "    def find_lcm(self):  # Overriding find_lcm method to handle odd numbers\n",
    "        return super().find_lcm()  # Calling parent class method to find LCM"
   ]
  },
  {
   "cell_type": "markdown",
   "id": "68ecc450",
   "metadata": {},
   "source": [
    "### (d)"
   ]
  },
  {
   "cell_type": "code",
   "execution_count": 32,
   "id": "f9825073",
   "metadata": {},
   "outputs": [],
   "source": [
    "class CompositeNumbers(EvenNumbers, OddNumbers):\n",
    "    def find_gcd(self):  # Overriding find_gcd method to handle composite numbers\n",
    "        return super().find_gcd()  # Calling parent class method to find GCD"
   ]
  },
  {
   "cell_type": "markdown",
   "id": "9a107c9d",
   "metadata": {},
   "source": [
    "### (e)"
   ]
  },
  {
   "cell_type": "code",
   "execution_count": 35,
   "id": "0b6db181",
   "metadata": {},
   "outputs": [
    {
     "name": "stdout",
     "output_type": "stream",
     "text": [
      "LCM: 84\n",
      "GCD: 1\n"
     ]
    }
   ],
   "source": [
    "# Create a CompositeNumbers object and call its methods\n",
    "composite_numbers = CompositeNumbers(12, 7)  # Creating an instance of CompositeNumbers with given numbers\n",
    "lcm = composite_numbers.find_lcm()  # Calculating LCM\n",
    "gcd = composite_numbers.find_gcd()  # Calculating GCD\n",
    "print(\"LCM:\", lcm)  # Printing LCM\n",
    "print(\"GCD:\", gcd)  # Printing GCD"
   ]
  },
  {
   "cell_type": "markdown",
   "id": "2f59f5db",
   "metadata": {},
   "source": [
    "## Question 9"
   ]
  },
  {
   "cell_type": "markdown",
   "id": "91ece115",
   "metadata": {},
   "source": [
    "WAP to manage the collections of books in a library in the following  manner:\n",
    "\n",
    "Create a Python script that can both read from and write to a CSV file, containing details about each book. Each book's information will include its title, author, publication year, and ISBN number. Your script should be capable of adding new books to the CSV file and listing all the books currently stored in the file.\n",
    "\n",
    "The program should begin by checking if the CSV file exists. If it does not, your script should create it and initialize it with the appropriate headers. Then, there should be 2 options: to add a new book or to display all books. When adding a new book, the user should be prompted to enter the title, author, publication year, and ISBN number. This new book should then be added to the CSV file without overwriting the existing entries. When choosing to display all books, the script should read from the CSV file and print each book's details."
   ]
  },
  {
   "cell_type": "markdown",
   "id": "bdc4e1cd",
   "metadata": {},
   "source": [
    "## Solution"
   ]
  },
  {
   "cell_type": "code",
   "execution_count": 41,
   "id": "73e6f7eb",
   "metadata": {},
   "outputs": [],
   "source": [
    "import csv  # Importing the csv module to work with CSV files\n",
    "import os  # Importing the os module for file operations\n",
    "\n",
    "def create_csv_file(file_name):  # Function to create a new CSV file with headers\n",
    "    with open(file_name, 'w', newline='') as file:  # Opening the file in write mode\n",
    "        writer = csv.writer(file)  # Creating a csv writer object\n",
    "        writer.writerow([\"Title\", \"Author\", \"Publication Year\", \"ISBN\"])  # Writing headers to the file\n",
    "\n",
    "def add_book(file_name, book_info):  # Function to add a new book to the CSV file\n",
    "    with open(file_name, 'a', newline='') as file:  # Opening the file in append mode\n",
    "        writer = csv.writer(file)  # Creating a csv writer object\n",
    "        writer.writerow(book_info)  # Writing book information to the file\n",
    "\n",
    "def display_books(file_name):  # Function to display all books stored in the CSV file\n",
    "    with open(file_name, 'r') as file:  # Opening the file in read mode\n",
    "        reader = csv.reader(file)  # Creating a csv reader object\n",
    "        for row in reader:  # Iterating through each row in the file\n",
    "            print(row)  # Printing each row (book details)"
   ]
  },
  {
   "cell_type": "code",
   "execution_count": 42,
   "id": "83043447",
   "metadata": {},
   "outputs": [
    {
     "name": "stdout",
     "output_type": "stream",
     "text": [
      "CSV file created.\n",
      "\n",
      "Options:\n",
      "1. Add a new book\n",
      "2. Display all books\n",
      "3. Exit\n",
      "Enter your choice: 1\n",
      "Enter the title of the book: Machine Learning\n",
      "Enter the author of the book: Tom Mitchell\n",
      "Enter the publication year of the book: 2017\n",
      "Enter the ISBN number of the book: 1259096955\n",
      "Book added successfully.\n",
      "\n",
      "Options:\n",
      "1. Add a new book\n",
      "2. Display all books\n",
      "3. Exit\n",
      "Enter your choice: 2\n",
      "Books in the library:\n",
      "['Title', 'Author', 'Publication Year', 'ISBN']\n",
      "['Machine Learning', 'Tom Mitchell', '2017', '1259096955']\n",
      "\n",
      "Options:\n",
      "1. Add a new book\n",
      "2. Display all books\n",
      "3. Exit\n",
      "Enter your choice: 3\n",
      "Exiting the program.\n"
     ]
    }
   ],
   "source": [
    "def main():  # Main function to manage the library book collection\n",
    "    file_name = \"library_books1.csv\"  # Name of the CSV file\n",
    "    \n",
    "    if not os.path.exists(file_name):  # Checking if the CSV file exists\n",
    "        create_csv_file(file_name)  # Creating the CSV file if it doesn't exist\n",
    "        print(\"CSV file created.\")  # Displaying a message confirming file creation\n",
    "\n",
    "    while True:  # Looping until user chooses to exit\n",
    "        print(\"\\nOptions:\")  # Displaying options for the user\n",
    "        print(\"1. Add a new book\")  # Option to add a new book\n",
    "        print(\"2. Display all books\")  # Option to display all books\n",
    "        print(\"3. Exit\")  # Option to exit the program\n",
    "\n",
    "        choice = input(\"Enter your choice: \")  # Prompting user to enter their choice\n",
    "\n",
    "        if choice == '1':  # If user chooses to add a new book\n",
    "            title = input(\"Enter the title of the book: \")  # Getting title of the book from user\n",
    "            author = input(\"Enter the author of the book: \")  # Getting author of the book from user\n",
    "            publication_year = input(\"Enter the publication year of the book: \")  # Getting publication year from user\n",
    "            isbn = input(\"Enter the ISBN number of the book: \")  # Getting ISBN number from user\n",
    "            book_info = [title, author, publication_year, isbn]  # Creating a list with book information\n",
    "            add_book(file_name, book_info)  # Adding the new book to the CSV file\n",
    "            print(\"Book added successfully.\")  # Displaying a success message\n",
    "        elif choice == '2':  # If user chooses to display all books\n",
    "            print(\"Books in the library:\")  # Displaying header\n",
    "            display_books(file_name)  # Displaying all books stored in the CSV file\n",
    "        elif choice == '3':  # If user chooses to exit the program\n",
    "            print(\"Exiting the program.\")  # Displaying exit message\n",
    "            break  # Exiting the loop and ending the program\n",
    "        else:  # If user enters an invalid choice\n",
    "            print(\"Invalid choice. Please enter a valid option.\")  # Displaying an error message\n",
    "\n",
    "if __name__ == \"__main__\":  # Checking if the script is being run directly\n",
    "    main()  # Calling the main function to start the program"
   ]
  },
  {
   "cell_type": "markdown",
   "id": "c28ef31f",
   "metadata": {},
   "source": [
    "## Question 10"
   ]
  },
  {
   "cell_type": "markdown",
   "id": "7f49b89e",
   "metadata": {},
   "source": [
    "WAP to create a pandas dataframe with a list of words and sort them in ascending order. The sorted words should be copied to a new file."
   ]
  },
  {
   "cell_type": "markdown",
   "id": "52fea1a8",
   "metadata": {},
   "source": [
    "## Solution"
   ]
  },
  {
   "cell_type": "code",
   "execution_count": 43,
   "id": "eda6f228",
   "metadata": {},
   "outputs": [
    {
     "name": "stdout",
     "output_type": "stream",
     "text": [
      "Sorted words saved to 'sorted_words.csv' file.\n"
     ]
    }
   ],
   "source": [
    "import pandas as pd  # Importing pandas library\n",
    "\n",
    "# List of words\n",
    "words = ['apple', 'banana', 'orange', 'grape', 'kiwi']\n",
    "\n",
    "# Creating a pandas DataFrame from the list of words\n",
    "df = pd.DataFrame(words, columns=['Words'])\n",
    "\n",
    "# Sorting the words in ascending order\n",
    "sorted_words = df['Words'].sort_values()\n",
    "\n",
    "# Creating a new DataFrame with the sorted words\n",
    "sorted_df = pd.DataFrame(sorted_words, columns=['Words'])\n",
    "\n",
    "# Writing the sorted words to a new file\n",
    "sorted_df.to_csv('sorted_words.csv', index=False)\n",
    "\n",
    "print(\"Sorted words saved to 'sorted_words.csv' file.\")"
   ]
  },
  {
   "cell_type": "code",
   "execution_count": null,
   "id": "95a8061f",
   "metadata": {},
   "outputs": [],
   "source": []
  }
 ],
 "metadata": {
  "kernelspec": {
   "display_name": "Python 3 (ipykernel)",
   "language": "python",
   "name": "python3"
  },
  "language_info": {
   "codemirror_mode": {
    "name": "ipython",
    "version": 3
   },
   "file_extension": ".py",
   "mimetype": "text/x-python",
   "name": "python",
   "nbconvert_exporter": "python",
   "pygments_lexer": "ipython3",
   "version": "3.11.4"
  }
 },
 "nbformat": 4,
 "nbformat_minor": 5
}
