{
 "cells": [
  {
   "cell_type": "markdown",
   "id": "f0b5c8cd",
   "metadata": {},
   "source": [
    "## Question 6"
   ]
  },
  {
   "cell_type": "markdown",
   "id": "db7c4503",
   "metadata": {},
   "source": [
    "Store the employee IDs, names, salaries, and years of experience using nested dictionaries (the key of the highest level dictionary can be the employee ID). \n",
    "\n",
    "a) Sort this dictionary using the salary value. \n",
    "\n",
    "b) Add a new employee to the dictionary in the correct position (sorted as mentioned above)."
   ]
  },
  {
   "cell_type": "markdown",
   "id": "8bbee0d5",
   "metadata": {},
   "source": [
    "## Solution"
   ]
  },
  {
   "cell_type": "code",
   "execution_count": 1,
   "id": "2ac103bb",
   "metadata": {},
   "outputs": [],
   "source": [
    "#creating dictionary of dictionaries\n",
    "\n",
    "employee_dict = {\n",
    "    1: {'name': 'Abhishek', 'salary': 60000, 'experience': 2},\n",
    "    2: {'name': 'Bipul', 'salary': 75000, 'experience': 5},\n",
    "    3: {'name': 'Chandan', 'salary': 50000, 'experience': 3}\n",
    "}    #here key of highest level dictionary is employee id"
   ]
  },
  {
   "cell_type": "markdown",
   "id": "90f19ceb",
   "metadata": {},
   "source": [
    "### (a)"
   ]
  },
  {
   "cell_type": "code",
   "execution_count": 2,
   "id": "1da4f01b",
   "metadata": {},
   "outputs": [
    {
     "name": "stdout",
     "output_type": "stream",
     "text": [
      "{3: {'name': 'Chandan', 'salary': 50000, 'experience': 3}, 1: {'name': 'Abhishek', 'salary': 60000, 'experience': 2}, 2: {'name': 'Bipul', 'salary': 75000, 'experience': 5}}\n"
     ]
    }
   ],
   "source": [
    "# Sort the dictionary by salary\n",
    "sorted_dict = dict(sorted(employee_dict.items(), key=lambda item: item[1]['salary']))#using lambda function as the sorting key\n",
    "\n",
    "print(sorted_dict)"
   ]
  },
  {
   "cell_type": "markdown",
   "id": "b61cb363",
   "metadata": {},
   "source": [
    "### (b)"
   ]
  },
  {
   "cell_type": "code",
   "execution_count": 4,
   "id": "1b9bfd87",
   "metadata": {
    "scrolled": true
   },
   "outputs": [
    {
     "name": "stdout",
     "output_type": "stream",
     "text": [
      "{3: {'name': 'Chandan', 'salary': 50000, 'experience': 3}, 1: {'name': 'Abhishek', 'salary': 60000, 'experience': 2}, 4: {'name': 'Deepak', 'salary': 65000, 'experience': 4}, 2: {'name': 'Bipul', 'salary': 75000, 'experience': 5}}\n"
     ]
    }
   ],
   "source": [
    "# Adding a new employee to the dictionary\n",
    "\n",
    "new_employee_id = 4\n",
    "new_employee_details = {'name': 'Deepak', 'salary': 65000, 'experience': 4}\n",
    "employee_dict[new_employee_id] = new_employee_details\n",
    "\n",
    "#again sorting after adding new employee detail\n",
    "sorted_dict = dict(sorted(employee_dict.items(), key=lambda item: item[1]['salary']))\n",
    "\n",
    "print(sorted_dict)"
   ]
  },
  {
   "cell_type": "markdown",
   "id": "0679e9f3",
   "metadata": {},
   "source": [
    "## Question 7"
   ]
  },
  {
   "cell_type": "markdown",
   "id": "3c3be168",
   "metadata": {},
   "source": [
    "You are given two Python dictionaries, A and B, with keys as alphabets and values as random integers. Write a Python function to create a third dictionary C, that combines A and B. For common keys, the value in C should be the sum of values from A and B. \n",
    "\n",
    "For example, if dictionary A is {\"a\": 3, \"b\": 5, \"c\": 7} and dictionary B is {\"b\": 2, \"c\": 4, \"d\": 6}, the function should return a dictionary C that looks like {\"a\": 3, \"b\": 7, \"c\": 11, \"d\": 6}."
   ]
  },
  {
   "cell_type": "markdown",
   "id": "1f0a3762",
   "metadata": {},
   "source": [
    "## Solution"
   ]
  },
  {
   "cell_type": "code",
   "execution_count": 8,
   "id": "39389b7a",
   "metadata": {},
   "outputs": [],
   "source": [
    "#defining the function\n",
    "\n",
    "def merge_dict(A,B):\n",
    "    C = {} #creating empty dictionary\n",
    "    \n",
    "    keys = set(A.keys()).union(set(B.keys())) #combining keys using .union() method\n",
    "    \n",
    "    for key in keys: #iterating over each key\n",
    "        value_A = A.get(key, 0)\n",
    "        value_B = B.get(key, 0)\n",
    "        C[key] = value_A + value_B #calculating the value of key in C\n",
    "    return C"
   ]
  },
  {
   "cell_type": "code",
   "execution_count": 11,
   "id": "34aa7a78",
   "metadata": {},
   "outputs": [
    {
     "name": "stdout",
     "output_type": "stream",
     "text": [
      "{'b': 7, 'd': 6, 'c': 11, 'a': 3}\n"
     ]
    }
   ],
   "source": [
    "#implementation\n",
    "\n",
    "# Example dictionaries A and B\n",
    "A = {\"a\": 3, \"b\": 5, \"c\": 7}\n",
    "B = {\"b\": 2, \"c\": 4, \"d\": 6}\n",
    "\n",
    "# Combining dictionaries A and B by calling the function\n",
    "C = merge_dict(A, B)\n",
    "print(C)"
   ]
  },
  {
   "cell_type": "markdown",
   "id": "e7471da9",
   "metadata": {},
   "source": [
    "## Question 8"
   ]
  },
  {
   "cell_type": "markdown",
   "id": "0cf65fcd",
   "metadata": {},
   "source": [
    "Assume you have a list of lists, where each inner list contains two elements: a key and a value. Write a Python function that takes the list of lists as input and returns a list of dictionaries, where each dictionary contains a key-value pair from the original input list."
   ]
  },
  {
   "cell_type": "markdown",
   "id": "dcd87b76",
   "metadata": {},
   "source": [
    "## Solution"
   ]
  },
  {
   "cell_type": "code",
   "execution_count": 10,
   "id": "03deb04c",
   "metadata": {},
   "outputs": [],
   "source": [
    "#function definition\n",
    "def ListToDict(listoflists):\n",
    "    result = [] #creating empty list to store dictionaries\n",
    "    \n",
    "    for inner_list in list_of_lists:\n",
    "        if len(inner_list) == 2:  #Checking if the inner list has exactly two elements or not\n",
    "            key, value = inner_list\n",
    "            result.append({key: value})\n",
    "        else:\n",
    "            print(\"Inner list should contain exactly two elements.\")\n",
    "    return result"
   ]
  },
  {
   "cell_type": "code",
   "execution_count": 14,
   "id": "5055e12f",
   "metadata": {},
   "outputs": [
    {
     "name": "stdout",
     "output_type": "stream",
     "text": [
      "List of dictionaries is given by:\n",
      "[{'a': 1}, {'b': 2}, {'c': 3}]\n"
     ]
    }
   ],
   "source": [
    "#implementation\n",
    "\n",
    "list_of_lists = [['a', 1], ['b', 2], ['c', 3]]  #example input list of lists\n",
    "\n",
    "list_of_dicts = ListToDict(list_of_lists)  #calling the function to convert list of lists to list of dictionaries\n",
    "print('List of dictionaries is given by:', list_of_dicts, sep = '\\n')"
   ]
  },
  {
   "cell_type": "markdown",
   "id": "bd1d112c",
   "metadata": {},
   "source": [
    "## Question 9"
   ]
  },
  {
   "cell_type": "markdown",
   "id": "899d77dd",
   "metadata": {},
   "source": [
    " Illustrate the usage of positional and keyword arguments using suitable examples."
   ]
  },
  {
   "cell_type": "markdown",
   "id": "6319aee9",
   "metadata": {},
   "source": [
    "## Solution"
   ]
  },
  {
   "cell_type": "markdown",
   "id": "af31661a",
   "metadata": {},
   "source": [
    "### Positional Arguments"
   ]
  },
  {
   "cell_type": "markdown",
   "id": "e7571fe3",
   "metadata": {},
   "source": [
    "$Definition:$\n",
    "\n",
    "Positional arguments are passed to a function based on their position or order. The function parameters are matched with the arguments based on the order in which they are passed."
   ]
  },
  {
   "cell_type": "markdown",
   "id": "d1094ce7",
   "metadata": {},
   "source": [
    "$Example:$"
   ]
  },
  {
   "cell_type": "code",
   "execution_count": 15,
   "id": "0c4386b3",
   "metadata": {},
   "outputs": [
    {
     "name": "stdout",
     "output_type": "stream",
     "text": [
      "Hello, Prabhat! You are 25 years old.\n"
     ]
    }
   ],
   "source": [
    "def greet(name, age):\n",
    "    print(f\"Hello, {name}! You are {age} years old.\")\n",
    "\n",
    "# Positional arguments\n",
    "greet(\"Prabhat\", 25)  # \"Prabhat\" matches with name, and 25 matches with age"
   ]
  },
  {
   "cell_type": "markdown",
   "id": "fcd6cf69",
   "metadata": {},
   "source": [
    "### Keywords Argument"
   ]
  },
  {
   "cell_type": "markdown",
   "id": "401ed900",
   "metadata": {},
   "source": [
    "$Definition:$\n",
    "\n",
    "Keyword arguments are passed to a function with their corresponding parameter names. The order in which they are passed doesn't matter."
   ]
  },
  {
   "cell_type": "markdown",
   "id": "b73f5f5c",
   "metadata": {},
   "source": [
    "$Example :$"
   ]
  },
  {
   "cell_type": "code",
   "execution_count": 16,
   "id": "29fde83f",
   "metadata": {},
   "outputs": [
    {
     "name": "stdout",
     "output_type": "stream",
     "text": [
      "Hello, Abhishek! You are 25 years old.\n"
     ]
    }
   ],
   "source": [
    "greet(age=25, name=\"Abhishek\")  # Here, the order of arguments is different from the function definition"
   ]
  },
  {
   "cell_type": "markdown",
   "id": "25538852",
   "metadata": {},
   "source": [
    "## Question 10"
   ]
  },
  {
   "cell_type": "markdown",
   "id": "f66241f4",
   "metadata": {},
   "source": [
    "Write a function to find the maximum of n numbers using variable length positional arguments."
   ]
  },
  {
   "cell_type": "markdown",
   "id": "46b22ed1",
   "metadata": {},
   "source": [
    "## Solution"
   ]
  },
  {
   "cell_type": "code",
   "execution_count": 17,
   "id": "b0d387d8",
   "metadata": {},
   "outputs": [],
   "source": [
    "#Function definition\n",
    "\n",
    "def MAX(*args):  #*args allows us to put any number of positional arguments\n",
    "    if not args:\n",
    "        return None  #returning None if no arguments are provided\n",
    "    max_num = args[0]  #initialising max_num with first argument\n",
    "    for num in args[1:]:\n",
    "        if num > max_num:\n",
    "            max_num = num\n",
    "        return max_num"
   ]
  },
  {
   "cell_type": "code",
   "execution_count": 22,
   "id": "79fa4ca5",
   "metadata": {},
   "outputs": [
    {
     "name": "stdout",
     "output_type": "stream",
     "text": [
      "6\n",
      "10\n",
      "None\n"
     ]
    }
   ],
   "source": [
    "#implementation\n",
    "\n",
    "print(MAX(3, 6, 2, 4))  # 4 arguments\n",
    "print(MAX(10, 5, 7))    # 3 arguments\n",
    "print(MAX())             # no arguments"
   ]
  },
  {
   "cell_type": "markdown",
   "id": "1c81cdef",
   "metadata": {},
   "source": [
    "## Question 11"
   ]
  },
  {
   "cell_type": "markdown",
   "id": "cd5a4609",
   "metadata": {},
   "source": [
    " Write a function to concatenate n strings using variable length keyword arguments."
   ]
  },
  {
   "cell_type": "markdown",
   "id": "3dc582aa",
   "metadata": {},
   "source": [
    "## Solution"
   ]
  },
  {
   "cell_type": "code",
   "execution_count": 20,
   "id": "66cd3191",
   "metadata": {},
   "outputs": [],
   "source": [
    "#function definition\n",
    "\n",
    "def concatenate_strings(**kwargs):  # **kwargs allows us to pass any number of keyword arguments to the function.\n",
    "    return ''.join(kwargs.values())"
   ]
  },
  {
   "cell_type": "code",
   "execution_count": 21,
   "id": "84a86084",
   "metadata": {},
   "outputs": [
    {
     "name": "stdout",
     "output_type": "stream",
     "text": [
      "Hello, I am learning python.\n"
     ]
    }
   ],
   "source": [
    "#implementation\n",
    "\n",
    "result = concatenate_strings(a=\"Hello, \", b=\"I \", c=\"am \", d=\"learning \", e='python.')\n",
    "print(result)"
   ]
  }
 ],
 "metadata": {
  "kernelspec": {
   "display_name": "Python 3 (ipykernel)",
   "language": "python",
   "name": "python3"
  },
  "language_info": {
   "codemirror_mode": {
    "name": "ipython",
    "version": 3
   },
   "file_extension": ".py",
   "mimetype": "text/x-python",
   "name": "python",
   "nbconvert_exporter": "python",
   "pygments_lexer": "ipython3",
   "version": "3.11.4"
  }
 },
 "nbformat": 4,
 "nbformat_minor": 5
}
