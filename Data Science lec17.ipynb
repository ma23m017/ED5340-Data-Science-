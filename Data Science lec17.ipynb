{
 "cells": [
  {
   "cell_type": "markdown",
   "id": "e5b47c2d",
   "metadata": {},
   "source": [
    "### Libraries"
   ]
  },
  {
   "cell_type": "markdown",
   "id": "8dc08603",
   "metadata": {},
   "source": [
    "1. Pandas\n",
    "2. Numpy\n",
    "3. matplotlib\n",
    "4. Scikit-Learn\n",
    "5. Scipy"
   ]
  },
  {
   "cell_type": "code",
   "execution_count": 1,
   "id": "613eda55",
   "metadata": {},
   "outputs": [],
   "source": [
    "#how to draw a line??"
   ]
  },
  {
   "cell_type": "code",
   "execution_count": 2,
   "id": "59e826a5",
   "metadata": {},
   "outputs": [],
   "source": [
    "#Q. How to create a window??"
   ]
  },
  {
   "cell_type": "code",
   "execution_count": 3,
   "id": "12ec3afa",
   "metadata": {},
   "outputs": [],
   "source": [
    "#Q. What is dataframe??"
   ]
  },
  {
   "cell_type": "code",
   "execution_count": 5,
   "id": "d58f8c79",
   "metadata": {},
   "outputs": [],
   "source": [
    "import pandas as pd\n",
    "df = pd.read_csv('messages.csv')"
   ]
  },
  {
   "cell_type": "code",
   "execution_count": 6,
   "id": "0224bffc",
   "metadata": {},
   "outputs": [
    {
     "name": "stdout",
     "output_type": "stream",
     "text": [
      "                  This is message 1 \n",
      "0          My name is Prabhat Kumar \n",
      "1  I am from Mathematics department \n"
     ]
    }
   ],
   "source": [
    "print(df)"
   ]
  },
  {
   "cell_type": "code",
   "execution_count": 12,
   "id": "86138a92",
   "metadata": {},
   "outputs": [],
   "source": [
    "df = pd.read_csv(\"RAW_DATASET_state_weather_aqi_data.csv\")"
   ]
  },
  {
   "cell_type": "code",
   "execution_count": 10,
   "id": "6194312a",
   "metadata": {},
   "outputs": [
    {
     "name": "stdout",
     "output_type": "stream",
     "text": [
      "               state               city  \\\n",
      "0     Andhra_Pradesh          Amaravati   \n",
      "1     Andhra_Pradesh  Rajamahendravaram   \n",
      "2     Andhra_Pradesh           Tirupati   \n",
      "3     Andhra_Pradesh      Visakhapatnam   \n",
      "4     Andhra_Pradesh          Amaravati   \n",
      "...              ...                ...   \n",
      "1568     West_Bengal            Kolkata   \n",
      "1569     West_Bengal            Kolkata   \n",
      "1570     West_Bengal            Kolkata   \n",
      "1571     West_Bengal            Kolkata   \n",
      "1572     West_Bengal           Siliguri   \n",
      "\n",
      "                                             station        date      time  \\\n",
      "0                     Secretariat, Amaravati - APPCB  03-01-2020  10:00:00   \n",
      "1     Anand Kala Kshetram, Rajamahendravaram - APPCB  03-01-2020  10:00:00   \n",
      "2                         Tirumala, Tirupati - APPCB  03-01-2020  10:00:00   \n",
      "3             GVM Corporation, Visakhapatnam - APPCB  03-01-2020  10:00:00   \n",
      "4                     Secretariat, Amaravati - APPCB  05-01-2020  06:00:00   \n",
      "...                                              ...         ...       ...   \n",
      "1568                       Jadavpur, Kolkata - WBPCB  07-01-2020  03:00:00   \n",
      "1569    Rabindra Bharati University, Kolkata - WBPCB  07-01-2020  03:00:00   \n",
      "1570               Rabindra Sarobar, Kolkata - WBPCB  07-01-2020  03:00:00   \n",
      "1571                       Victoria, Kolkata - WBPCB  07-01-2020  03:00:00   \n",
      "1572              Ward-32 Bapupara, Siliguri - WBPCB  07-01-2020  03:00:00   \n",
      "\n",
      "      PM2.5   PM10   NO2   NH3   SO2    CO  OZONE    AQI Predominant_Parameter  \n",
      "0      68.0   64.0  17.0   4.0  28.0  31.0   40.0   68.0                 PM2.5  \n",
      "1      67.0   70.0  23.0   2.0  13.0  49.0   77.0   77.0                 OZONE  \n",
      "2      32.0    NaN  26.0   5.0   6.0  19.0   16.0   32.0                 PM2.5  \n",
      "3      93.0   93.0  31.0   3.0   9.0  57.0   61.0   93.0                  PM10  \n",
      "4      60.0   55.0  20.0   5.0  18.0  29.0   53.0   60.0                 PM2.5  \n",
      "...     ...    ...   ...   ...   ...   ...    ...    ...                   ...  \n",
      "1568  163.0  142.0  57.0   7.0  10.0  39.0    8.0  163.0                 PM2.5  \n",
      "1569  279.0  215.0  78.0  11.0  23.0  31.0   53.0  279.0                 PM2.5  \n",
      "1570  162.0  136.0  43.0   4.0  16.0  34.0   44.0  162.0                 PM2.5  \n",
      "1571  213.0  152.0  55.0   5.0  11.0  95.0   64.0  213.0                 PM2.5  \n",
      "1572  199.0  166.0  60.0   7.0   6.0  29.0   36.0  199.0                 PM2.5  \n",
      "\n",
      "[1573 rows x 14 columns]\n"
     ]
    }
   ],
   "source": [
    "print(df)"
   ]
  },
  {
   "cell_type": "code",
   "execution_count": 14,
   "id": "8bad225e",
   "metadata": {},
   "outputs": [],
   "source": [
    "#doubt: How to use usecols??"
   ]
  },
  {
   "cell_type": "code",
   "execution_count": 15,
   "id": "ae1ec8ab",
   "metadata": {},
   "outputs": [],
   "source": [
    "#numpy"
   ]
  },
  {
   "cell_type": "code",
   "execution_count": 16,
   "id": "5d1de71c",
   "metadata": {},
   "outputs": [],
   "source": [
    "#similar to array but works 50 times faster\n",
    "#contigous memory locations"
   ]
  },
  {
   "cell_type": "code",
   "execution_count": 17,
   "id": "f5b71e52",
   "metadata": {},
   "outputs": [],
   "source": [
    "import numpy as np"
   ]
  },
  {
   "cell_type": "code",
   "execution_count": 19,
   "id": "51a376f5",
   "metadata": {},
   "outputs": [
    {
     "name": "stdout",
     "output_type": "stream",
     "text": [
      "1335411653488 1335411584432\n",
      "4 (4,)\n"
     ]
    }
   ],
   "source": [
    "arr = np.array([1,2,3,4,5])\n",
    "\n",
    "print(id(arr),id(arr[0]))\n",
    "print(arr.itemsize,arr.strides) #what is strides"
   ]
  },
  {
   "cell_type": "code",
   "execution_count": 20,
   "id": "0682da95",
   "metadata": {},
   "outputs": [
    {
     "name": "stdout",
     "output_type": "stream",
     "text": [
      "<class 'numpy.ndarray'>\n"
     ]
    }
   ],
   "source": [
    "print(type(arr))"
   ]
  },
  {
   "cell_type": "code",
   "execution_count": 21,
   "id": "95a1934a",
   "metadata": {},
   "outputs": [
    {
     "name": "stdout",
     "output_type": "stream",
     "text": [
      "[1 2 3 4 5]\n"
     ]
    }
   ],
   "source": [
    "print(arr)"
   ]
  },
  {
   "cell_type": "code",
   "execution_count": 23,
   "id": "70845e7b",
   "metadata": {},
   "outputs": [
    {
     "name": "stdout",
     "output_type": "stream",
     "text": [
      "1335412030128 1335412024752\n",
      "4 (20, 4)\n",
      "<class 'numpy.ndarray'>\n",
      "[[ 1  2  3  4  5]\n",
      " [ 6  7  8  9 10]]\n"
     ]
    }
   ],
   "source": [
    "arr1 = np.array([[1,2,3,4,5],[6,7,8,9,10]])\n",
    "print(id(arr1),id(arr1[0]))\n",
    "print(arr1.itemsize,arr1.strides)\n",
    "print(type(arr1))\n",
    "print(arr1)"
   ]
  },
  {
   "cell_type": "code",
   "execution_count": 26,
   "id": "28419d32",
   "metadata": {},
   "outputs": [
    {
     "name": "stdout",
     "output_type": "stream",
     "text": [
      "[[ 1  2  3  4  5]\n",
      " [ 6  7  8  9 10]]\n",
      "[[ 0  1  2  3  4]\n",
      " [ 5  6  7  8  9]\n",
      " [10 11 12 13 14]]\n"
     ]
    }
   ],
   "source": [
    "c = np.array([[1,2,3,4,5],[6,7,8,9,10]])\n",
    "e = np.arange(15).reshape(3,5)\n",
    "print(c,e,sep = '\\n')"
   ]
  },
  {
   "cell_type": "code",
   "execution_count": 27,
   "id": "17e50689",
   "metadata": {},
   "outputs": [],
   "source": [
    "a = np.array(42)\n",
    "b = np.array([1, 2, 3, 4, 5])\n",
    "c = np.array([[1, 2, 3], [4, 5, 6]])\n",
    "d = np.array([[[1, 2, 3], [4, 5, 6]], [[1, 2, 3], [4, 5, 6]]])"
   ]
  },
  {
   "cell_type": "code",
   "execution_count": 28,
   "id": "bae8b23f",
   "metadata": {},
   "outputs": [
    {
     "name": "stdout",
     "output_type": "stream",
     "text": [
      "0 () 1 int32 4 <memory at 0x00000136ECC07920>\n",
      "1 (5,) 5 int32 4 <memory at 0x00000136ECB3A140>\n",
      "2 (2, 3) 6 int32 4 <memory at 0x00000136ED2D4450>\n",
      "3 (2, 2, 3) 12 int32 4 <memory at 0x00000136ED29EC50>\n"
     ]
    }
   ],
   "source": [
    "print(a.ndim, a.shape, a.size, a.dtype, a.itemsize, a.data)\n",
    "print(b.ndim, b.shape, b.size, b.dtype, b.itemsize, b.data)\n",
    "print(c.ndim, c.shape, c.size, c.dtype, c.itemsize, c.data)\n",
    "print(d.ndim, d.shape, d.size, d.dtype, d.itemsize, d.data)"
   ]
  },
  {
   "cell_type": "code",
   "execution_count": 35,
   "id": "c45966fa",
   "metadata": {},
   "outputs": [
    {
     "name": "stdout",
     "output_type": "stream",
     "text": [
      "[[1 2 3]\n",
      " [4 5 6]]\n",
      "[[ 0  1  2  3  4]\n",
      " [ 5  6  7  8  9]\n",
      " [10 11 12 13 14]]\n"
     ]
    }
   ],
   "source": [
    "e = np.arange(15).reshape(3, 5)\n",
    "print(c, e,sep = '\\n')"
   ]
  },
  {
   "cell_type": "code",
   "execution_count": 34,
   "id": "f3ea6f2a",
   "metadata": {},
   "outputs": [
    {
     "name": "stdout",
     "output_type": "stream",
     "text": [
      "5\n",
      "\n",
      "\n",
      "1\n",
      "2\n",
      "3\n",
      "4\n",
      "5\n"
     ]
    }
   ],
   "source": [
    "print(len(b))\n",
    "#Printing 1D array\n",
    "print('\\n')\n",
    "for i in range(len(b)):\n",
    "    print(b[i])"
   ]
  },
  {
   "cell_type": "code",
   "execution_count": 36,
   "id": "9fb6c818",
   "metadata": {},
   "outputs": [
    {
     "name": "stdout",
     "output_type": "stream",
     "text": [
      "[[0. 0. 0. 0. 0.]\n",
      " [0. 0. 0. 0. 0.]\n",
      " [0. 0. 0. 0. 0.]]\n"
     ]
    }
   ],
   "source": [
    "zeros = np.zeros((3,5))\n",
    "print(zeros)"
   ]
  },
  {
   "cell_type": "code",
   "execution_count": 37,
   "id": "e96dcf9b",
   "metadata": {},
   "outputs": [],
   "source": [
    "#Q. What is the difference between linspace and arange??"
   ]
  },
  {
   "cell_type": "code",
   "execution_count": 41,
   "id": "eef67e13",
   "metadata": {},
   "outputs": [
    {
     "name": "stdout",
     "output_type": "stream",
     "text": [
      "[ 0.00000000e+00  6.34239197e-02  1.26592454e-01  1.89251244e-01\n",
      "  2.51147987e-01  3.12033446e-01  3.71662456e-01  4.29794912e-01\n",
      "  4.86196736e-01  5.40640817e-01  5.92907929e-01  6.42787610e-01\n",
      "  6.90079011e-01  7.34591709e-01  7.76146464e-01  8.14575952e-01\n",
      "  8.49725430e-01  8.81453363e-01  9.09631995e-01  9.34147860e-01\n",
      "  9.54902241e-01  9.71811568e-01  9.84807753e-01  9.93838464e-01\n",
      "  9.98867339e-01  9.99874128e-01  9.96854776e-01  9.89821442e-01\n",
      "  9.78802446e-01  9.63842159e-01  9.45000819e-01  9.22354294e-01\n",
      "  8.95993774e-01  8.66025404e-01  8.32569855e-01  7.95761841e-01\n",
      "  7.55749574e-01  7.12694171e-01  6.66769001e-01  6.18158986e-01\n",
      "  5.67059864e-01  5.13677392e-01  4.58226522e-01  4.00930535e-01\n",
      "  3.42020143e-01  2.81732557e-01  2.20310533e-01  1.58001396e-01\n",
      "  9.50560433e-02  3.17279335e-02 -3.17279335e-02 -9.50560433e-02\n",
      " -1.58001396e-01 -2.20310533e-01 -2.81732557e-01 -3.42020143e-01\n",
      " -4.00930535e-01 -4.58226522e-01 -5.13677392e-01 -5.67059864e-01\n",
      " -6.18158986e-01 -6.66769001e-01 -7.12694171e-01 -7.55749574e-01\n",
      " -7.95761841e-01 -8.32569855e-01 -8.66025404e-01 -8.95993774e-01\n",
      " -9.22354294e-01 -9.45000819e-01 -9.63842159e-01 -9.78802446e-01\n",
      " -9.89821442e-01 -9.96854776e-01 -9.99874128e-01 -9.98867339e-01\n",
      " -9.93838464e-01 -9.84807753e-01 -9.71811568e-01 -9.54902241e-01\n",
      " -9.34147860e-01 -9.09631995e-01 -8.81453363e-01 -8.49725430e-01\n",
      " -8.14575952e-01 -7.76146464e-01 -7.34591709e-01 -6.90079011e-01\n",
      " -6.42787610e-01 -5.92907929e-01 -5.40640817e-01 -4.86196736e-01\n",
      " -4.29794912e-01 -3.71662456e-01 -3.12033446e-01 -2.51147987e-01\n",
      " -1.89251244e-01 -1.26592454e-01 -6.34239197e-02 -2.44929360e-16]\n"
     ]
    }
   ],
   "source": [
    "from numpy import pi\n",
    "x = np.linspace(0, 2*pi, 100)\n",
    "y = np.sin(x)\n",
    "print(y)"
   ]
  },
  {
   "cell_type": "code",
   "execution_count": 45,
   "id": "a9ef225a",
   "metadata": {},
   "outputs": [
    {
     "name": "stdout",
     "output_type": "stream",
     "text": [
      "[[ 1  4]\n",
      " [ 9 16]]\n",
      "[[ 7 10]\n",
      " [15 22]]\n"
     ]
    }
   ],
   "source": [
    "a = np.array(([1, 2], [3, 4]))\n",
    "b = np.array(([1, 2], [3, 4]))\n",
    "print(a * b)  # Element-wise product\n",
    "print(a @ b)  # Matrix multiplication"
   ]
  },
  {
   "cell_type": "code",
   "execution_count": 43,
   "id": "9c523125",
   "metadata": {},
   "outputs": [],
   "source": [
    "#H.W.: Create two normal list and try to use operator star to multiply the matrices"
   ]
  },
  {
   "cell_type": "code",
   "execution_count": 44,
   "id": "57d027b2",
   "metadata": {},
   "outputs": [],
   "source": [
    "#* is broadcasting operator"
   ]
  },
  {
   "cell_type": "code",
   "execution_count": 46,
   "id": "2398dff9",
   "metadata": {},
   "outputs": [
    {
     "name": "stdout",
     "output_type": "stream",
     "text": [
      "[[ 7 10]\n",
      " [15 22]]\n",
      "[[ 7 10]\n",
      " [15 22]]\n"
     ]
    }
   ],
   "source": [
    "print(np.dot(a, b)) # dot product multiplication\n",
    "print(a.dot(b)) #dot product"
   ]
  },
  {
   "cell_type": "code",
   "execution_count": null,
   "id": "7bed4897",
   "metadata": {},
   "outputs": [],
   "source": []
  }
 ],
 "metadata": {
  "kernelspec": {
   "display_name": "Python 3 (ipykernel)",
   "language": "python",
   "name": "python3"
  },
  "language_info": {
   "codemirror_mode": {
    "name": "ipython",
    "version": 3
   },
   "file_extension": ".py",
   "mimetype": "text/x-python",
   "name": "python",
   "nbconvert_exporter": "python",
   "pygments_lexer": "ipython3",
   "version": "3.11.4"
  }
 },
 "nbformat": 4,
 "nbformat_minor": 5
}
