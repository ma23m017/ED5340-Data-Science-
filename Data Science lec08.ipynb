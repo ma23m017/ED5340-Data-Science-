{
 "cells": [
  {
   "cell_type": "code",
   "execution_count": 2,
   "id": "5f91f753",
   "metadata": {},
   "outputs": [
    {
     "name": "stdout",
     "output_type": "stream",
     "text": [
      "[[1, 4], [2, 5], [3, 6]]\n"
     ]
    }
   ],
   "source": [
    "#transpose using zip function\n",
    "arr = [[1,2,3],[4,5,6]]\n",
    "transpose = [list(column) for column in zip(*arr)]\n",
    "print(transpose)"
   ]
  },
  {
   "cell_type": "code",
   "execution_count": 7,
   "id": "bf030bc6",
   "metadata": {},
   "outputs": [
    {
     "data": {
      "text/plain": [
       "[(1, 4), (2, 5), (3, 6)]"
      ]
     },
     "execution_count": 7,
     "metadata": {},
     "output_type": "execute_result"
    }
   ],
   "source": [
    "arr = [[1,2,3],[4,5,6]]\n",
    "list(zip(arr[0],arr[1]))"
   ]
  },
  {
   "cell_type": "markdown",
   "id": "38529642",
   "metadata": {},
   "source": [
    "We don't call string as container,why?"
   ]
  },
  {
   "cell_type": "code",
   "execution_count": 8,
   "id": "358d36c0",
   "metadata": {},
   "outputs": [],
   "source": [
    "#set"
   ]
  },
  {
   "cell_type": "code",
   "execution_count": 9,
   "id": "3c5a7cfa",
   "metadata": {},
   "outputs": [
    {
     "name": "stdout",
     "output_type": "stream",
     "text": [
      "<class 'dict'>\n"
     ]
    }
   ],
   "source": [
    "set1 = {}\n",
    "print(type(set1))"
   ]
  },
  {
   "cell_type": "code",
   "execution_count": 11,
   "id": "7d062981",
   "metadata": {},
   "outputs": [
    {
     "name": "stdout",
     "output_type": "stream",
     "text": [
      "<class 'set'>\n"
     ]
    }
   ],
   "source": [
    "#then how to declare an empty set\n",
    "set1 = set()\n",
    "print(type(set1))"
   ]
  },
  {
   "cell_type": "code",
   "execution_count": 16,
   "id": "806831ac",
   "metadata": {},
   "outputs": [
    {
     "name": "stdout",
     "output_type": "stream",
     "text": [
      "{400, 50, 20, 10, 300}\n"
     ]
    }
   ],
   "source": [
    "set1 = {10,20,400,50,300}\n",
    "print(set1)"
   ]
  },
  {
   "cell_type": "code",
   "execution_count": 14,
   "id": "253221b1",
   "metadata": {},
   "outputs": [
    {
     "name": "stdout",
     "output_type": "stream",
     "text": [
      "{400, 50, 20, 10, 300}\n"
     ]
    }
   ],
   "source": [
    "set1 = {10,20,300,400,50,10,10,50,400}\n",
    "print(set1)"
   ]
  },
  {
   "cell_type": "code",
   "execution_count": 17,
   "id": "18a2d49c",
   "metadata": {},
   "outputs": [],
   "source": [
    "#set is an unordered collection-cannot be indexed and sliced"
   ]
  },
  {
   "cell_type": "code",
   "execution_count": 18,
   "id": "9e716ee3",
   "metadata": {},
   "outputs": [],
   "source": [
    "#H.W. what is frozen set??"
   ]
  },
  {
   "cell_type": "code",
   "execution_count": 21,
   "id": "fd03613e",
   "metadata": {},
   "outputs": [
    {
     "data": {
      "text/plain": [
       "5"
      ]
     },
     "execution_count": 21,
     "metadata": {},
     "output_type": "execute_result"
    }
   ],
   "source": [
    "set1 = {10,20,300,400,50,10,10,50,400}\n",
    "len(set1)"
   ]
  },
  {
   "cell_type": "code",
   "execution_count": 22,
   "id": "dbc7db94",
   "metadata": {},
   "outputs": [
    {
     "data": {
      "text/plain": [
       "400"
      ]
     },
     "execution_count": 22,
     "metadata": {},
     "output_type": "execute_result"
    }
   ],
   "source": [
    "max(set1)"
   ]
  },
  {
   "cell_type": "code",
   "execution_count": 23,
   "id": "433d1352",
   "metadata": {},
   "outputs": [
    {
     "data": {
      "text/plain": [
       "10"
      ]
     },
     "execution_count": 23,
     "metadata": {},
     "output_type": "execute_result"
    }
   ],
   "source": [
    "min(set1)"
   ]
  },
  {
   "cell_type": "code",
   "execution_count": 24,
   "id": "64fc499c",
   "metadata": {},
   "outputs": [
    {
     "data": {
      "text/plain": [
       "780"
      ]
     },
     "execution_count": 24,
     "metadata": {},
     "output_type": "execute_result"
    }
   ],
   "source": [
    "sum(set1)"
   ]
  },
  {
   "cell_type": "code",
   "execution_count": 25,
   "id": "8b06637e",
   "metadata": {},
   "outputs": [
    {
     "data": {
      "text/plain": [
       "[10, 20, 50, 300, 400]"
      ]
     },
     "execution_count": 25,
     "metadata": {},
     "output_type": "execute_result"
    }
   ],
   "source": [
    "sorted(set1)"
   ]
  },
  {
   "cell_type": "code",
   "execution_count": 26,
   "id": "c4240170",
   "metadata": {},
   "outputs": [
    {
     "data": {
      "text/plain": [
       "True"
      ]
     },
     "execution_count": 26,
     "metadata": {},
     "output_type": "execute_result"
    }
   ],
   "source": [
    "10 in set1"
   ]
  },
  {
   "cell_type": "code",
   "execution_count": 27,
   "id": "00f2985a",
   "metadata": {},
   "outputs": [
    {
     "data": {
      "text/plain": [
       "False"
      ]
     },
     "execution_count": 27,
     "metadata": {},
     "output_type": "execute_result"
    }
   ],
   "source": [
    "90 in set1"
   ]
  },
  {
   "cell_type": "code",
   "execution_count": 28,
   "id": "dcf0893b",
   "metadata": {},
   "outputs": [
    {
     "data": {
      "text/plain": [
       "{8, 10, 20, 50, 300, 400}"
      ]
     },
     "execution_count": 28,
     "metadata": {},
     "output_type": "execute_result"
    }
   ],
   "source": [
    "set1.add(8)\n",
    "set1"
   ]
  },
  {
   "cell_type": "code",
   "execution_count": 31,
   "id": "fbdfe75e",
   "metadata": {},
   "outputs": [
    {
     "name": "stdout",
     "output_type": "stream",
     "text": [
      "{400, 8, 10, 300}\n"
     ]
    }
   ],
   "source": [
    "set1.remove(20)\n",
    "print(set1)"
   ]
  },
  {
   "cell_type": "code",
   "execution_count": 32,
   "id": "0b71806c",
   "metadata": {},
   "outputs": [
    {
     "data": {
      "text/plain": [
       "{8, 300, 400}"
      ]
     },
     "execution_count": 32,
     "metadata": {},
     "output_type": "execute_result"
    }
   ],
   "source": [
    "set1.discard(10)\n",
    "set1"
   ]
  },
  {
   "cell_type": "code",
   "execution_count": 33,
   "id": "e2a1d5ec",
   "metadata": {},
   "outputs": [],
   "source": [
    "#what is the difference between remove and discard??"
   ]
  },
  {
   "cell_type": "code",
   "execution_count": 34,
   "id": "5f7f57e6",
   "metadata": {},
   "outputs": [
    {
     "data": {
      "text/plain": [
       "set()"
      ]
     },
     "execution_count": 34,
     "metadata": {},
     "output_type": "execute_result"
    }
   ],
   "source": [
    "set1.clear()\n",
    "set1"
   ]
  },
  {
   "cell_type": "code",
   "execution_count": 35,
   "id": "ae7e3117",
   "metadata": {},
   "outputs": [
    {
     "name": "stdout",
     "output_type": "stream",
     "text": [
      "{2, 3, 12}\n"
     ]
    }
   ],
   "source": [
    "set2 = {1,1,12,2,2,2,3}\n",
    "set2.remove(1)\n",
    "print(set2)"
   ]
  },
  {
   "cell_type": "code",
   "execution_count": 36,
   "id": "76cbcb1c",
   "metadata": {},
   "outputs": [],
   "source": [
    "#do we have ordered set and unordered set in python"
   ]
  },
  {
   "cell_type": "code",
   "execution_count": 37,
   "id": "08754fec",
   "metadata": {},
   "outputs": [
    {
     "data": {
      "text/plain": [
       "False"
      ]
     },
     "execution_count": 37,
     "metadata": {},
     "output_type": "execute_result"
    }
   ],
   "source": [
    "S = {1,2,3,4}\n",
    "T = {1,2,3,4,5,6}\n",
    "S.issuperset(T)"
   ]
  },
  {
   "cell_type": "code",
   "execution_count": 38,
   "id": "05d62ce2",
   "metadata": {},
   "outputs": [
    {
     "data": {
      "text/plain": [
       "True"
      ]
     },
     "execution_count": 38,
     "metadata": {},
     "output_type": "execute_result"
    }
   ],
   "source": [
    "S.issubset(T)"
   ]
  },
  {
   "cell_type": "code",
   "execution_count": 39,
   "id": "733df0b5",
   "metadata": {},
   "outputs": [
    {
     "data": {
      "text/plain": [
       "False"
      ]
     },
     "execution_count": 39,
     "metadata": {},
     "output_type": "execute_result"
    }
   ],
   "source": [
    "S.isdisjoint(T)"
   ]
  },
  {
   "cell_type": "code",
   "execution_count": 40,
   "id": "4b6526cb",
   "metadata": {},
   "outputs": [
    {
     "data": {
      "text/plain": [
       "False"
      ]
     },
     "execution_count": 40,
     "metadata": {},
     "output_type": "execute_result"
    }
   ],
   "source": [
    "S>T"
   ]
  },
  {
   "cell_type": "code",
   "execution_count": 41,
   "id": "ca83d50e",
   "metadata": {},
   "outputs": [
    {
     "data": {
      "text/plain": [
       "True"
      ]
     },
     "execution_count": 41,
     "metadata": {},
     "output_type": "execute_result"
    }
   ],
   "source": [
    "S<T"
   ]
  },
  {
   "cell_type": "code",
   "execution_count": 42,
   "id": "fdc8c766",
   "metadata": {},
   "outputs": [
    {
     "data": {
      "text/plain": [
       "{1, 2, 3, 4, 5, 6}"
      ]
     },
     "execution_count": 42,
     "metadata": {},
     "output_type": "execute_result"
    }
   ],
   "source": [
    "S.update(T)\n",
    "S"
   ]
  },
  {
   "cell_type": "code",
   "execution_count": 43,
   "id": "838c20c3",
   "metadata": {},
   "outputs": [
    {
     "data": {
      "text/plain": [
       "True"
      ]
     },
     "execution_count": 43,
     "metadata": {},
     "output_type": "execute_result"
    }
   ],
   "source": [
    "S==T"
   ]
  },
  {
   "cell_type": "code",
   "execution_count": 44,
   "id": "96173a66",
   "metadata": {},
   "outputs": [],
   "source": [
    "#S is object, . is operator and update is member function"
   ]
  },
  {
   "cell_type": "code",
   "execution_count": 46,
   "id": "a97818f9",
   "metadata": {},
   "outputs": [
    {
     "ename": "TypeError",
     "evalue": "unhashable type: 'set'",
     "output_type": "error",
     "traceback": [
      "\u001b[1;31m---------------------------------------------------------------------------\u001b[0m",
      "\u001b[1;31mTypeError\u001b[0m                                 Traceback (most recent call last)",
      "Cell \u001b[1;32mIn[46], line 1\u001b[0m\n\u001b[1;32m----> 1\u001b[0m set3 \u001b[38;5;241m=\u001b[39m {{\u001b[38;5;241m1\u001b[39m,\u001b[38;5;241m2\u001b[39m},{\u001b[38;5;241m2\u001b[39m,\u001b[38;5;241m3\u001b[39m}}\n\u001b[0;32m      2\u001b[0m \u001b[38;5;28mprint\u001b[39m(set3)\n",
      "\u001b[1;31mTypeError\u001b[0m: unhashable type: 'set'"
     ]
    }
   ],
   "source": [
    "set3 = {{1,2},{2,3}}\n",
    "print(set3)#it will not work"
   ]
  },
  {
   "cell_type": "code",
   "execution_count": 50,
   "id": "75ff0be6",
   "metadata": {},
   "outputs": [
    {
     "ename": "TypeError",
     "evalue": "unhashable type: 'set'",
     "output_type": "error",
     "traceback": [
      "\u001b[1;31m---------------------------------------------------------------------------\u001b[0m",
      "\u001b[1;31mTypeError\u001b[0m                                 Traceback (most recent call last)",
      "Cell \u001b[1;32mIn[50], line 3\u001b[0m\n\u001b[0;32m      1\u001b[0m set1 \u001b[38;5;241m=\u001b[39m {\u001b[38;5;241m1\u001b[39m,\u001b[38;5;241m2\u001b[39m}\n\u001b[0;32m      2\u001b[0m set2 \u001b[38;5;241m=\u001b[39m {\u001b[38;5;241m3\u001b[39m,\u001b[38;5;241m4\u001b[39m}\n\u001b[1;32m----> 3\u001b[0m set3 \u001b[38;5;241m=\u001b[39m {set1,set2}\n",
      "\u001b[1;31mTypeError\u001b[0m: unhashable type: 'set'"
     ]
    }
   ],
   "source": [
    "set1 = {1,2}\n",
    "set2 = {3,4}\n",
    "set3 = {set1,set2}#set embedding is not allowed"
   ]
  },
  {
   "cell_type": "code",
   "execution_count": 51,
   "id": "64175b4a",
   "metadata": {},
   "outputs": [
    {
     "name": "stdout",
     "output_type": "stream",
     "text": [
      "{1, 2, 3, 4}\n"
     ]
    }
   ],
   "source": [
    "set3 = {*set1,*set2}#set unpacking\n",
    "print(set3)"
   ]
  },
  {
   "cell_type": "code",
   "execution_count": 53,
   "id": "f3a8ac2e",
   "metadata": {},
   "outputs": [
    {
     "name": "stdout",
     "output_type": "stream",
     "text": [
      "{0, 1, 2, 3, 4, 5, 6, 7, 8, 9}\n"
     ]
    }
   ],
   "source": [
    "#set comprehension\n",
    "setA = {x for x in range(10)}\n",
    "print(setA)"
   ]
  },
  {
   "cell_type": "code",
   "execution_count": 55,
   "id": "77b28482",
   "metadata": {},
   "outputs": [
    {
     "name": "stdout",
     "output_type": "stream",
     "text": [
      "{0, 1, 2, 3, 4, 5, 6, 7}\n"
     ]
    }
   ],
   "source": [
    "setA = set()\n",
    "for x in range(8):\n",
    "    setA.add(x)\n",
    "print(setA)"
   ]
  },
  {
   "cell_type": "code",
   "execution_count": 59,
   "id": "49b021a0",
   "metadata": {},
   "outputs": [
    {
     "name": "stdout",
     "output_type": "stream",
     "text": [
      "{64, 1, 4, 36, 9, 16, 49, 81, 25}\n"
     ]
    }
   ],
   "source": [
    "setB = {x**2 for x in range(1,10)}\n",
    "print(setB)"
   ]
  },
  {
   "cell_type": "code",
   "execution_count": null,
   "id": "754b9b2f",
   "metadata": {},
   "outputs": [],
   "source": []
  }
 ],
 "metadata": {
  "kernelspec": {
   "display_name": "Python 3 (ipykernel)",
   "language": "python",
   "name": "python3"
  },
  "language_info": {
   "codemirror_mode": {
    "name": "ipython",
    "version": 3
   },
   "file_extension": ".py",
   "mimetype": "text/x-python",
   "name": "python",
   "nbconvert_exporter": "python",
   "pygments_lexer": "ipython3",
   "version": "3.11.4"
  }
 },
 "nbformat": 4,
 "nbformat_minor": 5
}
