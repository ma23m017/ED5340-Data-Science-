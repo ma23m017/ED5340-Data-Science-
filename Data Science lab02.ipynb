{
 "cells": [
  {
   "cell_type": "markdown",
   "id": "e597a620",
   "metadata": {},
   "source": [
    "## PRABHAT KUMAR(MA23M017)"
   ]
  },
  {
   "cell_type": "markdown",
   "id": "a2464388",
   "metadata": {},
   "source": [
    "## Question 1"
   ]
  },
  {
   "cell_type": "markdown",
   "id": "4f28af24",
   "metadata": {},
   "source": [
    "Write a program to print numbers divisible by both 7 and 8. Numbers between 1 and 1000.\n",
    "\n",
    "[Numbers like 56, which are both divisible by 7 and 8]\n",
    "\n",
    "a. Using continue statement\n",
    "\n",
    "b. Using the pass statement"
   ]
  },
  {
   "cell_type": "markdown",
   "id": "333f874b",
   "metadata": {},
   "source": [
    "## Solution"
   ]
  },
  {
   "cell_type": "markdown",
   "id": "3b952b24",
   "metadata": {},
   "source": [
    "## a."
   ]
  },
  {
   "cell_type": "code",
   "execution_count": 69,
   "id": "de2c4d4b",
   "metadata": {},
   "outputs": [
    {
     "name": "stdout",
     "output_type": "stream",
     "text": [
      "The numbers divisible by both 7 and 8 are stored in a list which is given by: \n",
      "[56, 112, 168, 224, 280, 336, 392, 448, 504, 560, 616, 672, 728, 784, 840, 896, 952]\n"
     ]
    }
   ],
   "source": [
    "result = []\n",
    "for x in range(1,1000):\n",
    "    if x%7!=0 or x%8!=0:\n",
    "        continue\n",
    "    else:\n",
    "        result.append(x)\n",
    "        \n",
    "print('The numbers divisible by both 7 and 8 are stored in a list which is given by: ', result, sep='\\n')"
   ]
  },
  {
   "cell_type": "markdown",
   "id": "0276897a",
   "metadata": {},
   "source": [
    "## b."
   ]
  },
  {
   "cell_type": "code",
   "execution_count": 71,
   "id": "186a6f8b",
   "metadata": {},
   "outputs": [
    {
     "name": "stdout",
     "output_type": "stream",
     "text": [
      "The numbers divisible by both 7 and 8 are stored in a list which is given by: \n",
      "[56, 112, 168, 224, 280, 336, 392, 448, 504, 560, 616, 672, 728, 784, 840, 896, 952]\n"
     ]
    }
   ],
   "source": [
    "result = []\n",
    "for x in range(1,1000):\n",
    "    if x%7==0 and x%8==0:\n",
    "        result.append(x)\n",
    "    else:\n",
    "        pass\n",
    "        \n",
    "print('The numbers divisible by both 7 and 8 are stored in a list which is given by: ', result, sep='\\n')"
   ]
  },
  {
   "cell_type": "markdown",
   "id": "2c6cea3c",
   "metadata": {},
   "source": [
    "## Question 2"
   ]
  },
  {
   "cell_type": "markdown",
   "id": "990d42c1",
   "metadata": {},
   "source": [
    "Number 34567222541147 has been given. Print the addition of all even digits and the addition of all odd digits.\n",
    "\n",
    "[Sample input = 156893, Sample Output: sum_even = 14 , sum_odd = 18]"
   ]
  },
  {
   "cell_type": "markdown",
   "id": "f14d7c0e",
   "metadata": {},
   "source": [
    "## Solution:"
   ]
  },
  {
   "cell_type": "code",
   "execution_count": 63,
   "id": "a37f19a6",
   "metadata": {},
   "outputs": [
    {
     "name": "stdout",
     "output_type": "stream",
     "text": [
      "Even Sum =  24\n",
      "Odd Sum =  29\n"
     ]
    }
   ],
   "source": [
    "x = 34567222541147\n",
    "odd_sum = 0\n",
    "even_sum = 0\n",
    "\n",
    "for i in str(x):\n",
    "    if int(i)%2==0:\n",
    "        even_sum = even_sum + int(i)\n",
    "    else:\n",
    "        odd_sum = odd_sum+int(i)\n",
    "        \n",
    "print('Even Sum = ', even_sum)\n",
    "print('Odd Sum = ', odd_sum)"
   ]
  },
  {
   "cell_type": "markdown",
   "id": "bfc3e9fc",
   "metadata": {},
   "source": [
    "## Question 3"
   ]
  },
  {
   "cell_type": "markdown",
   "id": "f0bcd035",
   "metadata": {},
   "source": [
    "Describe conditional expression. Write a program to print the maximum and minimum numbers from a list using conditional expression. Use the max () and min () functions to verify your output."
   ]
  },
  {
   "cell_type": "markdown",
   "id": "9d839eaa",
   "metadata": {},
   "source": [
    "## Solution:"
   ]
  },
  {
   "cell_type": "code",
   "execution_count": 64,
   "id": "b291b981",
   "metadata": {},
   "outputs": [
    {
     "name": "stdout",
     "output_type": "stream",
     "text": [
      "Enter the numbers separated by spaces: 2 3 -9 8 67 88 -95 32\n",
      "Maximum Number =  88\n",
      "Minimum Number =  -95\n"
     ]
    }
   ],
   "source": [
    "input_str = input(\"Enter the numbers separated by spaces: \")\n",
    "lst = [int(x) for x in input_str.split()]\n",
    "\n",
    "maximum = lst[0] if lst else None\n",
    "minimum = lst[0] if lst else None\n",
    "\n",
    "for x in lst:\n",
    "    if x >= maximum:\n",
    "        maximum = x\n",
    "    if x <= minimum:\n",
    "        minimum = x\n",
    "        \n",
    "print('Maximum Number = ', maximum)\n",
    "print('Minimum Number = ', minimum)"
   ]
  },
  {
   "cell_type": "code",
   "execution_count": 65,
   "id": "062d750a",
   "metadata": {},
   "outputs": [
    {
     "name": "stdout",
     "output_type": "stream",
     "text": [
      "Maximum Number using max() function =  88\n",
      "Minimum Number using min() function =  -95\n"
     ]
    }
   ],
   "source": [
    "#using max() and min() function verifying the result\n",
    "\n",
    "print('Maximum Number using max() function = ',max(lst))\n",
    "print('Minimum Number using min() function = ',min(lst))"
   ]
  },
  {
   "cell_type": "markdown",
   "id": "4e552722",
   "metadata": {},
   "source": [
    "## Question 4"
   ]
  },
  {
   "cell_type": "markdown",
   "id": "a42bfe1c",
   "metadata": {},
   "source": [
    "Pascal’s  Triangle : Print the following pattern for the given N number of rows."
   ]
  },
  {
   "cell_type": "code",
   "execution_count": 72,
   "id": "2f9e9a4c",
   "metadata": {},
   "outputs": [
    {
     "name": "stdout",
     "output_type": "stream",
     "text": [
      "Enter the number of rows: 8\n",
      "                       1   \n",
      "                    1    1   \n",
      "                 1    2    1   \n",
      "              1    3    3    1   \n",
      "           1    4    6    4    1   \n",
      "        1    5   10   10    5    1   \n",
      "     1    6   15   20   15    6    1   \n",
      "  1    7   21   35   35   21    7    1   \n"
     ]
    }
   ],
   "source": [
    "rows = int(input('Enter the number of rows: '))\n",
    "\n",
    "def coefficient(n, k):  # Function to get binomial coefficient\n",
    "    cof = 1\n",
    "    if k > n - k:\n",
    "        k = n - k\n",
    "    for i in range(k):\n",
    "        cof = cof * (n - i)\n",
    "        cof = cof // (i + 1)\n",
    "    return cof\n",
    "\n",
    "\n",
    "#for printing the triangle\n",
    "max_digits = len(str(coefficient(rows - 1, rows // 2)))\n",
    "\n",
    "for x in range(rows):\n",
    "    \n",
    "    print(\" \" * (rows - x - 1) * (max_digits + 1), end=\" \")\n",
    "\n",
    "    for y in range(x + 1):\n",
    "        coef = coefficient(x, y)\n",
    "        print(f\"{coef:>{max_digits}}\", end=\" \" * (max_digits + 1))\n",
    "\n",
    "    print()\n"
   ]
  },
  {
   "cell_type": "markdown",
   "id": "b7aec9f6",
   "metadata": {},
   "source": [
    "## Question 5"
   ]
  },
  {
   "cell_type": "markdown",
   "id": "a3def131",
   "metadata": {},
   "source": [
    "A palindrome sentence is a phrase or sentence that reads the same forward as it does backward, ignoring spaces, punctuation, and capitalization.\n",
    "\n",
    "\n",
    "A) Take a number as input, determine if it is a palindrome, considering only numeric characters. Eg: 2442\n",
    "\n",
    "\n",
    "B) Now, take a string as an input and check whether it is Palindrome or not.  eg: \"Was it a car or a cat I saw?\"\n",
    "\n",
    "The expected output for this example will print, 'True'"
   ]
  },
  {
   "cell_type": "markdown",
   "id": "3e30773a",
   "metadata": {},
   "source": [
    "# A."
   ]
  },
  {
   "cell_type": "code",
   "execution_count": 67,
   "id": "4a9b3808",
   "metadata": {},
   "outputs": [
    {
     "name": "stdout",
     "output_type": "stream",
     "text": [
      "Enter a number: 1221\n",
      "1221 is a palindrome number\n"
     ]
    }
   ],
   "source": [
    "num = input('Enter a number: ')\n",
    "temp = num[::-1]\n",
    "if num==temp:\n",
    "    print(f'{num} is a palindrome number')"
   ]
  },
  {
   "cell_type": "markdown",
   "id": "ef2883fa",
   "metadata": {},
   "source": [
    "## B."
   ]
  },
  {
   "cell_type": "code",
   "execution_count": 68,
   "id": "e319d34a",
   "metadata": {},
   "outputs": [
    {
     "name": "stdout",
     "output_type": "stream",
     "text": [
      "Enter a string: Was it a car or a cat I saw\n",
      "The given string is a palindrome string\n"
     ]
    }
   ],
   "source": [
    "input_str = input('Enter a string: ')\n",
    "\n",
    "str1 = ''.join(char.lower() for char in input_str if char.isalnum())\n",
    "\n",
    "temp = str1[::-1]\n",
    "\n",
    "if str1==temp:\n",
    "    print('The given string is a palindrome string')"
   ]
  },
  {
   "cell_type": "markdown",
   "id": "694b44df",
   "metadata": {},
   "source": [
    "## Question 6"
   ]
  },
  {
   "cell_type": "markdown",
   "id": "b866f030",
   "metadata": {},
   "source": [
    "Describe chr () and ord () functions. Write a small program to show its functionality.Using these functions,write a program to print:\n",
    "\n",
    "Pattern for N=4\n",
    "\n",
    "A\n",
    "\n",
    "B B\n",
    "\n",
    "C C C\n",
    "\n",
    "D D D D"
   ]
  },
  {
   "cell_type": "code",
   "execution_count": 60,
   "id": "e9388608",
   "metadata": {},
   "outputs": [
    {
     "name": "stdout",
     "output_type": "stream",
     "text": [
      "N\n",
      "78\n"
     ]
    }
   ],
   "source": [
    "#small program to show the functionality of chr() and ord() functions\n",
    "print(chr(78))\n",
    "print(ord('N'))"
   ]
  },
  {
   "cell_type": "code",
   "execution_count": 59,
   "id": "1c24d4ae",
   "metadata": {},
   "outputs": [
    {
     "name": "stdout",
     "output_type": "stream",
     "text": [
      "Enter the value of N: 5\n",
      "A \n",
      "B B \n",
      "C C C \n",
      "D D D D \n",
      "E E E E E \n"
     ]
    }
   ],
   "source": [
    "#using these functions to print the pattern\n",
    "\n",
    "N = input('Enter the value of N: ')\n",
    "for i in range(int(N)):\n",
    "    for j in range(i + 1):\n",
    "        print(chr(65 + i), end=\" \")\n",
    "    print()"
   ]
  },
  {
   "cell_type": "markdown",
   "id": "7ac76282",
   "metadata": {},
   "source": [
    "## Question 7"
   ]
  },
  {
   "cell_type": "markdown",
   "id": "1ab9caea",
   "metadata": {},
   "source": [
    "You have a single list of names (each name should have first name and last name). Write a programme\n",
    "\n",
    "(a) to print the first names.\n",
    "\n",
    "(b) to print the last names.\n",
    "\n",
    "(c) to print each name as 'last_name first_name.\n",
    "\n",
    "(d) to print the names in the sorted order with respect to last name\n",
    "\n",
    "Example :Input list: ['Mark Antony', 'Mohan Raj'],\n",
    "\n",
    "Output :\n",
    "\n",
    " a) ['Mark', 'Mohan']  \n",
    "\n",
    "b) ['Antony', 'Raj'] \n",
    "\n",
    "c) ['Antony Mark', 'Raj Mohan']\n",
    "\n",
    "d) ['Mark Antony', 'Mohan Raj']"
   ]
  },
  {
   "cell_type": "markdown",
   "id": "af743ee2",
   "metadata": {},
   "source": [
    "## Solution:"
   ]
  },
  {
   "cell_type": "markdown",
   "id": "f236f3c2",
   "metadata": {},
   "source": [
    "## a."
   ]
  },
  {
   "cell_type": "code",
   "execution_count": 11,
   "id": "cc36346a",
   "metadata": {},
   "outputs": [
    {
     "name": "stdout",
     "output_type": "stream",
     "text": [
      "Enter the number of names: 3\n",
      "Enter name 1: Prabhat Kumar\n",
      "Enter name 2: Sourav Manjhi\n",
      "Enter name 3: Vinod Gangwar\n",
      "Entered names are:  ['Prabhat Kumar', 'Sourav Manjhi', 'Vinod Gangwar']\n"
     ]
    }
   ],
   "source": [
    "n = input(\"Enter the number of names: \")\n",
    "input_names = []\n",
    "\n",
    "for i in range(int(n)):\n",
    "    name = input(f'Enter name {i+1}: ')\n",
    "    input_names.append(name)\n",
    "    \n",
    "print('Entered names are: ', input_names)"
   ]
  },
  {
   "cell_type": "markdown",
   "id": "55e60dc0",
   "metadata": {},
   "source": [
    "## a."
   ]
  },
  {
   "cell_type": "code",
   "execution_count": 58,
   "id": "1b155633",
   "metadata": {},
   "outputs": [
    {
     "name": "stdout",
     "output_type": "stream",
     "text": [
      "First names are given by:\n",
      "['Prabhat', 'Sourav', 'Vinod']\n"
     ]
    }
   ],
   "source": [
    "first_names = [name.split()[0] for name in input_names]\n",
    "print('First names are given by:', first_names, sep='\\n')"
   ]
  },
  {
   "cell_type": "markdown",
   "id": "274d9f22",
   "metadata": {},
   "source": [
    "## b."
   ]
  },
  {
   "cell_type": "code",
   "execution_count": 53,
   "id": "e612920c",
   "metadata": {},
   "outputs": [
    {
     "name": "stdout",
     "output_type": "stream",
     "text": [
      "Last names are given by:\n",
      "['Kumar', 'Manjhi', 'Gangwar']\n"
     ]
    }
   ],
   "source": [
    "last_names = [name.split()[1] for name in input_names]\n",
    "print('Last names are given by:', last_names, sep='\\n')"
   ]
  },
  {
   "cell_type": "markdown",
   "id": "7147eb3e",
   "metadata": {},
   "source": [
    "## c."
   ]
  },
  {
   "cell_type": "code",
   "execution_count": 52,
   "id": "2866c17b",
   "metadata": {},
   "outputs": [
    {
     "name": "stdout",
     "output_type": "stream",
     "text": [
      "Names in reversed order are given by:\n",
      "['Kumar Prabhat', 'Manjhi Sourav', 'Gangwar Vinod']\n"
     ]
    }
   ],
   "source": [
    "last_first = [f'{name.split()[1]} {name.split()[0]}' for name in input_names]\n",
    "print('Names in reversed order are given by:', last_first, sep='\\n')"
   ]
  },
  {
   "cell_type": "markdown",
   "id": "99584cc3",
   "metadata": {},
   "source": [
    "## d."
   ]
  },
  {
   "cell_type": "code",
   "execution_count": 50,
   "id": "ea47da36",
   "metadata": {},
   "outputs": [
    {
     "name": "stdout",
     "output_type": "stream",
     "text": [
      "Names in sorted order w.r.t. last names are given by:\n",
      "['Vinod Gangwar', 'Prabhat Kumar', 'Sourav Manjhi']\n"
     ]
    }
   ],
   "source": [
    "sorted_names = sorted(last_first)\n",
    "sorted_names1 = [f'{name.split()[1]} {name.split()[0]}' for name in sorted_names]\n",
    "print('Names in sorted order w.r.t. last names are given by:', sorted_names1, sep='\\n')"
   ]
  },
  {
   "cell_type": "markdown",
   "id": "83947793",
   "metadata": {},
   "source": [
    "## Question 8"
   ]
  },
  {
   "cell_type": "markdown",
   "id": "b9855b93",
   "metadata": {},
   "source": [
    "WAP to find the minimum of 3 numbers using\n",
    "\n",
    "a) with conditional expressions. (No loops should be used)\n",
    "\n",
    "b) with nested conditional expression. (No loops should be used)\n",
    "\n",
    "c) similar to problem (b), find the minimum of 4 numbers."
   ]
  },
  {
   "cell_type": "markdown",
   "id": "ccc15c3e",
   "metadata": {},
   "source": [
    "## Solution:"
   ]
  },
  {
   "cell_type": "markdown",
   "id": "f948cf20",
   "metadata": {},
   "source": [
    "## a."
   ]
  },
  {
   "cell_type": "code",
   "execution_count": 51,
   "id": "5101312e",
   "metadata": {},
   "outputs": [
    {
     "name": "stdout",
     "output_type": "stream",
     "text": [
      "Enter the three numbers: 2 4 -9\n",
      "Minimum number is given by:  -9\n"
     ]
    }
   ],
   "source": [
    "a, b, c = input('Enter the three numbers: ').split()\n",
    "\n",
    "a = int(a)\n",
    "b = int(b)\n",
    "c = int(c)\n",
    "\n",
    "print('Minimum number is given by: ', end=' ')\n",
    "print(a if (a<=b and a <= c) else (b if b <= c else c))"
   ]
  },
  {
   "cell_type": "markdown",
   "id": "9cf15a50",
   "metadata": {},
   "source": [
    "## b."
   ]
  },
  {
   "cell_type": "code",
   "execution_count": 57,
   "id": "116f058b",
   "metadata": {},
   "outputs": [
    {
     "name": "stdout",
     "output_type": "stream",
     "text": [
      "Enter the three numbers: 3 6 9\n",
      "Minimum number is given by:  3\n"
     ]
    }
   ],
   "source": [
    "a, b, c = input('Enter the three numbers: ').split()\n",
    "\n",
    "a = int(a)\n",
    "b = int(b)\n",
    "c = int(c)\n",
    "\n",
    "print('Minimum number is given by: ', end=' ')\n",
    "print(a if (a<=b) else (b if b <= c else c))"
   ]
  },
  {
   "cell_type": "markdown",
   "id": "3f201cde",
   "metadata": {},
   "source": [
    "## c."
   ]
  },
  {
   "cell_type": "code",
   "execution_count": 49,
   "id": "f8648454",
   "metadata": {},
   "outputs": [
    {
     "name": "stdout",
     "output_type": "stream",
     "text": [
      "Enter the four numbers: 2 3 4 4\n",
      "Minimum number is given by:  2\n"
     ]
    }
   ],
   "source": [
    "a, b, c, d = input('Enter the four numbers: ').split()\n",
    "\n",
    "a = int(a)\n",
    "b = int(b)\n",
    "c = int(c)\n",
    "d = int(d)\n",
    "\n",
    "print('Minimum number is given by: ', end=' ')\n",
    "print(a if (a <= b) else (b if b <= c else (c if c <= d else d)))"
   ]
  },
  {
   "cell_type": "markdown",
   "id": "e46b51d1",
   "metadata": {},
   "source": [
    "## Question 9"
   ]
  },
  {
   "cell_type": "markdown",
   "id": "e6f4bf84",
   "metadata": {},
   "source": [
    "Create a list of departments in IIT Madras (Minimum 5 ) and perform the following operations:\n",
    "\n",
    "1. append\n",
    "2. remove\n",
    "3. pop\n",
    "4. insert \n",
    "5. reverse\n",
    "6. sort\n",
    "7. count\n",
    "8. index\n",
    "9. extend\n",
    "10. slice\n",
    "11. clear"
   ]
  },
  {
   "cell_type": "code",
   "execution_count": 36,
   "id": "a39fa841",
   "metadata": {},
   "outputs": [
    {
     "name": "stdout",
     "output_type": "stream",
     "text": [
      "Enter the name of departments separated by spaces: Mathematics ED EE CSE Physics\n",
      "Departments are given by: \n",
      "['Mathematics', 'ED', 'EE', 'CSE', 'Physics']\n"
     ]
    }
   ],
   "source": [
    "input_str = input(\"Enter the name of departments separated by spaces: \")\n",
    "lst = [char for char in input_str.split()]\n",
    "print('Departments are given by: ', lst, sep='\\n')"
   ]
  },
  {
   "cell_type": "markdown",
   "id": "228c3682",
   "metadata": {},
   "source": [
    "## append"
   ]
  },
  {
   "cell_type": "code",
   "execution_count": 37,
   "id": "998be59a",
   "metadata": {},
   "outputs": [
    {
     "name": "stdout",
     "output_type": "stream",
     "text": [
      "After using append function we have list: \n",
      "['Mathematics', 'ED', 'EE', 'CSE', 'Physics', 'Chemistry']\n"
     ]
    }
   ],
   "source": [
    "lst.append('Chemistry')\n",
    "print('After using append function we have list: ', lst, sep='\\n')"
   ]
  },
  {
   "cell_type": "markdown",
   "id": "02912f38",
   "metadata": {},
   "source": [
    "## remove"
   ]
  },
  {
   "cell_type": "code",
   "execution_count": 38,
   "id": "c404854c",
   "metadata": {},
   "outputs": [
    {
     "name": "stdout",
     "output_type": "stream",
     "text": [
      "After using remove function we have list: \n",
      "['Mathematics', 'ED', 'EE', 'CSE', 'Chemistry']\n"
     ]
    }
   ],
   "source": [
    "lst.remove('Physics')\n",
    "print('After using remove function we have list: ', lst, sep='\\n')"
   ]
  },
  {
   "cell_type": "markdown",
   "id": "f6cd2768",
   "metadata": {},
   "source": [
    "## pop"
   ]
  },
  {
   "cell_type": "code",
   "execution_count": 39,
   "id": "c24119b2",
   "metadata": {},
   "outputs": [
    {
     "name": "stdout",
     "output_type": "stream",
     "text": [
      "After using pop function we have list: \n",
      "['Mathematics', 'ED', 'EE', 'CSE']\n"
     ]
    }
   ],
   "source": [
    "lst.pop()\n",
    "print('After using pop function we have list: ', lst, sep='\\n')"
   ]
  },
  {
   "cell_type": "markdown",
   "id": "ee787c9e",
   "metadata": {},
   "source": [
    "## insert"
   ]
  },
  {
   "cell_type": "code",
   "execution_count": 40,
   "id": "d4fe3ded",
   "metadata": {},
   "outputs": [
    {
     "name": "stdout",
     "output_type": "stream",
     "text": [
      "After using insert function we have list: \n",
      "['Mathematics', 'ED', 'EE', 'CSE', 'Chemistry']\n"
     ]
    }
   ],
   "source": [
    "lst.insert(4,'Chemistry')\n",
    "print('After using insert function we have list: ', lst, sep='\\n')"
   ]
  },
  {
   "cell_type": "markdown",
   "id": "4179699b",
   "metadata": {},
   "source": [
    "## reverse"
   ]
  },
  {
   "cell_type": "code",
   "execution_count": 41,
   "id": "13ac16eb",
   "metadata": {},
   "outputs": [
    {
     "name": "stdout",
     "output_type": "stream",
     "text": [
      "After using reverse function we have list: \n",
      "['Chemistry', 'CSE', 'EE', 'ED', 'Mathematics']\n"
     ]
    }
   ],
   "source": [
    "lst.reverse()\n",
    "print('After using reverse function we have list: ', lst, sep='\\n')"
   ]
  },
  {
   "cell_type": "markdown",
   "id": "392c642b",
   "metadata": {},
   "source": [
    "## sort"
   ]
  },
  {
   "cell_type": "code",
   "execution_count": 42,
   "id": "3b26247e",
   "metadata": {},
   "outputs": [
    {
     "name": "stdout",
     "output_type": "stream",
     "text": [
      "After sorting we have list: \n",
      "['CSE', 'Chemistry', 'ED', 'EE', 'Mathematics']\n"
     ]
    }
   ],
   "source": [
    "lst.sort()\n",
    "print('After sorting we have list: ', lst, sep='\\n')"
   ]
  },
  {
   "cell_type": "markdown",
   "id": "ec297d8d",
   "metadata": {},
   "source": [
    "## count"
   ]
  },
  {
   "cell_type": "code",
   "execution_count": 43,
   "id": "a4bc04b0",
   "metadata": {},
   "outputs": [
    {
     "data": {
      "text/plain": [
       "1"
      ]
     },
     "execution_count": 43,
     "metadata": {},
     "output_type": "execute_result"
    }
   ],
   "source": [
    "lst.count('CSE')#counts number of occurance of 'CSE'"
   ]
  },
  {
   "cell_type": "markdown",
   "id": "ccd8f526",
   "metadata": {},
   "source": [
    "## index"
   ]
  },
  {
   "cell_type": "code",
   "execution_count": 44,
   "id": "b4261aee",
   "metadata": {},
   "outputs": [
    {
     "data": {
      "text/plain": [
       "4"
      ]
     },
     "execution_count": 44,
     "metadata": {},
     "output_type": "execute_result"
    }
   ],
   "source": [
    "lst.index('Mathematics')#returns the index of 'Mathematics'"
   ]
  },
  {
   "cell_type": "markdown",
   "id": "32a68080",
   "metadata": {},
   "source": [
    "## extend"
   ]
  },
  {
   "cell_type": "code",
   "execution_count": 45,
   "id": "a3b2302f",
   "metadata": {},
   "outputs": [
    {
     "name": "stdout",
     "output_type": "stream",
     "text": [
      "After using extend function we have list: \n",
      "['CSE', 'Chemistry', 'ED', 'EE', 'Mathematics', 'Biotechnology']\n"
     ]
    }
   ],
   "source": [
    "lst1 = ['Biotechnology']\n",
    "lst.extend(lst1)\n",
    "print('After using extend function we have list: ', lst, sep='\\n')"
   ]
  },
  {
   "cell_type": "markdown",
   "id": "6fa5f073",
   "metadata": {},
   "source": [
    "## slice"
   ]
  },
  {
   "cell_type": "code",
   "execution_count": 46,
   "id": "adc717be",
   "metadata": {},
   "outputs": [
    {
     "name": "stdout",
     "output_type": "stream",
     "text": [
      "After using slice function we have list:  ['Chemistry', 'EE']\n"
     ]
    }
   ],
   "source": [
    "slice_ = slice(1, 5, 2)\n",
    "print('After using slice function we have list: ', lst[slice_])"
   ]
  },
  {
   "cell_type": "markdown",
   "id": "3ed70449",
   "metadata": {},
   "source": [
    "## clear"
   ]
  },
  {
   "cell_type": "code",
   "execution_count": 47,
   "id": "5c1c3ce8",
   "metadata": {},
   "outputs": [],
   "source": [
    "lst.clear()"
   ]
  },
  {
   "cell_type": "code",
   "execution_count": 48,
   "id": "17f6e0f5",
   "metadata": {},
   "outputs": [
    {
     "name": "stdout",
     "output_type": "stream",
     "text": [
      "After clearing:\n",
      "[]\n"
     ]
    }
   ],
   "source": [
    "print('After clearing:', lst, sep='\\n')"
   ]
  }
 ],
 "metadata": {
  "kernelspec": {
   "display_name": "Python 3 (ipykernel)",
   "language": "python",
   "name": "python3"
  },
  "language_info": {
   "codemirror_mode": {
    "name": "ipython",
    "version": 3
   },
   "file_extension": ".py",
   "mimetype": "text/x-python",
   "name": "python",
   "nbconvert_exporter": "python",
   "pygments_lexer": "ipython3",
   "version": "3.11.4"
  }
 },
 "nbformat": 4,
 "nbformat_minor": 5
}
