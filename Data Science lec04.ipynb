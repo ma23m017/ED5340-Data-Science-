{
 "cells": [
  {
   "cell_type": "code",
   "execution_count": 2,
   "id": "fb624a1f",
   "metadata": {},
   "outputs": [
    {
     "name": "stdout",
     "output_type": "stream",
     "text": [
      "Enter the values of a,b and c: 11 56 -6\n",
      "-6 is the smallest number\n"
     ]
    }
   ],
   "source": [
    "#program for finding smallest of three numbers\n",
    "a,b,c = input('Enter the values of a,b and c: ').split()\n",
    "\n",
    "a = int(a)\n",
    "b = int(b)\n",
    "c = int(c)\n",
    "\n",
    "if a<=b:\n",
    "    if a<=c:\n",
    "        print(f'{a} is the smallest number')\n",
    "    else:\n",
    "        print(f'{c} is the smallest number')\n",
    "else:\n",
    "    if b<=c:\n",
    "        print(f'{b} is the smallest number')\n",
    "    else:\n",
    "        print(f'{c} is the smallest number')"
   ]
  },
  {
   "cell_type": "code",
   "execution_count": 4,
   "id": "240568df",
   "metadata": {},
   "outputs": [
    {
     "data": {
      "text/plain": [
       "True"
      ]
     },
     "execution_count": 4,
     "metadata": {},
     "output_type": "execute_result"
    }
   ],
   "source": [
    "a = 1\n",
    "b = 2\n",
    "\n",
    "a!=b!=a #returns true"
   ]
  },
  {
   "cell_type": "code",
   "execution_count": 6,
   "id": "96cda1ff",
   "metadata": {},
   "outputs": [
    {
     "data": {
      "text/plain": [
       "False"
      ]
     },
     "execution_count": 6,
     "metadata": {},
     "output_type": "execute_result"
    }
   ],
   "source": [
    "a = 1\n",
    "b = 1\n",
    "\n",
    "a!=b!=a #returns false"
   ]
  },
  {
   "cell_type": "code",
   "execution_count": 8,
   "id": "eef15bc2",
   "metadata": {},
   "outputs": [
    {
     "data": {
      "text/plain": [
       "False"
      ]
     },
     "execution_count": 8,
     "metadata": {},
     "output_type": "execute_result"
    }
   ],
   "source": [
    "a = 1\n",
    "b = 2\n",
    "\n",
    "a==b==a #returns false"
   ]
  },
  {
   "cell_type": "code",
   "execution_count": 10,
   "id": "c9554167",
   "metadata": {},
   "outputs": [
    {
     "name": "stdout",
     "output_type": "stream",
     "text": [
      "Enter the values of a,b and c: 9 -78 -654\n",
      "-654 is the smallest number\n"
     ]
    }
   ],
   "source": [
    "#another way of writing the above program\n",
    "a,b,c = input('Enter the values of a,b and c: ').split()\n",
    "\n",
    "a = int(a)\n",
    "b = int(b)\n",
    "c = int(c)\n",
    "\n",
    "if a<=b<=c:\n",
    "    print(f'{a} is the smallest number')\n",
    "elif b<=a<=c:\n",
    "    print(f'{b} is the smallest number')\n",
    "else:\n",
    "    print(f'{c} is the smallest number')"
   ]
  },
  {
   "cell_type": "code",
   "execution_count": 12,
   "id": "8d30be48",
   "metadata": {},
   "outputs": [
    {
     "name": "stdout",
     "output_type": "stream",
     "text": [
      "Enter the values of a,b and c: 34 98 -79\n",
      "-79 is the smallest number\n"
     ]
    }
   ],
   "source": [
    "#another way of writing the above program\n",
    "a,b,c = input('Enter the values of a,b and c: ').split()\n",
    "\n",
    "a = int(a)\n",
    "b = int(b)\n",
    "c = int(c)\n",
    "\n",
    "if a<=b and a<=c:\n",
    "    print(f'{a} is the smallest number')\n",
    "elif b<=c:\n",
    "    print(f'{b} is the smallest number')\n",
    "else:\n",
    "    print(f'{c} is the smallest number')"
   ]
  },
  {
   "cell_type": "code",
   "execution_count": 15,
   "id": "b1ec58e9",
   "metadata": {},
   "outputs": [
    {
     "name": "stdout",
     "output_type": "stream",
     "text": [
      "yes\n",
      "yes\n"
     ]
    }
   ],
   "source": [
    "#simple while loop program\n",
    "i = 0\n",
    "while i < 2:\n",
    "    print('yes')\n",
    "    i = i+1"
   ]
  },
  {
   "cell_type": "code",
   "execution_count": 16,
   "id": "e0fd7235",
   "metadata": {},
   "outputs": [
    {
     "ename": "SyntaxError",
     "evalue": "invalid syntax (848270012.py, line 2)",
     "output_type": "error",
     "traceback": [
      "\u001b[1;36m  Cell \u001b[1;32mIn[16], line 2\u001b[1;36m\u001b[0m\n\u001b[1;33m    for i < 2: #for loop requires iterator and iterable\u001b[0m\n\u001b[1;37m          ^\u001b[0m\n\u001b[1;31mSyntaxError\u001b[0m\u001b[1;31m:\u001b[0m invalid syntax\n"
     ]
    }
   ],
   "source": [
    "i = 0\n",
    "for i < 2: #for loop requires iterator and iterable\n",
    "    print('yes')\n",
    "    i = i+1"
   ]
  },
  {
   "cell_type": "code",
   "execution_count": 19,
   "id": "ffc2010e",
   "metadata": {},
   "outputs": [
    {
     "name": "stdout",
     "output_type": "stream",
     "text": [
      "Raman"
     ]
    }
   ],
   "source": [
    "str1 = 'Raman'\n",
    "for x in str1:\n",
    "    print(x, end='')"
   ]
  },
  {
   "cell_type": "code",
   "execution_count": null,
   "id": "75b9a5b0",
   "metadata": {},
   "outputs": [],
   "source": []
  }
 ],
 "metadata": {
  "kernelspec": {
   "display_name": "Python 3 (ipykernel)",
   "language": "python",
   "name": "python3"
  },
  "language_info": {
   "codemirror_mode": {
    "name": "ipython",
    "version": 3
   },
   "file_extension": ".py",
   "mimetype": "text/x-python",
   "name": "python",
   "nbconvert_exporter": "python",
   "pygments_lexer": "ipython3",
   "version": "3.11.4"
  }
 },
 "nbformat": 4,
 "nbformat_minor": 5
}
