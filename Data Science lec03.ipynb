{
 "cells": [
  {
   "cell_type": "code",
   "execution_count": 2,
   "id": "1b074062",
   "metadata": {},
   "outputs": [
    {
     "name": "stdout",
     "output_type": "stream",
     "text": [
      "R\n",
      "n\n",
      "Rama\n"
     ]
    },
    {
     "ename": "TypeError",
     "evalue": "can only concatenate str (not \"int\") to str",
     "output_type": "error",
     "traceback": [
      "\u001b[1;31m---------------------------------------------------------------------------\u001b[0m",
      "\u001b[1;31mTypeError\u001b[0m                                 Traceback (most recent call last)",
      "Cell \u001b[1;32mIn[2], line 5\u001b[0m\n\u001b[0;32m      3\u001b[0m \u001b[38;5;28mprint\u001b[39m(\u001b[38;5;28mstr\u001b[39m[\u001b[38;5;241m4\u001b[39m])\n\u001b[0;32m      4\u001b[0m \u001b[38;5;28mprint\u001b[39m(\u001b[38;5;28mstr\u001b[39m[\u001b[38;5;241m0\u001b[39m:\u001b[38;5;241m4\u001b[39m])\n\u001b[1;32m----> 5\u001b[0m \u001b[38;5;28mprint\u001b[39m(\u001b[38;5;28mstr\u001b[39m[\u001b[38;5;241m0\u001b[39m]\u001b[38;5;241m+\u001b[39m\u001b[38;5;241m1\u001b[39m)\n",
      "\u001b[1;31mTypeError\u001b[0m: can only concatenate str (not \"int\") to str"
     ]
    }
   ],
   "source": [
    "str = 'Raman'\n",
    "print(str[0])\n",
    "print(str[4])\n",
    "print(str[0:4])\n",
    "print(str[0]+1) # gives error"
   ]
  },
  {
   "cell_type": "code",
   "execution_count": 4,
   "id": "30d8efae",
   "metadata": {},
   "outputs": [
    {
     "name": "stdout",
     "output_type": "stream",
     "text": [
      "140733005468584\n",
      "140733005468744\n",
      "140733005468744\n"
     ]
    }
   ],
   "source": [
    "a = 5\n",
    "print(id(a))\n",
    "a = 10\n",
    "print(id(a))\n",
    "b = 10\n",
    "print(id(b))  # explore more about this topic"
   ]
  },
  {
   "cell_type": "markdown",
   "id": "fc74487b",
   "metadata": {},
   "source": [
    "Fresh topic starts from here:"
   ]
  },
  {
   "cell_type": "code",
   "execution_count": 5,
   "id": "59b4e6a3",
   "metadata": {},
   "outputs": [
    {
     "name": "stdout",
     "output_type": "stream",
     "text": [
      "I am learningpython\n"
     ]
    }
   ],
   "source": [
    "str1= 'I am learning'\n",
    "str2 = 'python'\n",
    "print(str1+str2)"
   ]
  },
  {
   "cell_type": "code",
   "execution_count": 6,
   "id": "99eb8ac3",
   "metadata": {},
   "outputs": [
    {
     "name": "stdout",
     "output_type": "stream",
     "text": [
      "True\n",
      "False\n"
     ]
    }
   ],
   "source": [
    "print('el' in 'Hello')\n",
    "print('Hello ' in 'Hello')"
   ]
  },
  {
   "cell_type": "code",
   "execution_count": 7,
   "id": "54b43905",
   "metadata": {},
   "outputs": [
    {
     "name": "stdout",
     "output_type": "stream",
     "text": [
      "----------------------------------------------------------------------\n"
     ]
    }
   ],
   "source": [
    "print('-'*70)"
   ]
  },
  {
   "cell_type": "code",
   "execution_count": 8,
   "id": "8a3b5147",
   "metadata": {},
   "outputs": [
    {
     "name": "stdout",
     "output_type": "stream",
     "text": [
      "True\n",
      "False\n",
      "True\n",
      "False\n",
      "False\n",
      "True\n",
      "True\n"
     ]
    }
   ],
   "source": [
    "str1 = \"Ramanathan\"\n",
    "print(str1.isalpha())\n",
    "print(str1.isdigit())\n",
    "print(str1.isalnum())\n",
    "print(str1.islower())\n",
    "print(str1.isupper())\n",
    "print(str1.startswith('R'))\n",
    "print(str1.endswith('n'))"
   ]
  },
  {
   "cell_type": "code",
   "execution_count": 9,
   "id": "4333bfec",
   "metadata": {},
   "outputs": [
    {
     "name": "stdout",
     "output_type": "stream",
     "text": [
      "YOU ARE LEARNING PYTHON NOW\n",
      "you are learning python now\n",
      "You are learning python now\n",
      "YOU ARE LEARNING PYTHON NOW\n"
     ]
    }
   ],
   "source": [
    "str1 = \"you are learning python now\"\n",
    "print(str1.upper()) # changes to upper\n",
    "print(str1.lower())\n",
    "print(str1.capitalize())\n",
    "print(str1.swapcase()) # upper to lower and lower to upper"
   ]
  },
  {
   "cell_type": "code",
   "execution_count": 11,
   "id": "0849429b",
   "metadata": {},
   "outputs": [
    {
     "name": "stdout",
     "output_type": "stream",
     "text": [
      "4\n",
      "you bre learning python now\n",
      "you are learning python now\n",
      "['you', 'are', 'learning', 'python', 'now']\n",
      "['you are learning python now']\n"
     ]
    }
   ],
   "source": [
    "print(str1.find('a'))\n",
    "print(str1.replace('a','b',1)) #replaces 'a' with 'b' one time\n",
    "print(str1)\n",
    "print(str1.split())# splitting strings by seeing space\n",
    "print(str1.split(','))"
   ]
  },
  {
   "cell_type": "code",
   "execution_count": 15,
   "id": "0554eae2",
   "metadata": {},
   "outputs": [
    {
     "name": "stdout",
     "output_type": "stream",
     "text": [
      "['you,', 'are,', 'learning,', 'python,', 'now']\n"
     ]
    }
   ],
   "source": [
    "str2 = \"you, are, learning, python, now\"\n",
    "print(str2.split())"
   ]
  },
  {
   "cell_type": "code",
   "execution_count": 17,
   "id": "2eaf0b70",
   "metadata": {},
   "outputs": [
    {
     "name": "stdout",
     "output_type": "stream",
     "text": [
      "['you,', 'are,', 'learning', \"','\", 'python,', 'now']\n"
     ]
    }
   ],
   "source": [
    "str3 = \"you, are, learning ',' python, now\"\n",
    "print(str3.split())"
   ]
  },
  {
   "cell_type": "code",
   "execution_count": 20,
   "id": "aa51da6d",
   "metadata": {},
   "outputs": [
    {
     "name": "stdout",
     "output_type": "stream",
     "text": [
      "<built-in method partition of str object at 0x00000278DA17C530>\n"
     ]
    }
   ],
   "source": [
    "str4 = \"you are learning python now\"\n",
    "print(str4.partition)"
   ]
  },
  {
   "cell_type": "markdown",
   "id": "3fe4105e",
   "metadata": {},
   "source": [
    "H.W.: Given question in the slide, explore some built in functions."
   ]
  },
  {
   "cell_type": "code",
   "execution_count": 22,
   "id": "cd8241e1",
   "metadata": {},
   "outputs": [
    {
     "name": "stdout",
     "output_type": "stream",
     "text": [
      "Enter first value: 5\n",
      "Enter second value: 4\n"
     ]
    }
   ],
   "source": [
    "a = input('Enter first value: ')\n",
    "b = input('Enter second value: ')"
   ]
  },
  {
   "cell_type": "code",
   "execution_count": 23,
   "id": "70aa36ef",
   "metadata": {},
   "outputs": [
    {
     "name": "stdout",
     "output_type": "stream",
     "text": [
      "Object types of a and b are:  <class 'str'> <class 'str'>\n"
     ]
    }
   ],
   "source": [
    "print('Object types of a and b are: ', type(a), type(b))"
   ]
  },
  {
   "cell_type": "code",
   "execution_count": 27,
   "id": "cc84ca1e",
   "metadata": {},
   "outputs": [
    {
     "name": "stdout",
     "output_type": "stream",
     "text": [
      "54\n",
      "<class 'str'>\n"
     ]
    }
   ],
   "source": [
    "c = a+b\n",
    "print(c)\n",
    "print(type(c))"
   ]
  },
  {
   "cell_type": "code",
   "execution_count": 28,
   "id": "a05ba522",
   "metadata": {},
   "outputs": [
    {
     "name": "stdout",
     "output_type": "stream",
     "text": [
      "9\n",
      "<class 'int'>\n"
     ]
    }
   ],
   "source": [
    "c = int(a)+int(b)\n",
    "print(c)\n",
    "print(type(c))"
   ]
  },
  {
   "cell_type": "markdown",
   "id": "8e5aee9e",
   "metadata": {},
   "source": [
    "H.W: given a string convert it to number"
   ]
  },
  {
   "cell_type": "code",
   "execution_count": 34,
   "id": "bf927e71",
   "metadata": {},
   "outputs": [
    {
     "name": "stdout",
     "output_type": "stream",
     "text": [
      "2 3\n"
     ]
    }
   ],
   "source": [
    "a,b = input().split()"
   ]
  },
  {
   "cell_type": "code",
   "execution_count": 36,
   "id": "47ab0b08",
   "metadata": {},
   "outputs": [
    {
     "name": "stdout",
     "output_type": "stream",
     "text": [
      "a: 2\n",
      "b: 3\n"
     ]
    }
   ],
   "source": [
    "print('a:', a)\n",
    "print('b:', b)"
   ]
  },
  {
   "cell_type": "code",
   "execution_count": 40,
   "id": "da2f05d4",
   "metadata": {},
   "outputs": [
    {
     "name": "stdout",
     "output_type": "stream",
     "text": [
      "Enter value of a and b: 26 7\n",
      "33\n"
     ]
    }
   ],
   "source": [
    "a, b = input('Enter value of a and b: ').split()\n",
    "c = int(a)+int(b)\n",
    "print(c)"
   ]
  },
  {
   "cell_type": "code",
   "execution_count": 44,
   "id": "b5f55ecb",
   "metadata": {},
   "outputs": [
    {
     "name": "stdout",
     "output_type": "stream",
     "text": [
      "Enter name, age, salary: Prabhat 24 12400\n",
      "printing name, age, salary Prabhat 24 12400.0\n"
     ]
    }
   ],
   "source": [
    "n, a, s = input('Enter name, age, salary: ').split()\n",
    "a = int(a)\n",
    "s = float(s)\n",
    "print('printing name, age, salary', n, a, s)"
   ]
  },
  {
   "cell_type": "markdown",
   "id": "4014918d",
   "metadata": {},
   "source": [
    "H.W: what are various escape sequences??"
   ]
  },
  {
   "cell_type": "code",
   "execution_count": 46,
   "id": "f7160dd3",
   "metadata": {},
   "outputs": [
    {
     "name": "stdout",
     "output_type": "stream",
     "text": [
      "Enter name, age, salary: Prabhat 24 12400\n",
      "Prabhat 24 12400 "
     ]
    }
   ],
   "source": [
    "n, a, s = input('Enter name, age, salary: ').split()\n",
    "print(n, end=\" \")\n",
    "print(a, end=\" \")\n",
    "print(s, end=\" \")"
   ]
  },
  {
   "cell_type": "code",
   "execution_count": null,
   "id": "c140f2be",
   "metadata": {},
   "outputs": [],
   "source": []
  }
 ],
 "metadata": {
  "kernelspec": {
   "display_name": "Python 3 (ipykernel)",
   "language": "python",
   "name": "python3"
  },
  "language_info": {
   "codemirror_mode": {
    "name": "ipython",
    "version": 3
   },
   "file_extension": ".py",
   "mimetype": "text/x-python",
   "name": "python",
   "nbconvert_exporter": "python",
   "pygments_lexer": "ipython3",
   "version": "3.11.4"
  }
 },
 "nbformat": 4,
 "nbformat_minor": 5
}
