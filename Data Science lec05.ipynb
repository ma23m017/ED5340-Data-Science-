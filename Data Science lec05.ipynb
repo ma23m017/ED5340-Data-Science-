{
 "cells": [
  {
   "cell_type": "code",
   "execution_count": 2,
   "id": "58ca765b",
   "metadata": {},
   "outputs": [
    {
     "name": "stdout",
     "output_type": "stream",
     "text": [
      "[1, 2, 'abcd', 8.0]\n"
     ]
    }
   ],
   "source": [
    "#example of list\n",
    "lst = [1,2,'abcd',8.0]\n",
    "print(lst)"
   ]
  },
  {
   "cell_type": "code",
   "execution_count": 4,
   "id": "5a337c97",
   "metadata": {},
   "outputs": [
    {
     "name": "stdout",
     "output_type": "stream",
     "text": [
      "1\n",
      "2\n",
      "abcd\n"
     ]
    }
   ],
   "source": [
    "#printing element wise\n",
    "print(lst[0])\n",
    "print(lst[1])\n",
    "print(lst[2])"
   ]
  },
  {
   "cell_type": "code",
   "execution_count": 6,
   "id": "cfa5af9c",
   "metadata": {},
   "outputs": [
    {
     "name": "stdout",
     "output_type": "stream",
     "text": [
      "[]\n"
     ]
    }
   ],
   "source": [
    "lst1 = []\n",
    "print(lst1)#empty list"
   ]
  },
  {
   "cell_type": "code",
   "execution_count": 7,
   "id": "39f2bc56",
   "metadata": {},
   "outputs": [
    {
     "name": "stdout",
     "output_type": "stream",
     "text": [
      "[2, 3.3]\n",
      "[2, 3.3, 5, 'a', 'b', 'c']\n"
     ]
    }
   ],
   "source": [
    "lst2 = [1,2,3.3,5,'a','b','c']\n",
    "print(lst2[1:3])\n",
    "print(lst2[1:])"
   ]
  },
  {
   "cell_type": "markdown",
   "id": "ad8e1d7f",
   "metadata": {},
   "source": [
    "H.W.: Difference in behaviour of array and list(in terms of contiguous memory location)"
   ]
  },
  {
   "cell_type": "code",
   "execution_count": 11,
   "id": "241901a8",
   "metadata": {},
   "outputs": [
    {
     "name": "stdout",
     "output_type": "stream",
     "text": [
      "5\n",
      "5\n",
      "5\n",
      "6\n"
     ]
    }
   ],
   "source": [
    "#list of strings and number of charaters in each strings\n",
    "lst3 = ['apple','mango','guava','banana']\n",
    "for x in lst3:\n",
    "    print(len(x))"
   ]
  },
  {
   "cell_type": "code",
   "execution_count": 12,
   "id": "7d88e3b7",
   "metadata": {},
   "outputs": [
    {
     "name": "stdout",
     "output_type": "stream",
     "text": [
      "1\n",
      "1\n",
      "2\n",
      "3\n"
     ]
    }
   ],
   "source": [
    "#number of 'a' in each string\n",
    "lst3 = ['apple','mango','guava','banana']\n",
    "for x in lst3:\n",
    "    print(x.count('a'))"
   ]
  },
  {
   "cell_type": "code",
   "execution_count": 14,
   "id": "610d3f22",
   "metadata": {},
   "outputs": [
    {
     "name": "stdout",
     "output_type": "stream",
     "text": [
      "[1, 2, 9, 4]\n"
     ]
    }
   ],
   "source": [
    "lst4 = [1,2,3,4]\n",
    "lst4[2] = 9\n",
    "print(lst4)#lists are mutable"
   ]
  },
  {
   "cell_type": "code",
   "execution_count": 20,
   "id": "1ab9a031",
   "metadata": {},
   "outputs": [
    {
     "name": "stdout",
     "output_type": "stream",
     "text": [
      "[56, 9, 2, -2]\n"
     ]
    }
   ],
   "source": [
    "lst = [56,9,2,-2]\n",
    "print(lst)"
   ]
  },
  {
   "cell_type": "code",
   "execution_count": 21,
   "id": "18d0c62c",
   "metadata": {},
   "outputs": [
    {
     "data": {
      "text/plain": [
       "[-2, 2, 9, 56]"
      ]
     },
     "execution_count": 21,
     "metadata": {},
     "output_type": "execute_result"
    }
   ],
   "source": [
    "sorted(lst)#sorting"
   ]
  },
  {
   "cell_type": "code",
   "execution_count": 22,
   "id": "47875ef0",
   "metadata": {},
   "outputs": [
    {
     "data": {
      "text/plain": [
       "[56, 9, 2, -2, 1, 2, 9, 4]"
      ]
     },
     "execution_count": 22,
     "metadata": {},
     "output_type": "execute_result"
    }
   ],
   "source": [
    "lst+lst4#concatenation"
   ]
  },
  {
   "cell_type": "markdown",
   "id": "0e92b3fe",
   "metadata": {},
   "source": [
    "difference between .sort() and sorted()??"
   ]
  },
  {
   "cell_type": "code",
   "execution_count": 24,
   "id": "a8cbca2f",
   "metadata": {},
   "outputs": [
    {
     "name": "stdout",
     "output_type": "stream",
     "text": [
      "[10, 20, 30, 40, 50]\n"
     ]
    }
   ],
   "source": [
    "lst5 = [10,20,30,40,50]\n",
    "print(lst5)"
   ]
  },
  {
   "cell_type": "code",
   "execution_count": 26,
   "id": "ce0fae83",
   "metadata": {},
   "outputs": [
    {
     "name": "stdout",
     "output_type": "stream",
     "text": [
      "[]\n"
     ]
    }
   ],
   "source": [
    "lst5[:] = []\n",
    "print(lst5)#deleting using empty list symbol"
   ]
  },
  {
   "cell_type": "code",
   "execution_count": 27,
   "id": "97c278c9",
   "metadata": {},
   "outputs": [],
   "source": [
    "del(lst5)"
   ]
  },
  {
   "cell_type": "code",
   "execution_count": 28,
   "id": "85fb1e4c",
   "metadata": {},
   "outputs": [
    {
     "ename": "NameError",
     "evalue": "name 'lst5' is not defined",
     "output_type": "error",
     "traceback": [
      "\u001b[1;31m---------------------------------------------------------------------------\u001b[0m",
      "\u001b[1;31mNameError\u001b[0m                                 Traceback (most recent call last)",
      "Cell \u001b[1;32mIn[28], line 1\u001b[0m\n\u001b[1;32m----> 1\u001b[0m \u001b[38;5;28mprint\u001b[39m(lst5)\n",
      "\u001b[1;31mNameError\u001b[0m: name 'lst5' is not defined"
     ]
    }
   ],
   "source": [
    "print(lst5)"
   ]
  },
  {
   "cell_type": "code",
   "execution_count": 29,
   "id": "3e8fa2b6",
   "metadata": {},
   "outputs": [
    {
     "ename": "NameError",
     "evalue": "name 'lst5' is not defined",
     "output_type": "error",
     "traceback": [
      "\u001b[1;31m---------------------------------------------------------------------------\u001b[0m",
      "\u001b[1;31mNameError\u001b[0m                                 Traceback (most recent call last)",
      "Cell \u001b[1;32mIn[29], line 1\u001b[0m\n\u001b[1;32m----> 1\u001b[0m lst5[::]\n",
      "\u001b[1;31mNameError\u001b[0m: name 'lst5' is not defined"
     ]
    }
   ],
   "source": [
    "lst5[::]"
   ]
  },
  {
   "cell_type": "code",
   "execution_count": 30,
   "id": "c96c8240",
   "metadata": {},
   "outputs": [
    {
     "name": "stdout",
     "output_type": "stream",
     "text": [
      "[10, 20, 30, 40, 50]\n"
     ]
    }
   ],
   "source": [
    "lst6 = [10,20,30,40,50]\n",
    "print(lst6)"
   ]
  },
  {
   "cell_type": "code",
   "execution_count": 31,
   "id": "542489cb",
   "metadata": {},
   "outputs": [
    {
     "data": {
      "text/plain": [
       "[10, 20, 30, 40, 50]"
      ]
     },
     "execution_count": 31,
     "metadata": {},
     "output_type": "execute_result"
    }
   ],
   "source": [
    "lst6[::]"
   ]
  },
  {
   "cell_type": "markdown",
   "id": "646140fc",
   "metadata": {},
   "source": [
    "what is delete by slicing??"
   ]
  },
  {
   "cell_type": "code",
   "execution_count": 33,
   "id": "5d469ade",
   "metadata": {},
   "outputs": [
    {
     "data": {
      "text/plain": [
       "[30, 40]"
      ]
     },
     "execution_count": 33,
     "metadata": {},
     "output_type": "execute_result"
    }
   ],
   "source": [
    "lst6[2:4]#delete by slicing"
   ]
  },
  {
   "cell_type": "code",
   "execution_count": 35,
   "id": "ba180fec",
   "metadata": {},
   "outputs": [
    {
     "name": "stdout",
     "output_type": "stream",
     "text": [
      "Maximum marks is:  93\n",
      "Minimum marks is:  61\n",
      "Average marks is:  80.14285714285714\n",
      "sorted list:  [61, 65, 78, 87, 88, 89, 93]\n",
      "list is empty\n"
     ]
    }
   ],
   "source": [
    "marks = [78,89,65,88,93,87,61]\n",
    "print('Maximum marks is: ', max(marks))\n",
    "print('Minimum marks is: ', min(marks))\n",
    "print('Average marks is: ', sum(marks)/len(marks))\n",
    "print('sorted list: ', sorted(marks))\n",
    "marks[:] = []\n",
    "if len(marks) == 0:\n",
    "    print('list is empty')\n",
    "else:\n",
    "    print('list is not empty')\n"
   ]
  },
  {
   "cell_type": "code",
   "execution_count": 39,
   "id": "b0586def",
   "metadata": {},
   "outputs": [
    {
     "data": {
      "text/plain": [
       "[61, 65, 78, 87, 88, 89, 93]"
      ]
     },
     "execution_count": 39,
     "metadata": {},
     "output_type": "execute_result"
    }
   ],
   "source": [
    "lst7 = [78,89,65,88,93,87,61]\n",
    "sorted(lst7)#ascending sort"
   ]
  },
  {
   "cell_type": "code",
   "execution_count": 40,
   "id": "1ec5a8b7",
   "metadata": {},
   "outputs": [
    {
     "data": {
      "text/plain": [
       "[93, 89, 88, 87, 78, 65, 61]"
      ]
     },
     "execution_count": 40,
     "metadata": {},
     "output_type": "execute_result"
    }
   ],
   "source": [
    "sorted(lst7, reverse=True)#descending sort"
   ]
  },
  {
   "cell_type": "code",
   "execution_count": 45,
   "id": "52c989f9",
   "metadata": {},
   "outputs": [
    {
     "data": {
      "text/plain": [
       "[61, 65, 78, 87, 88, 89, 93]"
      ]
     },
     "execution_count": 45,
     "metadata": {},
     "output_type": "execute_result"
    }
   ],
   "source": [
    "lst8 = [78,89,65,88,93,87,61]\n",
    "lst8.sort()\n",
    "lst8"
   ]
  },
  {
   "cell_type": "code",
   "execution_count": 48,
   "id": "66859854",
   "metadata": {},
   "outputs": [
    {
     "data": {
      "text/plain": [
       "[93, 89, 88, 87, 78, 65, 61]"
      ]
     },
     "execution_count": 48,
     "metadata": {},
     "output_type": "execute_result"
    }
   ],
   "source": [
    "lst8.sort(reverse = True)\n",
    "lst8"
   ]
  },
  {
   "cell_type": "code",
   "execution_count": null,
   "id": "1b8a96a2",
   "metadata": {},
   "outputs": [],
   "source": []
  }
 ],
 "metadata": {
  "kernelspec": {
   "display_name": "Python 3 (ipykernel)",
   "language": "python",
   "name": "python3"
  },
  "language_info": {
   "codemirror_mode": {
    "name": "ipython",
    "version": 3
   },
   "file_extension": ".py",
   "mimetype": "text/x-python",
   "name": "python",
   "nbconvert_exporter": "python",
   "pygments_lexer": "ipython3",
   "version": "3.11.4"
  }
 },
 "nbformat": 4,
 "nbformat_minor": 5
}
