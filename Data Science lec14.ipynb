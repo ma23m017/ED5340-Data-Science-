{
 "cells": [
  {
   "cell_type": "code",
   "execution_count": 1,
   "id": "38113fed",
   "metadata": {},
   "outputs": [],
   "source": [
    "#'_' is called notionally private"
   ]
  },
  {
   "cell_type": "code",
   "execution_count": 2,
   "id": "b140455a",
   "metadata": {},
   "outputs": [],
   "source": [
    "#dunderscore '__' is for strictly private"
   ]
  },
  {
   "cell_type": "code",
   "execution_count": 3,
   "id": "9cce8e4a",
   "metadata": {},
   "outputs": [],
   "source": [
    "#operator overloading:"
   ]
  },
  {
   "cell_type": "code",
   "execution_count": null,
   "id": "f6f90c86",
   "metadata": {},
   "outputs": [],
   "source": []
  },
  {
   "cell_type": "code",
   "execution_count": 23,
   "id": "430f214f",
   "metadata": {},
   "outputs": [],
   "source": [
    "class ComplexNumber:\n",
    "    def __init__(self, real, imaginary):\n",
    "        self.real = real\n",
    "        self.imaginary = imaginary\n",
    "    \n",
    "    def add(self, other):\n",
    "        real_part = self.real + other.real\n",
    "        imaginary_part = self.imaginary + other.imaginary\n",
    "        return ComplexNumber(real_part, imaginary_part)\n",
    "    \n",
    "    def __str__(self):\n",
    "        return f\"{self.real} {'+' if self.imaginary >= 0 else '-'} {abs(self.imaginary)}i\"\n"
   ]
  },
  {
   "cell_type": "code",
   "execution_count": 24,
   "id": "77462df4",
   "metadata": {},
   "outputs": [
    {
     "name": "stdout",
     "output_type": "stream",
     "text": [
      "Result of addition: 6 - 2i\n"
     ]
    }
   ],
   "source": [
    "# Create two complex numbers\n",
    "c1 = ComplexNumber(2, 3)\n",
    "c2 = ComplexNumber(4, -5)\n",
    "\n",
    "# Add the two complex numbers using the add method\n",
    "result = c1.add(c2)\n",
    "\n",
    "# Display the result\n",
    "print(\"Result of addition:\", result)"
   ]
  },
  {
   "cell_type": "code",
   "execution_count": 9,
   "id": "dd63da92",
   "metadata": {},
   "outputs": [],
   "source": [
    "#operators that can be overloaded: __sub__, __mul__"
   ]
  },
  {
   "cell_type": "code",
   "execution_count": 25,
   "id": "621cbb54",
   "metadata": {},
   "outputs": [],
   "source": [
    "class ComplexNumber:\n",
    "    def __init__(self, real, imaginary):\n",
    "        self.real = real\n",
    "        self.imaginary = imaginary\n",
    "    \n",
    "    def __sub__(self, other):#overloading\n",
    "        real_part = self.real - other.real\n",
    "        imaginary_part = self.imaginary - other.imaginary\n",
    "        return ComplexNumber(real_part, imaginary_part)\n",
    "    \n",
    "    def __str__(self):\n",
    "        return f\"{self.real} {'+' if self.imaginary >= 0 else '-'} {abs(self.imaginary)}i\""
   ]
  },
  {
   "cell_type": "code",
   "execution_count": 26,
   "id": "3f3087ed",
   "metadata": {},
   "outputs": [
    {
     "name": "stdout",
     "output_type": "stream",
     "text": [
      "Result of subtraction: -2 + 8i\n"
     ]
    }
   ],
   "source": [
    "# Create two complex numbers\n",
    "c1 = ComplexNumber(2, 3)\n",
    "c2 = ComplexNumber(4, -5)\n",
    "\n",
    "# Subtract the two complex numbers using the overloaded '-' operator\n",
    "result = c1 - c2\n",
    "\n",
    "# Display the result\n",
    "print(\"Result of subtraction:\", result)  # Output: Result of subtraction: -2 + 8i"
   ]
  },
  {
   "cell_type": "code",
   "execution_count": 29,
   "id": "f4f56cd3",
   "metadata": {},
   "outputs": [],
   "source": [
    "#will function overloading work in this language"
   ]
  },
  {
   "cell_type": "code",
   "execution_count": 28,
   "id": "c0420026",
   "metadata": {},
   "outputs": [],
   "source": [
    "#H.W. : How to write a code for iterator"
   ]
  },
  {
   "cell_type": "code",
   "execution_count": 30,
   "id": "e6d35ec3",
   "metadata": {},
   "outputs": [],
   "source": [
    "#Inheritance"
   ]
  },
  {
   "cell_type": "code",
   "execution_count": null,
   "id": "4d15fb27",
   "metadata": {},
   "outputs": [],
   "source": []
  }
 ],
 "metadata": {
  "kernelspec": {
   "display_name": "Python 3 (ipykernel)",
   "language": "python",
   "name": "python3"
  },
  "language_info": {
   "codemirror_mode": {
    "name": "ipython",
    "version": 3
   },
   "file_extension": ".py",
   "mimetype": "text/x-python",
   "name": "python",
   "nbconvert_exporter": "python",
   "pygments_lexer": "ipython3",
   "version": "3.11.4"
  }
 },
 "nbformat": 4,
 "nbformat_minor": 5
}
