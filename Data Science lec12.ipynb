{
 "cells": [
  {
   "cell_type": "code",
   "execution_count": 2,
   "id": "3946e72c",
   "metadata": {},
   "outputs": [],
   "source": [
    "#variable length arguments"
   ]
  },
  {
   "cell_type": "code",
   "execution_count": 3,
   "id": "3a99899a",
   "metadata": {},
   "outputs": [
    {
     "name": "stdout",
     "output_type": "stream",
     "text": [
      "passing two arguments <class 'str'>\n",
      "1 <class 'int'>\n",
      "5 <class 'int'>\n",
      "passing three arguments <class 'str'>\n",
      "1 <class 'int'>\n",
      "2 <class 'int'>\n",
      "Ram <class 'str'>\n"
     ]
    }
   ],
   "source": [
    "def var_arg(*args):\n",
    "    for var in args:\n",
    "        print(var,type(var))\n",
    "        \n",
    "var_arg('passing two arguments', 1,5)\n",
    "var_arg('passing three arguments', 1,2,'Ram')"
   ]
  },
  {
   "cell_type": "code",
   "execution_count": 4,
   "id": "aff304db",
   "metadata": {},
   "outputs": [
    {
     "name": "stdout",
     "output_type": "stream",
     "text": [
      "[1, 2, 3] <class 'list'>\n"
     ]
    }
   ],
   "source": [
    "lst = [1,2,3]\n",
    "var_arg(lst)"
   ]
  },
  {
   "cell_type": "code",
   "execution_count": 6,
   "id": "171874d5",
   "metadata": {},
   "outputs": [
    {
     "name": "stdout",
     "output_type": "stream",
     "text": [
      "Prabhat <class 'str'>\n"
     ]
    }
   ],
   "source": [
    "var_arg('Prabhat')"
   ]
  },
  {
   "cell_type": "code",
   "execution_count": 7,
   "id": "a32402d4",
   "metadata": {},
   "outputs": [
    {
     "name": "stdout",
     "output_type": "stream",
     "text": [
      "1 <class 'int'>\n",
      "2 <class 'int'>\n",
      "Ram <class 'str'>\n"
     ]
    }
   ],
   "source": [
    "def kwar_arg(**kwargs):\n",
    "    for k,v in kwargs.items():\n",
    "        print(k,v)\n",
    "        \n",
    "var_arg(1,2,'Ram')"
   ]
  },
  {
   "cell_type": "code",
   "execution_count": 8,
   "id": "2c8d09f5",
   "metadata": {},
   "outputs": [],
   "source": [
    "#default type argument"
   ]
  },
  {
   "cell_type": "code",
   "execution_count": 9,
   "id": "4f84fc8f",
   "metadata": {},
   "outputs": [
    {
     "name": "stdout",
     "output_type": "stream",
     "text": [
      "True\n",
      "False\n"
     ]
    }
   ],
   "source": [
    "def TorF(cond = True):\n",
    "    if cond == True:\n",
    "        print('True')\n",
    "    else:\n",
    "        print('False')\n",
    "        \n",
    "TorF()\n",
    "TorF(False)"
   ]
  },
  {
   "cell_type": "code",
   "execution_count": 10,
   "id": "7ca6fb5e",
   "metadata": {},
   "outputs": [],
   "source": [
    "#write a small program showing use of default argument"
   ]
  },
  {
   "cell_type": "code",
   "execution_count": 11,
   "id": "cec99b16",
   "metadata": {},
   "outputs": [
    {
     "name": "stdout",
     "output_type": "stream",
     "text": [
      "Default area: 15\n",
      "Custom area: 28\n"
     ]
    }
   ],
   "source": [
    "def calculate_rectangle_area(length=5, width=3):\n",
    "    area = length * width\n",
    "    return area\n",
    "\n",
    "default_area = calculate_rectangle_area()\n",
    "print(\"Default area:\", default_area)\n",
    "\n",
    "area = calculate_rectangle_area(7, 4)\n",
    "print(\"Custom area:\", area)"
   ]
  },
  {
   "cell_type": "code",
   "execution_count": 12,
   "id": "c574c2c9",
   "metadata": {},
   "outputs": [],
   "source": [
    "#write a program using all type of arguments"
   ]
  },
  {
   "cell_type": "code",
   "execution_count": 13,
   "id": "a1ceeef5",
   "metadata": {},
   "outputs": [],
   "source": [
    "#RECURSION"
   ]
  },
  {
   "cell_type": "code",
   "execution_count": 14,
   "id": "56b7a300",
   "metadata": {},
   "outputs": [],
   "source": [
    "def PrintNum(n):\n",
    "    if n > 0:\n",
    "        print(n)\n",
    "        PrintNum(n-1)"
   ]
  },
  {
   "cell_type": "code",
   "execution_count": 15,
   "id": "c23cb694",
   "metadata": {},
   "outputs": [
    {
     "name": "stdout",
     "output_type": "stream",
     "text": [
      "10\n",
      "9\n",
      "8\n",
      "7\n",
      "6\n",
      "5\n",
      "4\n",
      "3\n",
      "2\n",
      "1\n"
     ]
    }
   ],
   "source": [
    "PrintNum(10)"
   ]
  },
  {
   "cell_type": "code",
   "execution_count": 16,
   "id": "a2666ac5",
   "metadata": {},
   "outputs": [
    {
     "name": "stdout",
     "output_type": "stream",
     "text": [
      "1\n",
      "2\n",
      "3\n",
      "4\n",
      "5\n",
      "6\n",
      "7\n",
      "8\n",
      "9\n",
      "10\n"
     ]
    }
   ],
   "source": [
    "def PrintNum(n):\n",
    "    if n > 0:\n",
    "        PrintNum(n-1)\n",
    "        print(n)\n",
    "        \n",
    "PrintNum(10)"
   ]
  },
  {
   "cell_type": "code",
   "execution_count": 17,
   "id": "27c2ce13",
   "metadata": {},
   "outputs": [],
   "source": [
    "#print the sum of n numbers using recursion"
   ]
  },
  {
   "cell_type": "code",
   "execution_count": 21,
   "id": "30608618",
   "metadata": {},
   "outputs": [
    {
     "name": "stdout",
     "output_type": "stream",
     "text": [
      "sum of 10 positive integers is:  55\n"
     ]
    }
   ],
   "source": [
    "def sum_integers(n):\n",
    "    if n > 0:\n",
    "        return (n + sum_integers(n-1))  #doubt: if we do not give else statements it is showing error, why??\n",
    "    else:\n",
    "        return 0\n",
    "    \n",
    "x = sum_integers(10)\n",
    "print('sum of 10 positive integers is: ', x)"
   ]
  },
  {
   "cell_type": "code",
   "execution_count": null,
   "id": "d0607105",
   "metadata": {},
   "outputs": [],
   "source": []
  }
 ],
 "metadata": {
  "kernelspec": {
   "display_name": "Python 3 (ipykernel)",
   "language": "python",
   "name": "python3"
  },
  "language_info": {
   "codemirror_mode": {
    "name": "ipython",
    "version": 3
   },
   "file_extension": ".py",
   "mimetype": "text/x-python",
   "name": "python",
   "nbconvert_exporter": "python",
   "pygments_lexer": "ipython3",
   "version": "3.11.4"
  }
 },
 "nbformat": 4,
 "nbformat_minor": 5
}
