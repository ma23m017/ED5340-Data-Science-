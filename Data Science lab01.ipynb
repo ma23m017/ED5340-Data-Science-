{
 "cells": [
  {
   "cell_type": "markdown",
   "id": "3f31a14d",
   "metadata": {},
   "source": [
    "## Question 1"
   ]
  },
  {
   "cell_type": "markdown",
   "id": "6eb7f4aa",
   "metadata": {},
   "source": [
    "## a."
   ]
  },
  {
   "cell_type": "code",
   "execution_count": 14,
   "id": "66d1480e",
   "metadata": {},
   "outputs": [],
   "source": [
    "import math"
   ]
  },
  {
   "cell_type": "code",
   "execution_count": 16,
   "id": "fc40b565",
   "metadata": {},
   "outputs": [
    {
     "name": "stdout",
     "output_type": "stream",
     "text": [
      "35.44789594116947\n"
     ]
    }
   ],
   "source": [
    "a = math.exp(3)\n",
    "x = 7*math.log(3)*(math.log(5) + math.log(a))\n",
    "print(x)"
   ]
  },
  {
   "cell_type": "markdown",
   "id": "93a0dd98",
   "metadata": {},
   "source": [
    "## b."
   ]
  },
  {
   "cell_type": "code",
   "execution_count": 108,
   "id": "66d0aaaa",
   "metadata": {},
   "outputs": [
    {
     "name": "stdout",
     "output_type": "stream",
     "text": [
      "Required area is:  12.566370614359172\n"
     ]
    }
   ],
   "source": [
    "r1 = 5/2\n",
    "r2 = 3/2\n",
    "pi = math.pi\n",
    "a1= pi*r1**2\n",
    "a2 = pi*r2**2\n",
    "print( 'Required area is: ', a1-a2)"
   ]
  },
  {
   "cell_type": "markdown",
   "id": "01db77ee",
   "metadata": {},
   "source": [
    "## Question 2"
   ]
  },
  {
   "cell_type": "code",
   "execution_count": 23,
   "id": "8f578391",
   "metadata": {},
   "outputs": [
    {
     "name": "stdout",
     "output_type": "stream",
     "text": [
      "The number of odd numbers: 37 and the number of even numbres: 37\n"
     ]
    }
   ],
   "source": [
    "#writing the program to count even and odd numbers\n",
    "\n",
    "start = 7\n",
    "end = 80\n",
    "total_no = end-start+1\n",
    "\n",
    "if(total_no%2==0):\n",
    "    odd = int(total_no/2)\n",
    "    even = int(total_no/2)\n",
    "else:\n",
    "    odd = total_no//2 + 1\n",
    "    even = total_no//2\n",
    "\n",
    "    \n",
    "#printing the values\n",
    "print(f'The number of odd numbers: {odd} and the number of even numbres: {even}')"
   ]
  },
  {
   "cell_type": "markdown",
   "id": "e7762514",
   "metadata": {},
   "source": [
    "## Question 3"
   ]
  },
  {
   "cell_type": "markdown",
   "id": "0da352bd",
   "metadata": {},
   "source": [
    "1. int: integer data type represents whole number without any decimal\n",
    "2. float: float data type represents real number with decimal points\n",
    "3. bool: bolean data type represents truth value i.e. True or False \n",
    "4. complex: complex data type represnts complex number in the form a+bj where a is the real part abd bj is tha imaginary part\n",
    "5. str: string data type represents the sequence of characters"
   ]
  },
  {
   "cell_type": "code",
   "execution_count": 107,
   "id": "bac05d94",
   "metadata": {},
   "outputs": [
    {
     "name": "stdout",
     "output_type": "stream",
     "text": [
      "size of float data type: 24 and data type is: <class 'float'>\n",
      "size of int data type: 28 and data type is: <class 'int'>\n",
      "size of boolean data type: 28 and data type is: <class 'bool'>\n",
      "size of complex data type: 32 and data type is: <class 'complex'>\n",
      "size of string data type: 55 and data type is: <class 'str'>\n"
     ]
    }
   ],
   "source": [
    "#importing sys to use getsizeof function\n",
    "import sys\n",
    "a = 4\n",
    "b = 4.0\n",
    "c = 4+1j\n",
    "d = True\n",
    "e = 'python'\n",
    "int_size = sys.getsizeof(a)\n",
    "float_size = sys.getsizeof(b)\n",
    "comp_size = sys.getsizeof(c)\n",
    "bool_size = sys.getsizeof(d)\n",
    "str_size = sys.getsizeof(e)\n",
    "\n",
    "#printing function and data type\n",
    "print(f'size of float data type: {float_size} and data type is: {type(b)}')\n",
    "print(f'size of int data type: {int_size} and data type is: {type(a)}')\n",
    "print(f'size of boolean data type: {bool_size} and data type is: {type(d)}')\n",
    "print(f'size of complex data type: {comp_size} and data type is: {type(c)}')\n",
    "print(f'size of string data type: {str_size} and data type is: {type(e)}')"
   ]
  },
  {
   "cell_type": "markdown",
   "id": "adc3e2c4",
   "metadata": {},
   "source": [
    "## Question 4"
   ]
  },
  {
   "cell_type": "code",
   "execution_count": 52,
   "id": "9807b200",
   "metadata": {},
   "outputs": [
    {
     "name": "stdout",
     "output_type": "stream",
     "text": [
      "Enter the seed value: 10\n",
      "Value of a : 83, value of b : 14, value of c: 64\n",
      "The surface area of cuboid is given by: 14740\n"
     ]
    }
   ],
   "source": [
    "#importing random module\n",
    "import random\n",
    "\n",
    "seed = int(input('Enter the seed value: ')) # taking user input for the seed's value\n",
    "random.seed(seed)\n",
    "\n",
    "a = random.randint(10,100)\n",
    "b = random.randint(10,100)\n",
    "c = random.randint(10,100)\n",
    "\n",
    "surface_area = 2*(a*b + b*c + a*c)\n",
    "print(f'Value of a : {a}, value of b : {b}, value of c: {c}') # printing the random numbers generated\n",
    "print(f'The surface area of cuboid is given by: {surface_area}') # printing the surface area"
   ]
  },
  {
   "cell_type": "markdown",
   "id": "22757ff2",
   "metadata": {},
   "source": [
    "## Question 5"
   ]
  },
  {
   "cell_type": "code",
   "execution_count": 63,
   "id": "682ff484",
   "metadata": {},
   "outputs": [
    {
     "name": "stdout",
     "output_type": "stream",
     "text": [
      "Enter the value of a, b, c: 1 -2 1\n",
      "root1 = (1+0j) and root2 = (1+0j)\n"
     ]
    }
   ],
   "source": [
    "#importing cmath\n",
    "import cmath\n",
    "a, b, c = input('Enter the value of a, b, c: ').split()\n",
    "a = float(a)\n",
    "b = float(b)\n",
    "c = float(c)\n",
    "\n",
    "#calculating discriminant\n",
    "dis = cmath.sqrt(b**2 - 4*a*c)\n",
    "\n",
    "#calculating the root of quadratic equation\n",
    "if(a!=0):\n",
    "    root1 = (-b + dis)/(2*a)\n",
    "    root2 = (-b - dis)/(2*a)\n",
    "    print(f'root1 = {root1} and root2 = {root2}')\n",
    "else:\n",
    "    print('Enter non-zero value of a')"
   ]
  },
  {
   "cell_type": "markdown",
   "id": "9ba49fa5",
   "metadata": {},
   "source": [
    "## Question 6"
   ]
  },
  {
   "cell_type": "code",
   "execution_count": 109,
   "id": "fe9e83de",
   "metadata": {},
   "outputs": [
    {
     "name": "stdout",
     "output_type": "stream",
     "text": [
      "Enter the value of a and b: 11 7\n",
      "After addition operation, result = 18\n",
      "After substraction operation, result = 4\n",
      "After multiplication operation, result = 77\n",
      "After division operation, result = 1.5714285714285714\n",
      "After integer division operation, result = 1\n",
      "After exponential operation, result = 19487171\n",
      "After modulus operation, result = 4\n"
     ]
    }
   ],
   "source": [
    "#taking values from user to do the arithmetic opertaion\n",
    "a, b = input('Enter the value of a and b: ').split()\n",
    "a = int(a)\n",
    "b = int(b)\n",
    "\n",
    "#addition\n",
    "result1 = a+b\n",
    "\n",
    "#substraction\n",
    "result2 = a-b\n",
    "\n",
    "#multiplication\n",
    "result3 = a*b\n",
    "\n",
    "#division(if denominator is non-zero)\n",
    "if b!=0:\n",
    "    result4 = a/b\n",
    "\n",
    "#integer division(returns floor function)\n",
    "if b!=0:\n",
    "    result5 = a//b\n",
    "\n",
    "#exponential\n",
    "result6 = a**b\n",
    "\n",
    "#modulus\n",
    "result7 = a%b\n",
    "\n",
    "print(f'After addition operation, result = {result1}')\n",
    "print(f'After substraction operation, result = {result2}')\n",
    "print(f'After multiplication operation, result = {result3}')\n",
    "print(f'After division operation, result = {result4}')\n",
    "print(f'After integer division operation, result = {result5}')\n",
    "print(f'After exponential operation, result = {result6}')\n",
    "print(f'After modulus operation, result = {result7}')"
   ]
  },
  {
   "cell_type": "markdown",
   "id": "02878576",
   "metadata": {},
   "source": [
    "## Question 7"
   ]
  },
  {
   "cell_type": "code",
   "execution_count": 67,
   "id": "cfadac88",
   "metadata": {},
   "outputs": [],
   "source": [
    "lst = ['Learning', 'python', 'is', 'fun']"
   ]
  },
  {
   "cell_type": "markdown",
   "id": "33638e63",
   "metadata": {},
   "source": [
    "## a."
   ]
  },
  {
   "cell_type": "code",
   "execution_count": 71,
   "id": "e86b988b",
   "metadata": {},
   "outputs": [
    {
     "name": "stdout",
     "output_type": "stream",
     "text": [
      "After joining:  Learning python is fun\n"
     ]
    }
   ],
   "source": [
    "str1 = ' '.join(lst)\n",
    "print('After joining: ', str1)"
   ]
  },
  {
   "cell_type": "markdown",
   "id": "cc19d3e0",
   "metadata": {},
   "source": [
    "## b."
   ]
  },
  {
   "cell_type": "code",
   "execution_count": 75,
   "id": "54e3d6cc",
   "metadata": {},
   "outputs": [
    {
     "name": "stdout",
     "output_type": "stream",
     "text": [
      "After replacing:  Learning datascience is fun\n"
     ]
    }
   ],
   "source": [
    "str2 = str1.replace('python', 'datascience')\n",
    "print('After replacing: ', str2)"
   ]
  },
  {
   "cell_type": "markdown",
   "id": "70dcf563",
   "metadata": {},
   "source": [
    "## c."
   ]
  },
  {
   "cell_type": "code",
   "execution_count": 78,
   "id": "793b5040",
   "metadata": {},
   "outputs": [
    {
     "name": "stdout",
     "output_type": "stream",
     "text": [
      "After converting to upper case:  LEARNING PYTHON IS FUN\n"
     ]
    }
   ],
   "source": [
    "str3 = str1.upper()\n",
    "print('After converting to upper case: ', str3)"
   ]
  },
  {
   "cell_type": "markdown",
   "id": "f8e80a73",
   "metadata": {},
   "source": [
    "## d."
   ]
  },
  {
   "cell_type": "code",
   "execution_count": 85,
   "id": "76cd8570",
   "metadata": {},
   "outputs": [
    {
     "name": "stdout",
     "output_type": "stream",
     "text": [
      "After rearrangement:  fun is python learning\n"
     ]
    }
   ],
   "source": [
    "lst2 = lst[::-1]\n",
    "str4 = ' '.join(lst2)\n",
    "print('After rearrangement: ', str4.lower())"
   ]
  },
  {
   "cell_type": "markdown",
   "id": "0058989d",
   "metadata": {},
   "source": [
    "## e."
   ]
  },
  {
   "cell_type": "code",
   "execution_count": 86,
   "id": "1233bffe",
   "metadata": {},
   "outputs": [
    {
     "name": "stdout",
     "output_type": "stream",
     "text": [
      "After reversing each word:  nuf si nohtyp gninrael\n"
     ]
    }
   ],
   "source": [
    "a = lst2[0][::-1]\n",
    "b = lst2[1][::-1]\n",
    "c = lst2[2][::-1]\n",
    "d = lst2[3][::-1]\n",
    "\n",
    "lst3 = [a,b,c,d]\n",
    "\n",
    "str5 = ' '.join(lst3)\n",
    "print('After reversing each word: ', str5.lower())"
   ]
  },
  {
   "cell_type": "markdown",
   "id": "cc0c2c49",
   "metadata": {},
   "source": [
    "## Question 8"
   ]
  },
  {
   "cell_type": "markdown",
   "id": "174cd158",
   "metadata": {},
   "source": [
    "1. In python we don't need to specify the type of the data, it get assigned during the run time only.\n",
    "2. For string larger values we don't have to assign extra space for that, it gets dynamically assigned.\n",
    "3. In python the code is executed directlyby the interpreter, there is no need of compilation.\n",
    "4. In python there is built-in support for high level data types such as lists and dictionaries."
   ]
  },
  {
   "cell_type": "markdown",
   "id": "faae563c",
   "metadata": {},
   "source": [
    "## Question 9"
   ]
  },
  {
   "cell_type": "markdown",
   "id": "c6612c21",
   "metadata": {},
   "source": [
    "Built in function:\n",
    "These are those functions that are pre defined and are available in the library. We can use them directly without additionally importing."
   ]
  },
  {
   "cell_type": "markdown",
   "id": "c5879f93",
   "metadata": {},
   "source": [
    "1. len(): this will return the length of the iterable "
   ]
  },
  {
   "cell_type": "code",
   "execution_count": 87,
   "id": "a1e7dd86",
   "metadata": {},
   "outputs": [
    {
     "name": "stdout",
     "output_type": "stream",
     "text": [
      "4\n"
     ]
    }
   ],
   "source": [
    "lst = [1,2,3,4]\n",
    "print(len(lst)) # prints the length of the list"
   ]
  },
  {
   "cell_type": "markdown",
   "id": "69405279",
   "metadata": {},
   "source": [
    "2. type(): this will return the type of the data, when data is passed to it"
   ]
  },
  {
   "cell_type": "code",
   "execution_count": 88,
   "id": "cbc17a8a",
   "metadata": {},
   "outputs": [
    {
     "name": "stdout",
     "output_type": "stream",
     "text": [
      "<class 'str'>\n"
     ]
    }
   ],
   "source": [
    "a = 'python'\n",
    "print(type(a)) # prints the data type"
   ]
  },
  {
   "cell_type": "markdown",
   "id": "f9996947",
   "metadata": {},
   "source": [
    "3. print(): prints the vale of objects as outpt"
   ]
  },
  {
   "cell_type": "code",
   "execution_count": 89,
   "id": "7d706091",
   "metadata": {},
   "outputs": [
    {
     "name": "stdout",
     "output_type": "stream",
     "text": [
      "python\n"
     ]
    }
   ],
   "source": [
    "a = 'python'\n",
    "print(a) # prints the value of a"
   ]
  },
  {
   "cell_type": "markdown",
   "id": "3633617b",
   "metadata": {},
   "source": [
    "4. max(): it returns the maximum value of the iterable"
   ]
  },
  {
   "cell_type": "code",
   "execution_count": 97,
   "id": "cf40a1da",
   "metadata": {},
   "outputs": [
    {
     "name": "stdout",
     "output_type": "stream",
     "text": [
      "4\n"
     ]
    }
   ],
   "source": [
    "arr = [1,2,3,4]\n",
    "print(max(arr)) # prints the maximum value"
   ]
  },
  {
   "cell_type": "markdown",
   "id": "1e0b9beb",
   "metadata": {},
   "source": [
    "5. sorted(): returns the sorted list from the elements of the iterable"
   ]
  },
  {
   "cell_type": "code",
   "execution_count": 99,
   "id": "3b368ac1",
   "metadata": {},
   "outputs": [
    {
     "name": "stdout",
     "output_type": "stream",
     "text": [
      "['a', 'b', 'c', 'd']\n"
     ]
    }
   ],
   "source": [
    "arr = ['d', 'c', 'b', 'a']\n",
    "arr1 = sorted(arr)\n",
    "print(arr1) # prints after sorting"
   ]
  },
  {
   "cell_type": "markdown",
   "id": "2a5d918e",
   "metadata": {},
   "source": [
    "## Question 10"
   ]
  },
  {
   "cell_type": "markdown",
   "id": "b0f17a76",
   "metadata": {},
   "source": [
    "writing program to count the vowels in a given string"
   ]
  },
  {
   "cell_type": "code",
   "execution_count": 102,
   "id": "f9ae80ac",
   "metadata": {},
   "outputs": [
    {
     "name": "stdout",
     "output_type": "stream",
     "text": [
      "Enter the string: Hi, I amlearning python programming\n",
      "Total number of vowels in the given string is:  10\n"
     ]
    }
   ],
   "source": [
    "str1 = str(input('Enter the string: '))\n",
    "count = 0\n",
    "vowels = 'aeiouAEIOU'\n",
    "\n",
    "for x in str1:\n",
    "    if x in vowels:\n",
    "        count = count + 1\n",
    "        \n",
    "print('Total number of vowels in the given string is: ', count)"
   ]
  },
  {
   "cell_type": "markdown",
   "id": "87f060fb",
   "metadata": {},
   "source": [
    "writing program to check whether string is palindrome or not"
   ]
  },
  {
   "cell_type": "code",
   "execution_count": 105,
   "id": "99f49f87",
   "metadata": {},
   "outputs": [
    {
     "name": "stdout",
     "output_type": "stream",
     "text": [
      "Enter the string: radar\n",
      "Entered string is palindrome\n"
     ]
    }
   ],
   "source": [
    "str2 = str(input('Enter the string: '))\n",
    "temp = str2[::-1]\n",
    "\n",
    "#checking the palindrome condition\n",
    "if temp == str2:\n",
    "    print('Entered string is palindrome')\n",
    "else:\n",
    "    print('Entered string is not a palindrome')"
   ]
  },
  {
   "cell_type": "code",
   "execution_count": null,
   "id": "1f15fd54",
   "metadata": {},
   "outputs": [],
   "source": []
  }
 ],
 "metadata": {
  "kernelspec": {
   "display_name": "Python 3 (ipykernel)",
   "language": "python",
   "name": "python3"
  },
  "language_info": {
   "codemirror_mode": {
    "name": "ipython",
    "version": 3
   },
   "file_extension": ".py",
   "mimetype": "text/x-python",
   "name": "python",
   "nbconvert_exporter": "python",
   "pygments_lexer": "ipython3",
   "version": "3.11.4"
  }
 },
 "nbformat": 4,
 "nbformat_minor": 5
}
