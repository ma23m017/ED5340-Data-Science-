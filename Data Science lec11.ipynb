{
 "cells": [
  {
   "cell_type": "markdown",
   "id": "c729fce8",
   "metadata": {},
   "source": [
    "### Functions"
   ]
  },
  {
   "cell_type": "code",
   "execution_count": 1,
   "id": "99212506",
   "metadata": {},
   "outputs": [],
   "source": [
    "#user defined functions"
   ]
  },
  {
   "cell_type": "code",
   "execution_count": 2,
   "id": "e0a25097",
   "metadata": {},
   "outputs": [],
   "source": [
    "#how to define user defined functions"
   ]
  },
  {
   "cell_type": "code",
   "execution_count": 3,
   "id": "9280e1bf",
   "metadata": {},
   "outputs": [],
   "source": [
    "#what is function prototype??"
   ]
  },
  {
   "cell_type": "markdown",
   "id": "79a13e9b",
   "metadata": {},
   "source": [
    "def function_name(arg1, arg2,...):  #function definition\n",
    "    statement1\n",
    "    statement2\n",
    "    ..........\n",
    "    return var_name(s)\n",
    "\n",
    "a1 = ...; a2 = ...; ...\n",
    "\n",
    "function_name(a1,a2,...) #calling the function with passing of arguments"
   ]
  },
  {
   "cell_type": "code",
   "execution_count": 4,
   "id": "4d49c099",
   "metadata": {},
   "outputs": [
    {
     "name": "stdout",
     "output_type": "stream",
     "text": [
      "15\n"
     ]
    }
   ],
   "source": [
    "def cal_sum(x,y): #function definiton\n",
    "    s = (x+y)\n",
    "    return s\n",
    "\n",
    "a = 5\n",
    "b = 10\n",
    "su = cal_sum(a,b) #calling the function with passing of arguments\n",
    "\n",
    "print(su)"
   ]
  },
  {
   "cell_type": "code",
   "execution_count": 5,
   "id": "a6c4884f",
   "metadata": {},
   "outputs": [],
   "source": [
    "#here we can do multiple returns"
   ]
  },
  {
   "cell_type": "code",
   "execution_count": 7,
   "id": "e6f2596e",
   "metadata": {},
   "outputs": [
    {
     "name": "stdout",
     "output_type": "stream",
     "text": [
      "Sum of the given intergers is 15 and difference of the given intergers is -5 \n"
     ]
    }
   ],
   "source": [
    "#updating above code\n",
    "def cal_sum_substract(x,y): #function definiton\n",
    "    s1 = (x+y)\n",
    "    s2 = (x-y)\n",
    "    return s1, s2\n",
    "\n",
    "a = 5\n",
    "b = 10\n",
    "su1, su2 = cal_sum_substract(a,b) #calling the function with passing of arguments\n",
    "\n",
    "print(f'Sum of the given intergers is {su1} and difference of the given intergers is {su2} ')"
   ]
  },
  {
   "cell_type": "code",
   "execution_count": 8,
   "id": "8c913dfd",
   "metadata": {},
   "outputs": [],
   "source": [
    "#positional arguments- order/type has to match\n",
    "#keyword arguments- order need not to match"
   ]
  },
  {
   "cell_type": "code",
   "execution_count": 9,
   "id": "b4067e09",
   "metadata": {},
   "outputs": [
    {
     "name": "stdout",
     "output_type": "stream",
     "text": [
      "Function returning multiple values:  11.34 RAM\n"
     ]
    }
   ],
   "source": [
    "def pos_fun(i,f,st):\n",
    "    su1 = i+f\n",
    "    st1 = st.upper()\n",
    "    return su1,st1\n",
    "\n",
    "i1,f1,st1 = 5, 6.34, 'Ram'\n",
    "\n",
    "out1, out2 = pos_fun(i1,f1,st1)\n",
    "\n",
    "print('Function returning multiple values: ', out1, out2)\n"
   ]
  },
  {
   "cell_type": "code",
   "execution_count": 14,
   "id": "57562864",
   "metadata": {},
   "outputs": [
    {
     "name": "stdout",
     "output_type": "stream",
     "text": [
      "(11.34, 'RAM') <class 'tuple'>\n"
     ]
    }
   ],
   "source": [
    "out_lst = pos_fun(i1,f1,st1)\n",
    "print(out_lst, type(out_lst))"
   ]
  },
  {
   "cell_type": "code",
   "execution_count": 15,
   "id": "f95498fd",
   "metadata": {},
   "outputs": [
    {
     "ename": "TypeError",
     "evalue": "can only concatenate str (not \"int\") to str",
     "output_type": "error",
     "traceback": [
      "\u001b[1;31m---------------------------------------------------------------------------\u001b[0m",
      "\u001b[1;31mTypeError\u001b[0m                                 Traceback (most recent call last)",
      "Cell \u001b[1;32mIn[15], line 1\u001b[0m\n\u001b[1;32m----> 1\u001b[0m out_lst \u001b[38;5;241m=\u001b[39m pos_fun(st1,i1,f1)\u001b[38;5;66;03m#arguments are not in order\u001b[39;00m\n\u001b[0;32m      2\u001b[0m \u001b[38;5;28mprint\u001b[39m(out_lst)\n",
      "Cell \u001b[1;32mIn[9], line 2\u001b[0m, in \u001b[0;36mpos_fun\u001b[1;34m(i, f, st)\u001b[0m\n\u001b[0;32m      1\u001b[0m \u001b[38;5;28;01mdef\u001b[39;00m \u001b[38;5;21mpos_fun\u001b[39m(i,f,st):\n\u001b[1;32m----> 2\u001b[0m     su1 \u001b[38;5;241m=\u001b[39m i\u001b[38;5;241m+\u001b[39mf\n\u001b[0;32m      3\u001b[0m     st1 \u001b[38;5;241m=\u001b[39m st\u001b[38;5;241m.\u001b[39mupper()\n\u001b[0;32m      4\u001b[0m     \u001b[38;5;28;01mreturn\u001b[39;00m su1,st1\n",
      "\u001b[1;31mTypeError\u001b[0m: can only concatenate str (not \"int\") to str"
     ]
    }
   ],
   "source": [
    "out_lst = pos_fun(st1,i1,f1)#arguments are not in order\n",
    "print(out_lst)#it will not work"
   ]
  },
  {
   "cell_type": "code",
   "execution_count": 16,
   "id": "ae062bf7",
   "metadata": {},
   "outputs": [
    {
     "name": "stdout",
     "output_type": "stream",
     "text": [
      "Using keyword arguments (30.3, 'RAM')\n"
     ]
    }
   ],
   "source": [
    "out_lst2 = pos_fun(i = 10, f = 20.3, st = 'Ram')\n",
    "print('Using keyword arguments', out_lst2)"
   ]
  },
  {
   "cell_type": "code",
   "execution_count": 20,
   "id": "750d9fae",
   "metadata": {},
   "outputs": [
    {
     "name": "stdout",
     "output_type": "stream",
     "text": [
      "Changing the order of keyword arguments (30.3, 'RAM')\n"
     ]
    }
   ],
   "source": [
    "out_lst3 = pos_fun(i = 10, st = 'Ram', f = 20.3)#changing the order will work here\n",
    "print('Changing the order of keyword arguments', out_lst3)"
   ]
  },
  {
   "cell_type": "code",
   "execution_count": 21,
   "id": "316bf898",
   "metadata": {},
   "outputs": [
    {
     "ename": "TypeError",
     "evalue": "pos_fun() got an unexpected keyword argument 'i1'",
     "output_type": "error",
     "traceback": [
      "\u001b[1;31m---------------------------------------------------------------------------\u001b[0m",
      "\u001b[1;31mTypeError\u001b[0m                                 Traceback (most recent call last)",
      "Cell \u001b[1;32mIn[21], line 1\u001b[0m\n\u001b[1;32m----> 1\u001b[0m out_lst \u001b[38;5;241m=\u001b[39m pos_fun(i1 \u001b[38;5;241m=\u001b[39m \u001b[38;5;241m10\u001b[39m, f1 \u001b[38;5;241m=\u001b[39m \u001b[38;5;241m20.3\u001b[39m, st1 \u001b[38;5;241m=\u001b[39m \u001b[38;5;124m'\u001b[39m\u001b[38;5;124mRam\u001b[39m\u001b[38;5;124m'\u001b[39m)\u001b[38;5;66;03m#changing the identifier, it will not work\u001b[39;00m\n\u001b[0;32m      2\u001b[0m \u001b[38;5;28mprint\u001b[39m(\u001b[38;5;124m'\u001b[39m\u001b[38;5;124mUsing keyword arguments\u001b[39m\u001b[38;5;124m'\u001b[39m, out_lst)\n",
      "\u001b[1;31mTypeError\u001b[0m: pos_fun() got an unexpected keyword argument 'i1'"
     ]
    }
   ],
   "source": [
    "out_lst = pos_fun(i1 = 10, f1 = 20.3, st1 = 'Ram')#changing the identifier, it will not work\n",
    "print('Using keyword arguments', out_lst)"
   ]
  },
  {
   "cell_type": "code",
   "execution_count": 22,
   "id": "0b42a44a",
   "metadata": {},
   "outputs": [
    {
     "ename": "SyntaxError",
     "evalue": "positional argument follows keyword argument (3683777597.py, line 11)",
     "output_type": "error",
     "traceback": [
      "\u001b[1;36m  Cell \u001b[1;32mIn[22], line 11\u001b[1;36m\u001b[0m\n\u001b[1;33m    pos_fun(a, f = 20.3, st1, st2 = 'Shyam')\u001b[0m\n\u001b[1;37m                                           ^\u001b[0m\n\u001b[1;31mSyntaxError\u001b[0m\u001b[1;31m:\u001b[0m positional argument follows keyword argument\n"
     ]
    }
   ],
   "source": [
    "def pos_fun(i, f, st1, st2):\n",
    "    su = i+f\n",
    "    str1 = st1.lower()\n",
    "    str2 = st2.upper()\n",
    "    \n",
    "    return su, str1, str2\n",
    "\n",
    "a = 10\n",
    "st1 = 'Ram'\n",
    "\n",
    "pos_fun(a, f = 20.3, st1, st2 = 'Shyam')#it will not work\n",
    "print(pos_fun)"
   ]
  },
  {
   "cell_type": "code",
   "execution_count": 24,
   "id": "27c10ae1",
   "metadata": {},
   "outputs": [],
   "source": [
    "#variable length positional arguments - number of arguments are not fixed\n",
    "#variable length keyword arguments - number of keyword arguments are not fixed"
   ]
  },
  {
   "cell_type": "code",
   "execution_count": null,
   "id": "db600972",
   "metadata": {},
   "outputs": [],
   "source": []
  }
 ],
 "metadata": {
  "kernelspec": {
   "display_name": "Python 3 (ipykernel)",
   "language": "python",
   "name": "python3"
  },
  "language_info": {
   "codemirror_mode": {
    "name": "ipython",
    "version": 3
   },
   "file_extension": ".py",
   "mimetype": "text/x-python",
   "name": "python",
   "nbconvert_exporter": "python",
   "pygments_lexer": "ipython3",
   "version": "3.11.4"
  }
 },
 "nbformat": 4,
 "nbformat_minor": 5
}
