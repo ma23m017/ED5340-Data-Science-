{
 "cells": [
  {
   "cell_type": "code",
   "execution_count": 1,
   "id": "81987bca",
   "metadata": {},
   "outputs": [],
   "source": [
    "#"
   ]
  },
  {
   "cell_type": "markdown",
   "id": "cf0a38ec",
   "metadata": {},
   "source": [
    "## Question 5"
   ]
  },
  {
   "cell_type": "markdown",
   "id": "b37700f7",
   "metadata": {},
   "source": [
    "WAP to implement a class called \"Bank_Account\" representing a person's bank account.\n",
    "\n",
    "The class should have the following attributes: account_holder_name (str), account_number(int), address (str) and balance (float).\n",
    "\n",
    "The class should have methods to implement the following:\n",
    "\n",
    "deposit - Deposits a given amount into the account\n",
    "\n",
    "withdraw - Withdraws a given amount from the account\n",
    "\n",
    "check_balance - To get the current balance\n",
    "\n",
    "update_details - To update the name and address from the user and displays a message indicating successful update\n",
    "\n",
    "display_details - To display the details of the account."
   ]
  },
  {
   "cell_type": "markdown",
   "id": "d66d2610",
   "metadata": {},
   "source": [
    "## Solution"
   ]
  },
  {
   "cell_type": "code",
   "execution_count": 10,
   "id": "87049f6e",
   "metadata": {},
   "outputs": [],
   "source": [
    "#Creating class named 'Bank_Account'\n",
    "\n",
    "class Bank_Account:\n",
    "    #Constructor to initialize the Bank_Account object\n",
    "    def __init__(self, account_holder_name, account_number, address, balance=0.0):\n",
    "        \n",
    "        self.account_holder_name = account_holder_name\n",
    "        self.account_number = account_number\n",
    "        self.address = address\n",
    "        self.balance = balance\n",
    "\n",
    "    def deposit(self, amount):  #Method to deposit a given amount into the account\n",
    "        \n",
    "        if amount > 0:\n",
    "            self.balance = self.balance+amount #if amount is positive then adding that amount to balance\n",
    "            print(f\"Deposit of {amount} Rs. successful. Current balance: {self.balance} Rs.\")\n",
    "        else:\n",
    "            print(\"Invalid amount for deposit.\")\n",
    "\n",
    "    def withdraw(self, amount):  #Method to withdraw a given amount from the account\n",
    "        \n",
    "        if 0 < amount <= self.balance:  \n",
    "            self.balance = self.balance-amount  #if amount is valid then deducting that amount from balance\n",
    "            print(f\"Withdrawal of {amount} Rs. successful. Current balance: {self.balance} Rs.\")\n",
    "        else:\n",
    "            print(\"Invalid amount for withdrawal.\")\n",
    "\n",
    "    def check_balance(self):  #Method to check and display the current balance of the account\n",
    "        print(f\"Current balance: {self.balance} Rs.\")\n",
    "\n",
    "        \n",
    "    def update_details(self, new_name, new_address):  #Method to update the account holder's name and address\n",
    "        \n",
    "        self.account_holder_name = new_name\n",
    "        self.address = new_address\n",
    "        print(\"\\nDetails updated successfully.\")\n",
    "\n",
    "    def display_details(self):  #Method to display the various details\n",
    "        \n",
    "        print(\"\\nAccount Details:\")\n",
    "        print(f\"Account Holder Name: {self.account_holder_name}\")\n",
    "        print(f\"Account Number: {self.account_number}\")\n",
    "        print(f\"Address: {self.address}\")\n",
    "        print(f\"Balance: {self.balance} Rs.\")"
   ]
  },
  {
   "cell_type": "code",
   "execution_count": 11,
   "id": "76367711",
   "metadata": {},
   "outputs": [
    {
     "name": "stdout",
     "output_type": "stream",
     "text": [
      "Deposit of 10000 Rs. successful. Current balance: 10000.0 Rs.\n",
      "Withdrawal of 1000 Rs. successful. Current balance: 9000.0 Rs.\n",
      "Current balance: 9000.0 Rs.\n",
      "\n",
      "Account Details:\n",
      "Account Holder Name: Kumar Prabhat\n",
      "Account Number: 123456789\n",
      "Address: NIT Jamshedpur\n",
      "Balance: 9000.0 Rs.\n",
      "\n",
      "Details updated successfully.\n",
      "\n",
      "Account Details:\n",
      "Account Holder Name: Prabhat Kumar\n",
      "Account Number: 123456789\n",
      "Address: IIT Madras\n",
      "Balance: 9000.0 Rs.\n"
     ]
    }
   ],
   "source": [
    "#implementation of the class\n",
    "\n",
    "\n",
    "account = Bank_Account(\"Kumar Prabhat\", 123456789, \"NIT Jamshedpur\")  # Creating a bank account object\n",
    "\n",
    "account.deposit(10000) # Depositing money\n",
    "account.withdraw(1000) # withdrawing money\n",
    "\n",
    "account.check_balance()  # Checking balance\n",
    "\n",
    "account.display_details()  # displaying the bank details\n",
    "\n",
    "account.update_details(\"Prabhat Kumar\", \"IIT Madras\")  # Updating details\n",
    "\n",
    "account.display_details()  # Displaying updated details"
   ]
  },
  {
   "cell_type": "markdown",
   "id": "db3d7580",
   "metadata": {},
   "source": [
    "## Question 6"
   ]
  },
  {
   "cell_type": "markdown",
   "id": "89e76a2c",
   "metadata": {},
   "source": [
    "Define a Matrix class of dimensions m X n (the values for m and n can be taken as input). Demonstrate matrix addition, subtraction, multiplication, element-by-element multiplication, scalar multiplication (use map here). Use operator overloading wherever possible. (Hint: In the constructor, use 'random' and create list of list using list comprehension. In the arguments of constructor, send the number of rows and columns)\n",
    "Ensure that your implementation follows best practices for class design and encapsulation in Python. Comment your code to explain the functionality of each method."
   ]
  },
  {
   "cell_type": "markdown",
   "id": "ecac610a",
   "metadata": {},
   "source": [
    "## Solution"
   ]
  },
  {
   "cell_type": "code",
   "execution_count": 28,
   "id": "20892144",
   "metadata": {},
   "outputs": [],
   "source": [
    "import random  #importing random module\n",
    "\n",
    "#creating class Matrix\n",
    "class Matrix:\n",
    "    def __init__(self, m, n):  #Constructor to initialize the Matrix object with dimensions m X n\n",
    "        \n",
    "        self.m = m\n",
    "        self.n = n\n",
    "        #The matrix elements are initialized randomly\n",
    "        self.matrix = [[random.randint(1, 10) for _ in range(n)] for _ in range(m)]\n",
    "\n",
    "        \n",
    "    def __str__(self):  #Method to represent the Matrix object as a string\n",
    "        \n",
    "        matrix_str = \"\"\n",
    "        for row in self.matrix:\n",
    "            matrix_str += \" \".join(map(str, row)) + \"\\n\"\n",
    "        return matrix_str\n",
    "\n",
    "    def __add__(self, other):  #Method to perform matrix addition\n",
    "        \n",
    "        if self.m == other.m and self.n == other.n:\n",
    "            result = Matrix(self.m, self.n)\n",
    "            #using list comprehension to add the matrices\n",
    "            result.matrix = [[self.matrix[i][j] + other.matrix[i][j] for j in range(self.n)] for i in range(self.m)]\n",
    "            return result\n",
    "        else:\n",
    "            print(\"Matrices must have the same dimensions for addition.\")\n",
    "            \n",
    "\n",
    "    def __sub__(self, other):  #Method to perform matrix subtraction\n",
    "        \n",
    "        if self.m == other.m and self.n == other.n:\n",
    "            result = Matrix(self.m, self.n)\n",
    "            #using list comprehension to substract the matrices\n",
    "            result.matrix = [[self.matrix[i][j] - other.matrix[i][j] for j in range(self.n)] for i in range(self.m)]\n",
    "            return result\n",
    "        else:\n",
    "            print(\"Matrices must have the same dimensions for substraction.\")\n",
    "            \n",
    "\n",
    "    def __mul__(self, other):  #Method to perform matrix multiplication\n",
    "        \n",
    "        if self.n == other.m:\n",
    "            result = Matrix(self.m, other.n)\n",
    "            #again using list comprehension to perform the operation\n",
    "            result.matrix = [[sum(self.matrix[i][k] * other.matrix[k][j] for k in range(self.n)) for j in range(other.n)] for i in range(self.m)]\n",
    "            return result\n",
    "        else:\n",
    "            print(\"Number of columns in the first matrix must be equal to the number of rows in the second matrix for multiplication.\")\n",
    "            \n",
    "\n",
    "    def element_wise_multiply(self, other):  #Method to perform element-wise multiplication\n",
    "        \n",
    "        if self.m == other.m and self.n == other.n:\n",
    "            result = Matrix(self.m, self.n)\n",
    "            result.matrix = [[self.matrix[i][j] * other.matrix[i][j] for j in range(self.n)] for i in range(self.m)]\n",
    "            return result\n",
    "        else:\n",
    "            print(\"Matrices must have the same dimensions for substraction.\")\n",
    "            \n",
    "\n",
    "    def scalar_multiply(self, scalar):  #Method to perform scalar multiplication\n",
    "        \n",
    "        result = Matrix(self.m, self.n)\n",
    "        result.matrix = [[element * scalar for element in row] for row in self.matrix]\n",
    "        return result"
   ]
  },
  {
   "cell_type": "code",
   "execution_count": 29,
   "id": "a3f4e8da",
   "metadata": {},
   "outputs": [
    {
     "name": "stdout",
     "output_type": "stream",
     "text": [
      "Enter number of rows for matrix: 2\n",
      "Enter number of columns for matrix: 2\n",
      "1st Matrix:\n",
      "9 7\n",
      "7 8\n",
      "\n",
      "2nd Matrix:\n",
      "5 2\n",
      "4 4\n",
      "\n",
      "Matrix Addition:\n",
      "14 9\n",
      "11 12\n",
      "\n",
      "Matrix Subtraction:\n",
      "4 5\n",
      "3 4\n",
      "\n",
      "Matrix Multiplication:\n",
      "73 46\n",
      "67 46\n",
      "\n",
      "Element-wise Multiplication:\n",
      "45 14\n",
      "28 32\n",
      "\n",
      "Enter scalar value for scalar multiplication: 2\n",
      "Scalar Multiplication:\n",
      "18 14\n",
      "14 16\n",
      "\n"
     ]
    }
   ],
   "source": [
    "#class implementation and example usages\n",
    "\n",
    "#taking input from the users\n",
    "m = int(input(\"Enter number of rows for matrix: \"))\n",
    "n = int(input(\"Enter number of columns for matrix: \"))\n",
    "\n",
    "#creating two objects of matrix class\n",
    "matrix1 = Matrix(m, n)\n",
    "matrix2 = Matrix(m, n)\n",
    "\n",
    "#printing the 1st and 2nd matrix\n",
    "\n",
    "print(\"1st Matrix:\")\n",
    "print(matrix1)\n",
    "\n",
    "print(\"2nd Matrix:\")\n",
    "print(matrix2)\n",
    "\n",
    "# Matrix addition\n",
    "print(\"Matrix Addition:\")\n",
    "print(matrix1 + matrix2)\n",
    "\n",
    "#Matrix substraction\n",
    "print(\"Matrix Subtraction:\")\n",
    "print(matrix1 - matrix2)\n",
    "\n",
    "#Matrix multiplication\n",
    "print(\"Matrix Multiplication:\")\n",
    "print(matrix1 * matrix2)\n",
    "\n",
    "print(\"Element-wise Multiplication:\")\n",
    "print(matrix1.element_wise_multiply(matrix2))\n",
    "\n",
    "scalar = int(input(\"Enter scalar value for scalar multiplication: \"))\n",
    "print(\"Scalar Multiplication:\")\n",
    "print(matrix1.scalar_multiply(scalar))"
   ]
  },
  {
   "cell_type": "markdown",
   "id": "0e89a09e",
   "metadata": {},
   "source": [
    "## Question 7"
   ]
  },
  {
   "cell_type": "markdown",
   "id": "a245cf1d",
   "metadata": {},
   "source": [
    "Create a Python class named Time that represents a moment of time. The class should have attributes hour, minute, and second.\n",
    "\n",
    "Include the following features:\n",
    "\n",
    "A constructor that initializes hour, minute, and second, with validation to ensure each attribute is within its correct range (hours: 0-23, minutes: 0-59, seconds: 0-59).\n",
    "    \n",
    "A __str__() method that returns the time in a format hh:mm:ss.\n",
    "\n",
    "Methods set_time(hour, minute, second) and get_time() to update and access the time, respectively.\n",
    "\n",
    "An add_seconds(seconds) method that adds a given number of seconds to the current time object, adjusting the hour, minute, and second attributes accordingly."
   ]
  },
  {
   "cell_type": "markdown",
   "id": "15618e1e",
   "metadata": {},
   "source": [
    "## Solution"
   ]
  },
  {
   "cell_type": "code",
   "execution_count": 32,
   "id": "3e1de727",
   "metadata": {},
   "outputs": [],
   "source": [
    "#creating a class named 'Time'\n",
    "\n",
    "class Time:\n",
    "    def __init__(self, hour, minute, second):  #Constructor to initialize hour, minute, and second attributes\n",
    "        \n",
    "        self.set_time(hour, minute, second)\n",
    "        \n",
    "\n",
    "    def set_time(self, hour, minute, second):  #Method to set the time attributes with validation\n",
    "        \n",
    "        if 0 <= hour < 24 and 0 <= minute < 60 and 0 <= second < 60:\n",
    "            self.hour = hour\n",
    "            self.minute = minute\n",
    "            self.second = second\n",
    "        else:\n",
    "            print(\"Invalid time format.\")\n",
    "            \n",
    "\n",
    "    def get_time(self):  #Method to return the current time in the format hh:mm:ss\n",
    "        \n",
    "        return f\"{self.hour:02d}:{self.minute:02d}:{self.second:02d}\"\n",
    "            \n",
    "\n",
    "    def add_seconds(self, seconds):  #Method to add a given number of seconds to the current time object\n",
    "        \n",
    "        total_seconds = self.hour * 3600 + self.minute * 60 + self.second + seconds\n",
    "        \n",
    "        #Adjusting the hour, minute, and second attributes accordingly\n",
    "        self.hour = total_seconds // 3600 % 24\n",
    "        self.minute = (total_seconds % 3600) // 60\n",
    "        self.second = total_seconds % 60\n",
    "        \n",
    "\n",
    "    def __str__(self):  #Method to return the time in a format hh:mm:ss\n",
    "        \n",
    "        return self.get_time()"
   ]
  },
  {
   "cell_type": "code",
   "execution_count": 36,
   "id": "62f9b065",
   "metadata": {},
   "outputs": [
    {
     "name": "stdout",
     "output_type": "stream",
     "text": [
      "Current Time: 05:10:45\n",
      "Updated Time: 05:12:25\n"
     ]
    }
   ],
   "source": [
    "#class implementation and example usage\n",
    "\n",
    "\n",
    "time_obj = Time(5, 10, 45)  # Creating a Time object\n",
    "\n",
    "\n",
    "print(\"Current Time:\", time_obj)  # Displaying the current time\n",
    "\n",
    "\n",
    "time_obj.add_seconds(100)  # Adding seconds\n",
    "\n",
    "\n",
    "print(\"Updated Time:\", time_obj)  # Displaying the updated time"
   ]
  },
  {
   "cell_type": "markdown",
   "id": "cb6deeec",
   "metadata": {},
   "source": [
    "## Question 8"
   ]
  },
  {
   "cell_type": "markdown",
   "id": "5509b89d",
   "metadata": {},
   "source": [
    "Create a class named Geometry that provides static methods for various geometric calculations, such as area and perimeter, for different shapes (circle, rectangle, square). Include:\n",
    "\n",
    "Static methods like circle_area(radius), rectangle_area(length, width), and square_area(side).\n",
    "\n",
    "Static methods for perimeter calculations for the above shapes.\n",
    "\n",
    "Ensure that methods check for valid inputs (e.g., positive numbers)."
   ]
  },
  {
   "cell_type": "markdown",
   "id": "830d8da5",
   "metadata": {},
   "source": [
    "## Solution"
   ]
  },
  {
   "cell_type": "code",
   "execution_count": 39,
   "id": "186c4971",
   "metadata": {},
   "outputs": [],
   "source": [
    "import math  #importing math module\n",
    "\n",
    "#creating class named 'Geometry'\n",
    "class Geometry:\n",
    "    \n",
    "    \"\"\"\n",
    "        This is a static method.\n",
    "        \n",
    "        Static methods do not have access to instance attributes (self), \n",
    "        nor can they modify them. They are defined using the @staticmethod \n",
    "        decorator and can be called directly from the class.\n",
    "        \"\"\"\n",
    "    \n",
    "    @staticmethod  #defining staticmethod\n",
    "    def circle_area(radius): #calculate the area of a circle\n",
    "        \n",
    "        if radius <= 0:\n",
    "            print(\"Radius must be a positive number.\")\n",
    "        return math.pi * radius ** 2\n",
    "\n",
    "    @staticmethod\n",
    "    def circle_perimeter(radius):  #calculate the perimeter of a circle\n",
    "        \n",
    "        if radius <= 0:\n",
    "            print(\"Radius must be a positive number.\")\n",
    "        return 2 * math.pi * radius\n",
    "\n",
    "    @staticmethod\n",
    "    def rectangle_area(length, width):  #calculate the area of a rectangle.\n",
    "        \n",
    "        if length <= 0 or width <= 0:\n",
    "            print(\"Length and width must be positive numbers.\")\n",
    "        return length * width\n",
    "\n",
    "    @staticmethod\n",
    "    def rectangle_perimeter(length, width):  #calculate the perimeter of a rectangle\n",
    "        \n",
    "        if length <= 0 or width <= 0:\n",
    "            print(\"Length and width must be positive numbers.\")\n",
    "        return 2 * (length + width)\n",
    "\n",
    "    @staticmethod\n",
    "    def square_area(side):  #calculate the area of a square\n",
    "        \n",
    "        if side <= 0:\n",
    "            print(\"Side length must be a positive number.\")\n",
    "        return side ** 2\n",
    "\n",
    "    @staticmethod\n",
    "    def square_perimeter(side):  #calculate the perimeter of a square\n",
    "        \n",
    "        if side <= 0:\n",
    "            raise ValueError(\"Side length must be a positive number.\")\n",
    "        return 4 * side"
   ]
  },
  {
   "cell_type": "code",
   "execution_count": 45,
   "id": "39f0144b",
   "metadata": {},
   "outputs": [
    {
     "name": "stdout",
     "output_type": "stream",
     "text": [
      "Area of circle: 78.54\n",
      "Perimeter of circle: 31.42\n",
      "\n",
      "Area of rectangle: 24\n",
      "Perimeter of rectangle: 20\n",
      "\n",
      "Area of square: 9\n",
      "Perimeter of square: 12\n"
     ]
    }
   ],
   "source": [
    "#class implementation and example usage\n",
    "\n",
    "radius = 5\n",
    "print(\"Area of circle:\", round(Geometry.circle_area(radius),2))\n",
    "print(\"Perimeter of circle:\", round(Geometry.circle_perimeter(radius),2))\n",
    "\n",
    "# Rectangle calculations\n",
    "length = 4\n",
    "width = 6\n",
    "print(\"\\nArea of rectangle:\", Geometry.rectangle_area(length, width))\n",
    "print(\"Perimeter of rectangle:\", Geometry.rectangle_perimeter(length, width))\n",
    "\n",
    "# Square calculations\n",
    "side = 3\n",
    "print(\"\\nArea of square:\", Geometry.square_area(side))\n",
    "print(\"Perimeter of square:\", Geometry.square_perimeter(side))"
   ]
  },
  {
   "cell_type": "code",
   "execution_count": null,
   "id": "e5560e8f",
   "metadata": {},
   "outputs": [],
   "source": []
  }
 ],
 "metadata": {
  "kernelspec": {
   "display_name": "Python 3 (ipykernel)",
   "language": "python",
   "name": "python3"
  },
  "language_info": {
   "codemirror_mode": {
    "name": "ipython",
    "version": 3
   },
   "file_extension": ".py",
   "mimetype": "text/x-python",
   "name": "python",
   "nbconvert_exporter": "python",
   "pygments_lexer": "ipython3",
   "version": "3.11.4"
  }
 },
 "nbformat": 4,
 "nbformat_minor": 5
}
