{
 "cells": [
  {
   "cell_type": "code",
   "execution_count": 10,
   "id": "a1e55647",
   "metadata": {},
   "outputs": [],
   "source": [
    "#updating set operations\n",
    "#similar to assignment expression a+=b"
   ]
  },
  {
   "cell_type": "code",
   "execution_count": 2,
   "id": "3c30b201",
   "metadata": {},
   "outputs": [],
   "source": [
    "A = {1,2,3}\n",
    "B = {4,5,6}\n",
    "A|=B"
   ]
  },
  {
   "cell_type": "code",
   "execution_count": 3,
   "id": "2558535a",
   "metadata": {},
   "outputs": [
    {
     "data": {
      "text/plain": [
       "{1, 2, 3, 4, 5, 6}"
      ]
     },
     "execution_count": 3,
     "metadata": {},
     "output_type": "execute_result"
    }
   ],
   "source": [
    "A"
   ]
  },
  {
   "cell_type": "code",
   "execution_count": 5,
   "id": "f0e97024",
   "metadata": {},
   "outputs": [
    {
     "data": {
      "text/plain": [
       "{4, 5, 6}"
      ]
     },
     "execution_count": 5,
     "metadata": {},
     "output_type": "execute_result"
    }
   ],
   "source": [
    "A&=B\n",
    "A"
   ]
  },
  {
   "cell_type": "code",
   "execution_count": 7,
   "id": "379a0041",
   "metadata": {},
   "outputs": [
    {
     "data": {
      "text/plain": [
       "set()"
      ]
     },
     "execution_count": 7,
     "metadata": {},
     "output_type": "execute_result"
    }
   ],
   "source": [
    "A-=B\n",
    "A"
   ]
  },
  {
   "cell_type": "code",
   "execution_count": 8,
   "id": "646ae07b",
   "metadata": {},
   "outputs": [
    {
     "data": {
      "text/plain": [
       "{4, 5, 6}"
      ]
     },
     "execution_count": 8,
     "metadata": {},
     "output_type": "execute_result"
    }
   ],
   "source": [
    "B-=A\n",
    "B"
   ]
  },
  {
   "cell_type": "code",
   "execution_count": 9,
   "id": "12ac1b7f",
   "metadata": {},
   "outputs": [
    {
     "data": {
      "text/plain": [
       "{4, 5, 6}"
      ]
     },
     "execution_count": 9,
     "metadata": {},
     "output_type": "execute_result"
    }
   ],
   "source": [
    "A^=B\n",
    "A"
   ]
  },
  {
   "cell_type": "code",
   "execution_count": 11,
   "id": "0e307376",
   "metadata": {},
   "outputs": [],
   "source": [
    "#dictionaries"
   ]
  },
  {
   "cell_type": "markdown",
   "id": "7e136bb8",
   "metadata": {},
   "source": [
    "Dictionary is a collection of key value"
   ]
  },
  {
   "cell_type": "code",
   "execution_count": 12,
   "id": "1723c411",
   "metadata": {},
   "outputs": [
    {
     "name": "stdout",
     "output_type": "stream",
     "text": [
      "{} <class 'dict'>\n"
     ]
    }
   ],
   "source": [
    "A = {}\n",
    "print(A,type(A))"
   ]
  },
  {
   "cell_type": "code",
   "execution_count": 13,
   "id": "e00aa80e",
   "metadata": {},
   "outputs": [
    {
     "name": "stdout",
     "output_type": "stream",
     "text": [
      "{10: 100, 20: 200, 'ED1': 'name1', 'ED2': 'name2'}\n"
     ]
    }
   ],
   "source": [
    "dct1 = {10:100, 20:200, 'ED1':'name1','ED2':'name2'}\n",
    "print(dct1)"
   ]
  },
  {
   "cell_type": "code",
   "execution_count": 19,
   "id": "820d5993",
   "metadata": {},
   "outputs": [
    {
     "data": {
      "text/plain": [
       "100"
      ]
     },
     "execution_count": 19,
     "metadata": {},
     "output_type": "execute_result"
    }
   ],
   "source": [
    "dct1[10]"
   ]
  },
  {
   "cell_type": "code",
   "execution_count": 20,
   "id": "6daef7fc",
   "metadata": {},
   "outputs": [
    {
     "data": {
      "text/plain": [
       "200"
      ]
     },
     "execution_count": 20,
     "metadata": {},
     "output_type": "execute_result"
    }
   ],
   "source": [
    "dct1 = {20:100, 10:200, 'ED1':'name1','ED2':'name2'}\n",
    "dct1[10]"
   ]
  },
  {
   "cell_type": "code",
   "execution_count": 24,
   "id": "63001984",
   "metadata": {},
   "outputs": [
    {
     "data": {
      "text/plain": [
       "{20: None, 10: None, 'ED1': None, 'ED2': None}"
      ]
     },
     "execution_count": 24,
     "metadata": {},
     "output_type": "execute_result"
    }
   ],
   "source": [
    "dct1.fromkeys(dct1)"
   ]
  },
  {
   "cell_type": "code",
   "execution_count": 30,
   "id": "2eed7687",
   "metadata": {},
   "outputs": [
    {
     "name": "stdout",
     "output_type": "stream",
     "text": [
      "printing the entire dictionary {10: 100, 20: 200, 'ED1': 'name1', 'ED2': 'name2'}\n",
      "\n",
      "\n",
      "10 100\n",
      "20 200\n",
      "ED1 name1\n",
      "ED2 name2\n"
     ]
    }
   ],
   "source": [
    "dct1 = {10:100, 20:200, 'ED1':'name1','ED2':'name2'}\n",
    "print('printing the entire dictionary', dct1)\n",
    "print('\\n')\n",
    "for k,v in dct1.items():\n",
    "    print(k,v)"
   ]
  },
  {
   "cell_type": "code",
   "execution_count": 28,
   "id": "b3844aff",
   "metadata": {},
   "outputs": [
    {
     "name": "stdout",
     "output_type": "stream",
     "text": [
      "10\n",
      "20\n",
      "ED1\n",
      "ED2\n"
     ]
    }
   ],
   "source": [
    "for k in dct1.keys():\n",
    "    print(k)"
   ]
  },
  {
   "cell_type": "code",
   "execution_count": 31,
   "id": "86239cf3",
   "metadata": {},
   "outputs": [
    {
     "name": "stdout",
     "output_type": "stream",
     "text": [
      "100\n",
      "200\n",
      "name1\n",
      "name2\n"
     ]
    }
   ],
   "source": [
    "for v in dct1.values():\n",
    "    print(v)"
   ]
  },
  {
   "cell_type": "code",
   "execution_count": 33,
   "id": "5a50ec90",
   "metadata": {},
   "outputs": [
    {
     "name": "stdout",
     "output_type": "stream",
     "text": [
      "10\n",
      "20\n",
      "ED1\n",
      "ED2\n"
     ]
    }
   ],
   "source": [
    "for k in dct1:#prints only keys\n",
    "    print(k)"
   ]
  },
  {
   "cell_type": "code",
   "execution_count": 34,
   "id": "8cefe048",
   "metadata": {},
   "outputs": [],
   "source": [
    "# Q given the keys can we print the value"
   ]
  },
  {
   "cell_type": "code",
   "execution_count": 36,
   "id": "1d099ec3",
   "metadata": {},
   "outputs": [
    {
     "ename": "TypeError",
     "evalue": "'<' not supported between instances of 'str' and 'int'",
     "output_type": "error",
     "traceback": [
      "\u001b[1;31m---------------------------------------------------------------------------\u001b[0m",
      "\u001b[1;31mTypeError\u001b[0m                                 Traceback (most recent call last)",
      "Cell \u001b[1;32mIn[36], line 2\u001b[0m\n\u001b[0;32m      1\u001b[0m dct1 \u001b[38;5;241m=\u001b[39m {\u001b[38;5;241m20\u001b[39m:\u001b[38;5;241m100\u001b[39m, \u001b[38;5;241m10\u001b[39m:\u001b[38;5;241m200\u001b[39m, \u001b[38;5;124m'\u001b[39m\u001b[38;5;124mED1\u001b[39m\u001b[38;5;124m'\u001b[39m:\u001b[38;5;124m'\u001b[39m\u001b[38;5;124mname1\u001b[39m\u001b[38;5;124m'\u001b[39m,\u001b[38;5;124m'\u001b[39m\u001b[38;5;124mED2\u001b[39m\u001b[38;5;124m'\u001b[39m:\u001b[38;5;124m'\u001b[39m\u001b[38;5;124mname2\u001b[39m\u001b[38;5;124m'\u001b[39m}\n\u001b[1;32m----> 2\u001b[0m \u001b[38;5;28msorted\u001b[39m(dct1)\n",
      "\u001b[1;31mTypeError\u001b[0m: '<' not supported between instances of 'str' and 'int'"
     ]
    }
   ],
   "source": [
    "dct1 = {20:100, 10:200, 'ED1':'name1','ED2':'name2'}\n",
    "sorted(dct1)"
   ]
  },
  {
   "cell_type": "code",
   "execution_count": 37,
   "id": "6c34d531",
   "metadata": {},
   "outputs": [
    {
     "data": {
      "text/plain": [
       "[10, 20]"
      ]
     },
     "execution_count": 37,
     "metadata": {},
     "output_type": "execute_result"
    }
   ],
   "source": [
    "dct1 = {20:100, 10:200}\n",
    "sorted(dct1)"
   ]
  },
  {
   "cell_type": "code",
   "execution_count": 39,
   "id": "39a262a8",
   "metadata": {},
   "outputs": [
    {
     "data": {
      "text/plain": [
       "[100, 200]"
      ]
     },
     "execution_count": 39,
     "metadata": {},
     "output_type": "execute_result"
    }
   ],
   "source": [
    "sorted(dct1.values())#sorting through the values"
   ]
  },
  {
   "cell_type": "code",
   "execution_count": 40,
   "id": "c34c9c67",
   "metadata": {},
   "outputs": [
    {
     "name": "stdout",
     "output_type": "stream",
     "text": [
      "{20: 100, 'ED1': 'name1', 'ED2': 'name2'}\n"
     ]
    }
   ],
   "source": [
    "#dictionary operations\n",
    "dct2 = {20:100, 10:200, 'ED1':'name1','ED2':'name2'}\n",
    "#dictionary are mutable\n",
    "del(dct2[10])\n",
    "print(dct2)"
   ]
  },
  {
   "cell_type": "code",
   "execution_count": 48,
   "id": "edd3b3df",
   "metadata": {},
   "outputs": [],
   "source": [
    "dct2.update({10:20})"
   ]
  },
  {
   "cell_type": "code",
   "execution_count": 50,
   "id": "8aa1f644",
   "metadata": {},
   "outputs": [
    {
     "name": "stdout",
     "output_type": "stream",
     "text": [
      "{20: 100, 'ED1': 'name1', 'ED2': 'name2', 10: 20}\n"
     ]
    }
   ],
   "source": [
    "print(dct2)#updating dictionary"
   ]
  },
  {
   "cell_type": "code",
   "execution_count": 54,
   "id": "1a81fbc0",
   "metadata": {},
   "outputs": [],
   "source": [
    "dct3 = {20: 100, 30: 40, 50: 60, 70:300}"
   ]
  },
  {
   "cell_type": "code",
   "execution_count": 55,
   "id": "1b011f52",
   "metadata": {},
   "outputs": [
    {
     "data": {
      "text/plain": [
       "4"
      ]
     },
     "execution_count": 55,
     "metadata": {},
     "output_type": "execute_result"
    }
   ],
   "source": [
    "len(dct3)"
   ]
  },
  {
   "cell_type": "code",
   "execution_count": 57,
   "id": "c8a1bc5f",
   "metadata": {},
   "outputs": [
    {
     "data": {
      "text/plain": [
       "70"
      ]
     },
     "execution_count": 57,
     "metadata": {},
     "output_type": "execute_result"
    }
   ],
   "source": [
    "max(dct3)#prints the maximum values of key"
   ]
  },
  {
   "cell_type": "code",
   "execution_count": 60,
   "id": "cb421452",
   "metadata": {},
   "outputs": [
    {
     "data": {
      "text/plain": [
       "300"
      ]
     },
     "execution_count": 60,
     "metadata": {},
     "output_type": "execute_result"
    }
   ],
   "source": [
    "max(dct3.values())#prints the maximum value of values"
   ]
  },
  {
   "cell_type": "code",
   "execution_count": 62,
   "id": "838ea606",
   "metadata": {},
   "outputs": [
    {
     "data": {
      "text/plain": [
       "170"
      ]
     },
     "execution_count": 62,
     "metadata": {},
     "output_type": "execute_result"
    }
   ],
   "source": [
    "sum(dct3)#sums the keys"
   ]
  },
  {
   "cell_type": "markdown",
   "id": "31bf3038",
   "metadata": {},
   "source": [
    "H.W.: Define a dictionary of student names and find the max, min of the dictionary."
   ]
  },
  {
   "cell_type": "code",
   "execution_count": 63,
   "id": "4cca8c2b",
   "metadata": {},
   "outputs": [
    {
     "name": "stdout",
     "output_type": "stream",
     "text": [
      "{}\n"
     ]
    }
   ],
   "source": [
    "dct3.clear()\n",
    "print(dct3)"
   ]
  },
  {
   "cell_type": "code",
   "execution_count": 71,
   "id": "7127f1a5",
   "metadata": {},
   "outputs": [
    {
     "name": "stdout",
     "output_type": "stream",
     "text": [
      "{20: 100, 30: 40, 50: 60, 70: 300, 150: 100, 37: 40, 55: 60}\n"
     ]
    }
   ],
   "source": [
    "dct1 = {20: 100, 30: 40, 50: 60, 70:300}\n",
    "dct2 = {150: 100, 37: 40, 55: 60, 70:300}\n",
    "dct3 = {200: 100, 300: 40, 500: 60, 700:300}\n",
    "\n",
    "dct1.update(dct2)\n",
    "print(dct1)\n",
    "dct1.update(dct3)\n"
   ]
  },
  {
   "cell_type": "code",
   "execution_count": 70,
   "id": "0f6b9202",
   "metadata": {},
   "outputs": [
    {
     "name": "stdout",
     "output_type": "stream",
     "text": [
      "{20: 100, 30: 40, 50: 60, 70: 300, 150: 100, 37: 40, 55: 60, 200: 100, 300: 40, 500: 60, 700: 300}\n"
     ]
    }
   ],
   "source": [
    "print(dct1)"
   ]
  },
  {
   "cell_type": "code",
   "execution_count": 72,
   "id": "f8061bd9",
   "metadata": {},
   "outputs": [],
   "source": [
    "dct1.clear()"
   ]
  },
  {
   "cell_type": "code",
   "execution_count": 73,
   "id": "358ec255",
   "metadata": {},
   "outputs": [
    {
     "name": "stdout",
     "output_type": "stream",
     "text": [
      "{}\n"
     ]
    }
   ],
   "source": [
    "print(dct1)"
   ]
  },
  {
   "cell_type": "code",
   "execution_count": null,
   "id": "feaf70bf",
   "metadata": {},
   "outputs": [],
   "source": []
  }
 ],
 "metadata": {
  "kernelspec": {
   "display_name": "Python 3 (ipykernel)",
   "language": "python",
   "name": "python3"
  },
  "language_info": {
   "codemirror_mode": {
    "name": "ipython",
    "version": 3
   },
   "file_extension": ".py",
   "mimetype": "text/x-python",
   "name": "python",
   "nbconvert_exporter": "python",
   "pygments_lexer": "ipython3",
   "version": "3.11.4"
  }
 },
 "nbformat": 4,
 "nbformat_minor": 5
}
