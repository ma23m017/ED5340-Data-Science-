{
 "cells": [
  {
   "cell_type": "code",
   "execution_count": 1,
   "id": "e180f7b9",
   "metadata": {},
   "outputs": [],
   "source": [
    "#"
   ]
  },
  {
   "cell_type": "markdown",
   "id": "d7a54a69",
   "metadata": {},
   "source": [
    "## Question 1"
   ]
  },
  {
   "cell_type": "markdown",
   "id": "c0b54e39",
   "metadata": {},
   "source": [
    "Explore the use and syntax of common built-in functions: \n",
    "\n",
    "1. range(), \n",
    "\n",
    "2. iter(), \n",
    "\n",
    "3. eval(), \n",
    "\n",
    "4. enumerate(), \n",
    "\n",
    "5. zip(), \n",
    "\n",
    "6. lambda, \n",
    "\n",
    "7. input(), \n",
    "\n",
    "8. map(), \n",
    "\n",
    "9. filter(), \n",
    "\n",
    "10. next()\n",
    "\n",
    "11. reduce()\n",
    "\n",
    "Include a short description and a practical code example for each, ensuring clarity through comments."
   ]
  },
  {
   "cell_type": "markdown",
   "id": "8e80dae8",
   "metadata": {},
   "source": [
    "## Solution"
   ]
  },
  {
   "cell_type": "markdown",
   "id": "b873b841",
   "metadata": {},
   "source": [
    "### range()"
   ]
  },
  {
   "cell_type": "markdown",
   "id": "bfd3766a",
   "metadata": {},
   "source": [
    "syntax: range(start,stop,step)\n",
    "\n",
    "Description: Generates a sequence of numbers within a specified range."
   ]
  },
  {
   "cell_type": "code",
   "execution_count": 2,
   "id": "07a9c1da",
   "metadata": {},
   "outputs": [
    {
     "name": "stdout",
     "output_type": "stream",
     "text": [
      "1 3 5 7 9 "
     ]
    }
   ],
   "source": [
    "#use\n",
    "\n",
    "# printing value in the range of 1 to 10 with step length 2\n",
    "for x in range(1,11,2):\n",
    "    print(x,end = ' ')"
   ]
  },
  {
   "cell_type": "markdown",
   "id": "155c57b1",
   "metadata": {},
   "source": [
    "### iter()"
   ]
  },
  {
   "cell_type": "markdown",
   "id": "d7d3a68f",
   "metadata": {},
   "source": [
    "syntax: iter(iterable)\n",
    "\n",
    "Description: Returns an iterator object for an iterable."
   ]
  },
  {
   "cell_type": "code",
   "execution_count": 3,
   "id": "c23d9fb0",
   "metadata": {},
   "outputs": [
    {
     "name": "stdout",
     "output_type": "stream",
     "text": [
      "['p', 'y', 't', 'h', 'o', 'n']\n"
     ]
    }
   ],
   "source": [
    "#use\n",
    "\n",
    "str1 = 'python'\n",
    "iter1 = iter(str1)\n",
    "print(list(iter1)) # converting in list because iter returns 'str_ascii_iterator'"
   ]
  },
  {
   "cell_type": "markdown",
   "id": "a419e005",
   "metadata": {},
   "source": [
    "### eval()"
   ]
  },
  {
   "cell_type": "markdown",
   "id": "a6970671",
   "metadata": {},
   "source": [
    "syntax: eval(expression, globals=None, locals=None)\n",
    "\n",
    "Description: Executes a string as Python code."
   ]
  },
  {
   "cell_type": "code",
   "execution_count": 4,
   "id": "3adaf79b",
   "metadata": {},
   "outputs": [
    {
     "name": "stdout",
     "output_type": "stream",
     "text": [
      "hello\n"
     ]
    }
   ],
   "source": [
    "#use\n",
    "\n",
    "str1 = 'hello'\n",
    "eval('print(str1)')#executing a string as python code"
   ]
  },
  {
   "cell_type": "markdown",
   "id": "75ab430a",
   "metadata": {},
   "source": [
    "### enumrate()"
   ]
  },
  {
   "cell_type": "markdown",
   "id": "1e644c72",
   "metadata": {},
   "source": [
    "syntax: enumerate(iterable, start=0)\n",
    "\n",
    "Description: Returns an iterator of tuples containing indices and values from an iterable."
   ]
  },
  {
   "cell_type": "code",
   "execution_count": 5,
   "id": "0ddddf02",
   "metadata": {},
   "outputs": [
    {
     "name": "stdout",
     "output_type": "stream",
     "text": [
      "Index: 0, Value: a\n",
      "Index: 1, Value: b\n",
      "Index: 2, Value: c\n"
     ]
    }
   ],
   "source": [
    "#use\n",
    "\n",
    "lst = ['a', 'b', 'c']\n",
    "for idx, val in enumerate(lst):\n",
    "    print(f\"Index: {idx}, Value: {val}\") #returnong iterator of tuple"
   ]
  },
  {
   "cell_type": "markdown",
   "id": "310f71b2",
   "metadata": {},
   "source": [
    "### zip()"
   ]
  },
  {
   "cell_type": "markdown",
   "id": "f05261f7",
   "metadata": {},
   "source": [
    "syntax: zip(*iterables)\n",
    "\n",
    "Description: Combines multiple iterables into a single iterator of tuples."
   ]
  },
  {
   "cell_type": "code",
   "execution_count": 6,
   "id": "329f7189",
   "metadata": {},
   "outputs": [
    {
     "name": "stdout",
     "output_type": "stream",
     "text": [
      "1 a\n",
      "2 b\n",
      "3 c\n"
     ]
    }
   ],
   "source": [
    "#use\n",
    "\n",
    "lst1 = [1, 2, 3]\n",
    "lst2 = ['a', 'b', 'c']\n",
    "for item1, item2 in zip(lst1, lst2):   #combining multiple iterables into a single iterator\n",
    "    print(item1, item2)"
   ]
  },
  {
   "cell_type": "markdown",
   "id": "81be8fe9",
   "metadata": {},
   "source": [
    "### lambda"
   ]
  },
  {
   "cell_type": "markdown",
   "id": "f9cfa7af",
   "metadata": {},
   "source": [
    "syntax: lambda arguments: expression\n",
    "\n",
    "Description: Creates an anonymous function."
   ]
  },
  {
   "cell_type": "code",
   "execution_count": 7,
   "id": "1997628e",
   "metadata": {},
   "outputs": [
    {
     "name": "stdout",
     "output_type": "stream",
     "text": [
      "12\n"
     ]
    }
   ],
   "source": [
    "#use\n",
    "\n",
    "multiply = lambda x, y: x * y #creating muliplication function\n",
    "print(multiply(3, 4))  "
   ]
  },
  {
   "cell_type": "markdown",
   "id": "64b9a8f6",
   "metadata": {},
   "source": [
    "### input()"
   ]
  },
  {
   "cell_type": "markdown",
   "id": "7c6d6e25",
   "metadata": {},
   "source": [
    "syntax: input()\n",
    "\n",
    "Description: Reads input from the user as a string."
   ]
  },
  {
   "cell_type": "code",
   "execution_count": 8,
   "id": "7f5d34b4",
   "metadata": {},
   "outputs": [
    {
     "name": "stdout",
     "output_type": "stream",
     "text": [
      "Enter your name: Prabhat\n",
      "Hello, Prabhat!\n"
     ]
    }
   ],
   "source": [
    "#use\n",
    "\n",
    "name = input(\"Enter your name: \") #taking input from the user\n",
    "print(f\"Hello, {name}!\")"
   ]
  },
  {
   "cell_type": "markdown",
   "id": "2ae11acf",
   "metadata": {},
   "source": [
    "### map()"
   ]
  },
  {
   "cell_type": "markdown",
   "id": "fe24fe81",
   "metadata": {},
   "source": [
    "syntax: map(function, iterable, ...)\n",
    "\n",
    "Description: Applies a function to all items in an iterable and returns a map object."
   ]
  },
  {
   "cell_type": "code",
   "execution_count": 9,
   "id": "5de992e2",
   "metadata": {},
   "outputs": [
    {
     "name": "stdout",
     "output_type": "stream",
     "text": [
      "[1, 4, 9, 16, 25]\n"
     ]
    }
   ],
   "source": [
    "#use\n",
    "\n",
    "lst1 = [1, 2, 3, 4, 5]\n",
    "squared = map(lambda x: x ** 2, lst1) #applying square function in list\n",
    "print(list(squared))  #converting to list as it returns map object"
   ]
  },
  {
   "cell_type": "markdown",
   "id": "a6c788dc",
   "metadata": {},
   "source": [
    "### filter()"
   ]
  },
  {
   "cell_type": "markdown",
   "id": "1ec60f06",
   "metadata": {},
   "source": [
    "syntax: filter(function, iterable)\n",
    "\n",
    "Description: Filters elements from an iterable based on a function."
   ]
  },
  {
   "cell_type": "code",
   "execution_count": 10,
   "id": "c911d66d",
   "metadata": {},
   "outputs": [
    {
     "name": "stdout",
     "output_type": "stream",
     "text": [
      "[2, 4]\n"
     ]
    }
   ],
   "source": [
    "#use\n",
    "\n",
    "lst1 = [1, 2, 3, 4, 5]\n",
    "even = filter(lambda x: x % 2 == 0, lst1) #filtering the even numbers\n",
    "print(list(even))"
   ]
  },
  {
   "cell_type": "markdown",
   "id": "10a46b75",
   "metadata": {},
   "source": [
    "### next()"
   ]
  },
  {
   "cell_type": "markdown",
   "id": "e1acc53a",
   "metadata": {},
   "source": [
    "syntax: next(iterator, default)\n",
    "\n",
    "Description: Retrieves the next item from an iterator."
   ]
  },
  {
   "cell_type": "code",
   "execution_count": 11,
   "id": "bef0f45f",
   "metadata": {},
   "outputs": [
    {
     "name": "stdout",
     "output_type": "stream",
     "text": [
      "2\n"
     ]
    }
   ],
   "source": [
    "#use\n",
    "\n",
    "iter1 = iter([2, 3])\n",
    "print(next(iter1))"
   ]
  },
  {
   "cell_type": "markdown",
   "id": "20258589",
   "metadata": {},
   "source": [
    "### reduce()"
   ]
  },
  {
   "cell_type": "markdown",
   "id": "0dd8a98a",
   "metadata": {},
   "source": [
    "syntax: reduce(function, iterable, initializer=None)\n",
    "\n",
    "Description: Applies a function of two arguments cumulatively to the items of an iterable, from left to right."
   ]
  },
  {
   "cell_type": "code",
   "execution_count": 12,
   "id": "c83d328a",
   "metadata": {},
   "outputs": [
    {
     "name": "stdout",
     "output_type": "stream",
     "text": [
      "15\n"
     ]
    }
   ],
   "source": [
    "#use\n",
    "\n",
    "from functools import reduce  #importing reduce\n",
    "lst = [1, 2, 3, 4, 5]\n",
    "sum_ = reduce(lambda x, y: x + y, lst)\n",
    "print(sum_)"
   ]
  },
  {
   "cell_type": "markdown",
   "id": "a6d3e7a5",
   "metadata": {},
   "source": [
    "## Question 2"
   ]
  },
  {
   "cell_type": "markdown",
   "id": "3a165cac",
   "metadata": {},
   "source": [
    " Write a Python function that sorts a dictionary based on the length of values.\n",
    "\n",
    "Sample:\n",
    "\n",
    "Input: {'lemon':'yellow','apple':'red'} output: {'apple':'red','lemon':'yellow'}"
   ]
  },
  {
   "cell_type": "markdown",
   "id": "9164bc1d",
   "metadata": {},
   "source": [
    "## Solution"
   ]
  },
  {
   "cell_type": "code",
   "execution_count": 13,
   "id": "c3ce8546",
   "metadata": {},
   "outputs": [],
   "source": [
    "#function definition\n",
    "\n",
    "def sort_dict(dict1):\n",
    "    sorted_items = sorted(dict1.items(), key=lambda item: len(item[1]))\n",
    "    sorted_dict = {key: values for key, values in sorted_items}\n",
    "    \n",
    "    return sorted_dict"
   ]
  },
  {
   "cell_type": "code",
   "execution_count": 14,
   "id": "54e68ea6",
   "metadata": {},
   "outputs": [
    {
     "name": "stdout",
     "output_type": "stream",
     "text": [
      "Here is the sorted dictionary based on the length of values:\n",
      "\n",
      "{'apple': 'red', 'blueberry': 'blue', 'guava': 'green', 'banana': 'yellow'}\n"
     ]
    }
   ],
   "source": [
    "#implementation\n",
    "\n",
    "dict1 = {'guava':'green', 'banana':'yellow', 'apple':'red', 'blueberry':'blue'}   #creating a dictionary\n",
    "\n",
    "sorted_dict = sort_dict(dict1)    #calling the function\n",
    "\n",
    "\n",
    "print('Here is the sorted dictionary based on the length of values:\\n')\n",
    "print(sorted_dict)  #printing the result"
   ]
  },
  {
   "cell_type": "markdown",
   "id": "61bc943f",
   "metadata": {},
   "source": [
    "## Question 3"
   ]
  },
  {
   "cell_type": "markdown",
   "id": "58737f6b",
   "metadata": {},
   "source": [
    "Develop a Python program that executes the following tasks with a user-provided string:\n",
    "\n",
    "a. Prompt the user to input a string.\n",
    "\n",
    "b. Create a dictionary from the string where each key is a unique alphabet character and the corresponding value is the frequency of that character's occurrence in the string.\n",
    "\n",
    "c. Generate a sorted list of tuples from the dictionary based on character frequency (values).\n",
    "\n",
    "d. Generate a sorted list of tuples from the dictionary based on the alphabet characters (keys).\n",
    "\n",
    "e. Identify the three most frequently occurring characters. In the event of a frequency tie, prioritize characters in lexicographical order.\n",
    "\n",
    "Your program should showcase proficiency in dictionary operations, sorting mechanisms, and handling of ties in frequency counts. Comment your code to outline the process and decisions made.\n",
    "\n",
    "sample:\n",
    "\n",
    "input = 'GOOGLE'\n",
    "\n",
    "Here, the most repeated characters are G:2, O:2. But, L,E are occurring only a single time which is tied for the third position here, so here we take E as it comes first in the lexicographical order."
   ]
  },
  {
   "cell_type": "markdown",
   "id": "9a72b7ab",
   "metadata": {},
   "source": [
    "## Solution"
   ]
  },
  {
   "cell_type": "markdown",
   "id": "921252df",
   "metadata": {},
   "source": [
    "### (a)"
   ]
  },
  {
   "cell_type": "code",
   "execution_count": 15,
   "id": "9b4a2fb7",
   "metadata": {},
   "outputs": [
    {
     "name": "stdout",
     "output_type": "stream",
     "text": [
      "Please enter a string: Prabhat\n",
      "Entered string:  Prabhat\n"
     ]
    }
   ],
   "source": [
    "# Prompt the user to input a string\n",
    "user_input = input(\"Please enter a string: \")\n",
    "\n",
    "# Display the input string\n",
    "print(\"Entered string: \", user_input)"
   ]
  },
  {
   "cell_type": "markdown",
   "id": "7fa3c83a",
   "metadata": {},
   "source": [
    "### (b)"
   ]
  },
  {
   "cell_type": "code",
   "execution_count": 20,
   "id": "7fb0f02b",
   "metadata": {},
   "outputs": [
    {
     "name": "stdout",
     "output_type": "stream",
     "text": [
      "Enter a string: prabhat\n",
      "Character Frequency Dictionary:\n",
      "'p': 1\n",
      "'r': 1\n",
      "'a': 2\n",
      "'b': 1\n",
      "'h': 1\n",
      "'t': 1\n"
     ]
    }
   ],
   "source": [
    "dict1 = {}  #creating an empty list\n",
    "\n",
    "user_input = input('Enter a string: ')  #taking input from the user\n",
    "\n",
    "for char in user_input:\n",
    "    if char.isalpha():\n",
    "        char = char.lower()\n",
    "        dict1[char] = dict1.get(char,0) + 1\n",
    "        \n",
    "print(\"Character Frequency Dictionary:\")\n",
    "for char, frequency in dict1.items():\n",
    "    print(f\"'{char}': {frequency}\")    #printing the character and it's frequency"
   ]
  },
  {
   "cell_type": "markdown",
   "id": "bf133677",
   "metadata": {},
   "source": [
    "### (c)"
   ]
  },
  {
   "cell_type": "code",
   "execution_count": 23,
   "id": "a5da03fe",
   "metadata": {},
   "outputs": [
    {
     "name": "stdout",
     "output_type": "stream",
     "text": [
      "[('a', 2), ('p', 1), ('r', 1), ('b', 1), ('h', 1), ('t', 1)]\n"
     ]
    }
   ],
   "source": [
    "freq_list = []\n",
    "\n",
    "for char, frequency in dict1.items():\n",
    "    freq_list.append((char, frequency))  # Append each tuple to the list\n",
    "    \n",
    "sorted_list = sorted(freq_list, key=lambda x: x[1], reverse=True)\n",
    "\n",
    "print(sorted_list)"
   ]
  },
  {
   "cell_type": "markdown",
   "id": "930ed26c",
   "metadata": {},
   "source": [
    "### (d)"
   ]
  },
  {
   "cell_type": "code",
   "execution_count": 22,
   "id": "8113dc6f",
   "metadata": {},
   "outputs": [
    {
     "name": "stdout",
     "output_type": "stream",
     "text": [
      "[('t', 1), ('r', 1), ('p', 1), ('h', 1), ('b', 1), ('a', 2)]\n"
     ]
    }
   ],
   "source": [
    "sorted_list = sorted(freq_list, key=lambda x: x[0], reverse=True)\n",
    "\n",
    "print(sorted_list)"
   ]
  },
  {
   "cell_type": "markdown",
   "id": "c20d8ee0",
   "metadata": {},
   "source": [
    "### (e)"
   ]
  },
  {
   "cell_type": "code",
   "execution_count": 43,
   "id": "c3855c9e",
   "metadata": {},
   "outputs": [
    {
     "name": "stdout",
     "output_type": "stream",
     "text": [
      "Top three most frequently occurring characters is given by :\n",
      "a: 2 times\n",
      "b: 1 times\n",
      "h: 1 times\n"
     ]
    }
   ],
   "source": [
    "#sorting list of tuples based on frequency and lexographically\n",
    "sorted_list1 = sorted(freq_list, key=lambda x: (-x[1], x[0]))\n",
    "\n",
    "lst = [] #empty list to store top 3 characters\n",
    "\n",
    "count = 0\n",
    "\n",
    "for char, frequency in sorted_list1:\n",
    "    if count < 3:\n",
    "        lst.append((char, frequency))\n",
    "        count = count + 1\n",
    "    elif count < 3 and frequency == lst[-1][1]:\n",
    "        lst.append((char, frequency))\n",
    "        count = count + 1\n",
    "    else:\n",
    "        break\n",
    "        \n",
    "# Printing the top three most frequently occurring characters\n",
    "print('Top three most frequently occurring characters is given by :')\n",
    "for i, (char, freq) in enumerate(lst):\n",
    "    print(f'{char}: {freq} times')"
   ]
  },
  {
   "cell_type": "markdown",
   "id": "2913baa5",
   "metadata": {},
   "source": [
    "## Question 4"
   ]
  },
  {
   "cell_type": "markdown",
   "id": "bb514f75",
   "metadata": {},
   "source": [
    " Write a function called lookup_student that takes a dictionary representing student records, where names are keys and roll numbers are values. The function should search for a specified student name and return the corresponding roll number if found; otherwise, it should return \"Not Found\" \n",
    "\n",
    "Example:\n",
    "\n",
    "records = { \"Alice\" : \"AB111\", \"Bob\" : \"EE200\", \"David\" : \"XY333\"}\n",
    "\n",
    "print(lookup_student(records, \"Bob\")) : Should print \"EE200\"\n",
    "\n",
    "print(lookup_student(records, \"John\")) : Should print \"Not Found\""
   ]
  },
  {
   "cell_type": "markdown",
   "id": "cc6ae3e2",
   "metadata": {},
   "source": [
    "## Solution"
   ]
  },
  {
   "cell_type": "code",
   "execution_count": 24,
   "id": "fdc2313f",
   "metadata": {},
   "outputs": [],
   "source": [
    "#function definition\n",
    "\n",
    "def lookup_student(records, name):\n",
    "    roll_no = records.get(name,'not found!!')\n",
    "    return roll_no"
   ]
  },
  {
   "cell_type": "code",
   "execution_count": 26,
   "id": "9fdbb8d8",
   "metadata": {},
   "outputs": [
    {
     "name": "stdout",
     "output_type": "stream",
     "text": [
      "DD456\n",
      "not found!!\n"
     ]
    }
   ],
   "source": [
    "#implementation\n",
    "\n",
    "records = {'Alice': 'AB111', 'Bob': 'EE200', 'Charlie': 'DD456', 'David': 'XY333'}\n",
    "\n",
    "print(lookup_student(records, 'Charlie')) #calling the function\n",
    "\n",
    "print(lookup_student(records, 'Tom'))"
   ]
  },
  {
   "cell_type": "markdown",
   "id": "6e694970",
   "metadata": {},
   "source": [
    "## Question 5"
   ]
  },
  {
   "cell_type": "markdown",
   "id": "449d027e",
   "metadata": {},
   "source": [
    "Given a list of integers, write a Python program to:\n",
    "\n",
    "a) Find the frequency of each integer in the list and store the result in a dictionary.\n",
    "\n",
    "b) Print the maximum integer and its frequency.\n",
    "\n",
    "c) Remove duplicates from the list and print the new list without changing the order of elements. Do this operation without using the set data type.\n",
    "\n",
    "d) Remove duplicates from the list and print the new list. Do this operation using the set data type."
   ]
  },
  {
   "cell_type": "markdown",
   "id": "0208664c",
   "metadata": {},
   "source": [
    "## Solution"
   ]
  },
  {
   "cell_type": "code",
   "execution_count": 28,
   "id": "066705a7",
   "metadata": {},
   "outputs": [],
   "source": [
    "list1 = [10,20,30,40,20,30,60,65,78,54,78,81,56,65] #list of integers"
   ]
  },
  {
   "cell_type": "markdown",
   "id": "b06de6af",
   "metadata": {},
   "source": [
    "### (a)"
   ]
  },
  {
   "cell_type": "code",
   "execution_count": 31,
   "id": "3d2616f5",
   "metadata": {},
   "outputs": [
    {
     "name": "stdout",
     "output_type": "stream",
     "text": [
      "frequency dictionary is given by:\n",
      "{10: 1, 20: 2, 30: 2, 40: 1, 60: 1, 65: 2, 78: 2, 54: 1, 81: 1, 56: 1}\n"
     ]
    }
   ],
   "source": [
    "dict1 = {} #frequency dictionary\n",
    "\n",
    "for x in list1:\n",
    "    dict1[x] = dict1.get(x,0) + 1\n",
    "    \n",
    "print('frequency dictionary is given by:', dict1, sep = '\\n')"
   ]
  },
  {
   "cell_type": "markdown",
   "id": "0a5e7853",
   "metadata": {},
   "source": [
    "### (b)"
   ]
  },
  {
   "cell_type": "code",
   "execution_count": 32,
   "id": "d2e561b7",
   "metadata": {},
   "outputs": [
    {
     "name": "stdout",
     "output_type": "stream",
     "text": [
      "Maximum integer: 20, Frequency: 2\n"
     ]
    }
   ],
   "source": [
    "max_int = max(dict1, key=dict1.get)\n",
    "max_frequency = dict1[max_int]\n",
    "print(f\"Maximum integer: {max_int}, Frequency: {max_frequency}\")  #printing maximum integer and it's frequency"
   ]
  },
  {
   "cell_type": "markdown",
   "id": "79a3cc49",
   "metadata": {},
   "source": [
    "### (c)"
   ]
  },
  {
   "cell_type": "code",
   "execution_count": 34,
   "id": "f9f72331",
   "metadata": {},
   "outputs": [
    {
     "name": "stdout",
     "output_type": "stream",
     "text": [
      "List with unique elements and with same order is given by:\n",
      "[10, 20, 30, 40, 60, 65, 78, 54, 81, 56]\n"
     ]
    }
   ],
   "source": [
    "unique_list = []   #creating an empty list\n",
    "\n",
    "for x in list1:\n",
    "    if x not in unique_list:\n",
    "        unique_list.append(x) #appending unique elements\n",
    "        \n",
    "print('List with unique elements and with same order is given by:', unique_list, sep='\\n')"
   ]
  },
  {
   "cell_type": "markdown",
   "id": "34d4686d",
   "metadata": {},
   "source": [
    "### (d)"
   ]
  },
  {
   "cell_type": "code",
   "execution_count": 35,
   "id": "c2f4656f",
   "metadata": {},
   "outputs": [
    {
     "name": "stdout",
     "output_type": "stream",
     "text": [
      "Unique list using set data type is given by:\n",
      "[65, 40, 10, 78, 81, 20, 54, 56, 60, 30]\n"
     ]
    }
   ],
   "source": [
    "set1 = set(list1)  #storing unique elements in set\n",
    "unique_list1 = list(set1) #converting set into list\n",
    "print('Unique list using set data type is given by:', unique_list1, sep='\\n') #printing the unique list"
   ]
  }
 ],
 "metadata": {
  "kernelspec": {
   "display_name": "Python 3 (ipykernel)",
   "language": "python",
   "name": "python3"
  },
  "language_info": {
   "codemirror_mode": {
    "name": "ipython",
    "version": 3
   },
   "file_extension": ".py",
   "mimetype": "text/x-python",
   "name": "python",
   "nbconvert_exporter": "python",
   "pygments_lexer": "ipython3",
   "version": "3.11.4"
  }
 },
 "nbformat": 4,
 "nbformat_minor": 5
}
