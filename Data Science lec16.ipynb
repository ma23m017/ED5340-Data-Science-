{
 "cells": [
  {
   "cell_type": "code",
   "execution_count": 1,
   "id": "7233969b",
   "metadata": {},
   "outputs": [],
   "source": [
    "#file input and output"
   ]
  },
  {
   "cell_type": "code",
   "execution_count": 16,
   "id": "08bd6890",
   "metadata": {},
   "outputs": [],
   "source": [
    "msg1 = 'This is message 1 \\n'\n",
    "msg2 = 'My name is Prabhat Kumar \\n'\n",
    "msg3 = 'I am from Mathematics department \\n'"
   ]
  },
  {
   "cell_type": "code",
   "execution_count": 17,
   "id": "ee7059b7",
   "metadata": {},
   "outputs": [],
   "source": [
    "f = open('messages.txt', 'w')  #opens a file for writing\n",
    "f.write(msg1)   #writes a new string(message1)\n",
    "f.write(msg2)\n",
    "f.write(msg3)\n",
    "f.close()   #closes the opened file"
   ]
  },
  {
   "cell_type": "code",
   "execution_count": 18,
   "id": "519731e7",
   "metadata": {},
   "outputs": [
    {
     "name": "stdout",
     "output_type": "stream",
     "text": [
      "This is message 1 \n",
      "My name is Prabhat Kumar \n",
      "I am from Mathematics department \n",
      "\n",
      "<class 'str'>\n"
     ]
    }
   ],
   "source": [
    "f = open('messages.txt', 'r')   #opens a file for reading\n",
    "data = f.read()  #reads all lines into data\n",
    "print(data, type(data), sep='\\n')\n",
    "f.close() #closing the file"
   ]
  },
  {
   "cell_type": "code",
   "execution_count": 12,
   "id": "10c6cc1d",
   "metadata": {},
   "outputs": [],
   "source": [
    "#suppose you already have a file and you want to write another file without overriding, how you willdo??"
   ]
  },
  {
   "cell_type": "code",
   "execution_count": 13,
   "id": "2b9ef3cf",
   "metadata": {},
   "outputs": [],
   "source": [
    "#we will do append mode"
   ]
  },
  {
   "cell_type": "code",
   "execution_count": 14,
   "id": "7766b10a",
   "metadata": {},
   "outputs": [],
   "source": [
    "#with command:open but automaticalyy closes the files"
   ]
  },
  {
   "cell_type": "code",
   "execution_count": 15,
   "id": "00c47872",
   "metadata": {},
   "outputs": [],
   "source": [
    "#H.W.: what is seek command"
   ]
  },
  {
   "cell_type": "code",
   "execution_count": 19,
   "id": "025489f5",
   "metadata": {},
   "outputs": [],
   "source": [
    "#directory"
   ]
  },
  {
   "cell_type": "code",
   "execution_count": 21,
   "id": "4eed502c",
   "metadata": {},
   "outputs": [],
   "source": [
    "import os\n",
    "import shutil"
   ]
  },
  {
   "cell_type": "code",
   "execution_count": 22,
   "id": "1704f3ff",
   "metadata": {},
   "outputs": [
    {
     "name": "stdout",
     "output_type": "stream",
     "text": [
      "nt\n",
      "C:\\Users\\user\n",
      "['.android', '.conda', '.condarc', '.continuum', '.git', '.gitconfig', '.idlerc', '.ipynb_checkpoints', '.ipython', '.jupyter', '.matplotlib', '.ms-ad', '.streamlit', '.VirtualBox', '.vscode', '1', '3D Objects', 'absl_py-2.1.0-py3-none-any.whl', 'airline_passengers.csv', 'anaconda3', 'AppData', 'Application Data', 'AQI_Predictor_Models_Comparison.ipynb', 'Auto Arima(stock_google).ipynb', 'cache', 'Contacts', 'Cookies', 'Data Science lab01.ipynb', 'Data Science lab02.ipynb', 'Data Science lab03.ipynb', 'Data Science lab04_P1.ipynb', 'Data Science lab04_P2.ipynb', 'Data Science lab05_P1.ipynb', 'Data Science lec01.ipynb', 'Data Science lec02.ipynb', 'Data Science lec03.ipynb', 'Data Science lec04.ipynb', 'Data Science lec05.ipynb', 'Data Science lec06.ipynb', 'Data Science lec07.ipynb', 'Data Science lec08.ipynb', 'Data Science lec09.ipynb', 'Data Science lec10.ipynb', 'Data Science lec11.ipynb', 'Data Science lec12.ipynb', 'Data Science lec13.ipynb', 'Data Science lec14.ipynb', 'Data Science lec16.ipynb', 'Data Scinece lab03_P2.ipynb', 'Desktop', 'dm_tree-0.1.8-cp311-cp311-win_amd64.whl', 'Documents', 'Downloads', 'Favorites', 'genymotion-logs-20230422-151927.zip', 'h5py-3.10.0-cp311-cp311-win_amd64.whl', 'IntelGraphicsProfiles', 'keras-3.0.4-py3-none-any.whl', 'Links', 'Local Settings', 'markdown_it_py-3.0.0-py3-none-any.whl', 'mdurl-0.1.2-py3-none-any.whl', 'messages.txt', 'modellingA6Q2.ipynb', 'Music', 'My Documents', 'namex-0.0.7-py3-none-any.whl', 'NetHood', 'NTUSER.DAT', 'ntuser.dat.LOG1', 'ntuser.dat.LOG2', 'NTUSER.DAT{02e5f950-3b55-11ed-a55d-9597af31885c}.TM.blf', 'NTUSER.DAT{02e5f950-3b55-11ed-a55d-9597af31885c}.TMContainer00000000000000000001.regtrans-ms', 'NTUSER.DAT{02e5f950-3b55-11ed-a55d-9597af31885c}.TMContainer00000000000000000002.regtrans-ms', 'ntuser.ini', 'Numerical Optimization Assignment 1.ipynb', 'numpy-1.26.3-cp311-cp311-win_amd64.whl', 'OneDrive', 'original_image.jpg', 'Pictures', 'pipe.pkl', 'PrintHood', 'PycharmProjects', 'pygments-2.17.2-py3-none-any.whl', 'RAW_DATASET_state_weather_aqi_data.csv', 'Recent', 'RELIANCE.csv', 'rich-13.7.0-py3-none-any.whl', 'Saved Games', 'Searches', 'SendTo', 'sp500sub.csv', 'Start Menu', 'state_weather_aqi_data_mf2.csv', 't20 Score Predictor.ipynb', 't20I_data', 't20I_dataset.pkl', 't20I_dataset_level1.pkl', 't20I_dataset_level2.pkl', 'Templates', 'tested.csv', 'Untitled Folder', 'Untitled.ipynb', 'untitled.txt', 'Untitled1.ipynb', 'untitled1.txt', 'Untitled10.ipynb', 'Untitled11.ipynb', 'Untitled12.ipynb', 'Untitled13.ipynb', 'Untitled2.ipynb', 'Untitled3.ipynb', 'Untitled4.ipynb', 'Untitled5.ipynb', 'Untitled6.ipynb', 'Untitled7.ipynb', 'Untitled8.ipynb', 'Untitled9.ipynb', 'Videos']\n",
      "['All Users', 'Default', 'Default User', 'desktop.ini', 'Public', 'user']\n"
     ]
    }
   ],
   "source": [
    "print(os.name)\n",
    "print(os.getcwd())\n",
    "print(os.listdir('.'))\n",
    "print(os.listdir('..')) #what is the difference between '.' and '..'"
   ]
  },
  {
   "cell_type": "code",
   "execution_count": 23,
   "id": "2a007829",
   "metadata": {},
   "outputs": [],
   "source": [
    "#H.W: what is .join() doing"
   ]
  },
  {
   "cell_type": "code",
   "execution_count": 24,
   "id": "2753160f",
   "metadata": {},
   "outputs": [],
   "source": [
    "#H.W: use file input/output for complex and matrix classes"
   ]
  },
  {
   "cell_type": "code",
   "execution_count": 25,
   "id": "2da58e87",
   "metadata": {},
   "outputs": [],
   "source": [
    "import csv #importing csv library"
   ]
  },
  {
   "cell_type": "code",
   "execution_count": 27,
   "id": "e6eba5c4",
   "metadata": {},
   "outputs": [],
   "source": [
    "f = open('messages.csv', 'w')  #opens a file for writing\n",
    "f.write(msg1)   #writes a new string(message1)\n",
    "f.write(msg2)\n",
    "f.write(msg3)\n",
    "f.close()   #closes the opened file"
   ]
  },
  {
   "cell_type": "code",
   "execution_count": 28,
   "id": "c2547fc4",
   "metadata": {},
   "outputs": [
    {
     "name": "stdout",
     "output_type": "stream",
     "text": [
      "This is message 1 \n",
      "My name is Prabhat Kumar \n",
      "I am from Mathematics department \n",
      "\n",
      "<class 'str'>\n"
     ]
    }
   ],
   "source": [
    "f = open('messages.csv', 'r')   #opens a file for reading\n",
    "data = f.read()  #reads all lines into data\n",
    "print(data, type(data), sep='\\n')\n",
    "f.close() #closing the file"
   ]
  },
  {
   "cell_type": "code",
   "execution_count": 31,
   "id": "31fbd315",
   "metadata": {},
   "outputs": [],
   "source": [
    "#H.W: what is json format"
   ]
  },
  {
   "cell_type": "code",
   "execution_count": null,
   "id": "68cbec03",
   "metadata": {},
   "outputs": [],
   "source": []
  }
 ],
 "metadata": {
  "kernelspec": {
   "display_name": "Python 3 (ipykernel)",
   "language": "python",
   "name": "python3"
  },
  "language_info": {
   "codemirror_mode": {
    "name": "ipython",
    "version": 3
   },
   "file_extension": ".py",
   "mimetype": "text/x-python",
   "name": "python",
   "nbconvert_exporter": "python",
   "pygments_lexer": "ipython3",
   "version": "3.11.4"
  }
 },
 "nbformat": 4,
 "nbformat_minor": 5
}
