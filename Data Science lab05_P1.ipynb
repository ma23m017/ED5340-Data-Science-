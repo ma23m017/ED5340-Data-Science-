{
 "cells": [
  {
   "cell_type": "markdown",
   "id": "cd8860dd",
   "metadata": {},
   "source": [
    "## Question 1"
   ]
  },
  {
   "cell_type": "markdown",
   "id": "c12b512a",
   "metadata": {},
   "source": [
    " Write a program(WAP) using loops and recursion: \n",
    "\n",
    "a) Factorial of n where n is a non negative integer. \n",
    "\n",
    "b) For calculating the Nth Fibonacci number.\n",
    "\n",
    "c) To calculate a^b where a>0, b>=0."
   ]
  },
  {
   "cell_type": "markdown",
   "id": "2cde34b1",
   "metadata": {},
   "source": [
    "## Solution"
   ]
  },
  {
   "cell_type": "markdown",
   "id": "db4bc393",
   "metadata": {},
   "source": [
    "### using recursion"
   ]
  },
  {
   "cell_type": "markdown",
   "id": "6a446a98",
   "metadata": {},
   "source": [
    "### (a)"
   ]
  },
  {
   "cell_type": "code",
   "execution_count": 1,
   "id": "40fdff4b",
   "metadata": {},
   "outputs": [
    {
     "name": "stdout",
     "output_type": "stream",
     "text": [
      "Factorial using recursion is:  120\n"
     ]
    }
   ],
   "source": [
    "# Factorial calculation using recursion\n",
    "\n",
    "#function definition\n",
    "def fact_rec(n):\n",
    "    if n == 0:\n",
    "        return 1\n",
    "    else:\n",
    "        return n * fact_rec(n - 1)\n",
    "    \n",
    "#implementation\n",
    "\n",
    "n = 5\n",
    "result = fact_rec(n)\n",
    "print('Factorial using recursion is: ', result)"
   ]
  },
  {
   "cell_type": "markdown",
   "id": "ec57432a",
   "metadata": {},
   "source": [
    "### (b)"
   ]
  },
  {
   "cell_type": "code",
   "execution_count": 4,
   "id": "c687635f",
   "metadata": {},
   "outputs": [
    {
     "name": "stdout",
     "output_type": "stream",
     "text": [
      "Fibonacci number at 12th position using recursion is: 144\n"
     ]
    }
   ],
   "source": [
    "# Fibonacci number calculation using recursion\n",
    "\n",
    "#function definition\n",
    "def fibonacci_rec(n):\n",
    "    if n <= 1:\n",
    "        return n\n",
    "    else:\n",
    "        return fibonacci_rec(n - 1) + fibonacci_rec(n - 2)\n",
    "    \n",
    "#implementation\n",
    "\n",
    "n = 12\n",
    "result = fibonacci_rec(n)\n",
    "print(f'Fibonacci number at {n}th position using recursion is: {result}')"
   ]
  },
  {
   "cell_type": "markdown",
   "id": "6b1ad4f9",
   "metadata": {},
   "source": [
    "### (c)"
   ]
  },
  {
   "cell_type": "code",
   "execution_count": 2,
   "id": "2807d5fe",
   "metadata": {},
   "outputs": [
    {
     "name": "stdout",
     "output_type": "stream",
     "text": [
      "3 raised to the power 4 is: 81\n"
     ]
    }
   ],
   "source": [
    "# Exponentiation calculation using recursion\n",
    "\n",
    "#function definition\n",
    "def expo_recursive(a, b):\n",
    "    if b == 0:\n",
    "        return 1\n",
    "    else:\n",
    "        return a * expo_recursive(a, b - 1)\n",
    "    \n",
    "#implementation\n",
    "\n",
    "a = 3\n",
    "b = 4\n",
    "\n",
    "result = expo_recursive(a, b)\n",
    "print(f'{a} raised to the power {b} is: {result}')"
   ]
  },
  {
   "cell_type": "markdown",
   "id": "0502ffdb",
   "metadata": {},
   "source": [
    "### using loops"
   ]
  },
  {
   "cell_type": "markdown",
   "id": "e4ae1956",
   "metadata": {},
   "source": [
    "### (a)"
   ]
  },
  {
   "cell_type": "code",
   "execution_count": 7,
   "id": "684688f7",
   "metadata": {},
   "outputs": [
    {
     "name": "stdout",
     "output_type": "stream",
     "text": [
      "Factorial of 5 using loop is: 120\n"
     ]
    }
   ],
   "source": [
    "# Factorial calculation using loop\n",
    "\n",
    "#function definition\n",
    "def factorial_loop(n):\n",
    "    fact = 1\n",
    "    for i in range(1, n + 1):\n",
    "        fact = fact*i\n",
    "    return fact\n",
    "\n",
    "#implementation\n",
    "\n",
    "n = 5\n",
    "\n",
    "result = factorial_loop(n)\n",
    "\n",
    "print(f'Factorial of {n} using loop is: {result}')"
   ]
  },
  {
   "cell_type": "markdown",
   "id": "3015ed1f",
   "metadata": {},
   "source": [
    "### (b)"
   ]
  },
  {
   "cell_type": "code",
   "execution_count": 9,
   "id": "fba1d785",
   "metadata": {},
   "outputs": [
    {
     "name": "stdout",
     "output_type": "stream",
     "text": [
      "Fibonacci number at 12th position using recursion is: 144\n"
     ]
    }
   ],
   "source": [
    "# Fibonacci number calculation using loop\n",
    "\n",
    "#function definition\n",
    "def fibonacci_loop(n):\n",
    "    if n <= 1:\n",
    "        return n\n",
    "    else:\n",
    "        a, b = 0, 1\n",
    "        for _ in range(2, n + 1):\n",
    "            a, b = b, a + b\n",
    "        return b\n",
    "    \n",
    "#implementation\n",
    "\n",
    "n = 12\n",
    "result = fibonacci_loop(n)\n",
    "\n",
    "print(f'Fibonacci number at {n}th position using recursion is: {result}')"
   ]
  },
  {
   "cell_type": "markdown",
   "id": "f4000235",
   "metadata": {},
   "source": [
    "### (c)"
   ]
  },
  {
   "cell_type": "code",
   "execution_count": 10,
   "id": "3d368a4b",
   "metadata": {},
   "outputs": [
    {
     "name": "stdout",
     "output_type": "stream",
     "text": [
      "3 raised to the power 4 is: 81\n"
     ]
    }
   ],
   "source": [
    "# Exponentiation calculation using loop\n",
    "\n",
    "#function definition\n",
    "def exponential_loop(a, b):\n",
    "    result = 1\n",
    "    for _ in range(b):\n",
    "        result *= a\n",
    "    return result\n",
    "\n",
    "#implementation\n",
    "\n",
    "a = 3\n",
    "b = 4\n",
    "\n",
    "result = exponential_loop(a, b)\n",
    "print(f'{a} raised to the power {b} is: {result}')"
   ]
  },
  {
   "cell_type": "markdown",
   "id": "85bab6cb",
   "metadata": {},
   "source": [
    "## Question 2"
   ]
  },
  {
   "cell_type": "markdown",
   "id": "b3e5502e",
   "metadata": {},
   "source": [
    "Query for 2 integers N and M from the user where 0<=N<=100 and 0<=M<=9. These will be the inputs to your function. Using recursion, compute the number of times the integer M occurs in all non-negative integers less than or equal to N.\n",
    "example: For N=13 and M=1, count=6 (numbers 1,10,11,12,13)."
   ]
  },
  {
   "cell_type": "markdown",
   "id": "18bbd92a",
   "metadata": {},
   "source": [
    "## Solution"
   ]
  },
  {
   "cell_type": "code",
   "execution_count": 3,
   "id": "4f0b292b",
   "metadata": {},
   "outputs": [],
   "source": [
    "#function definition\n",
    "\n",
    "def occurance(M,N):\n",
    "    if N<M:\n",
    "        return 0 #we will not get desired result\n",
    "    \n",
    "    strN = str(N)\n",
    "    \n",
    "    count = strN.count(str(M))\n",
    "    \n",
    "    count = count+occurance(M,N-1)\n",
    "    return count"
   ]
  },
  {
   "cell_type": "code",
   "execution_count": 4,
   "id": "24820672",
   "metadata": {},
   "outputs": [
    {
     "name": "stdout",
     "output_type": "stream",
     "text": [
      "Enter an integer between 0 to 100: 28\n",
      "Enter an integer between 0 to 9: 8\n",
      "The integer 8 occurs 3 times in all non-negative integers less than or equal to 28.\n"
     ]
    }
   ],
   "source": [
    "#function implementation and user input\n",
    "\n",
    "while True:\n",
    "    N = int(input(\"Enter an integer between 0 to 100: \"))\n",
    "    if 0 <= N <= 100:\n",
    "        break\n",
    "    else:\n",
    "        print(\"Error!! Enter again\")\n",
    "\n",
    "while True:\n",
    "    M = int(input(\"Enter an integer between 0 to 9: \"))\n",
    "    if 0 <= M <= 9:\n",
    "        break\n",
    "    else:\n",
    "        print(\"Error!! Enter again\")\n",
    "        \n",
    "#function calling\n",
    "\n",
    "result = occurance(M, N)\n",
    "print(f\"The integer {M} occurs {result} times in all non-negative integers less than or equal to {N}.\")"
   ]
  },
  {
   "cell_type": "markdown",
   "id": "a3916064",
   "metadata": {},
   "source": [
    "## Question 3"
   ]
  },
  {
   "cell_type": "markdown",
   "id": "3b9a9988",
   "metadata": {},
   "source": [
    "Programs using lambda function."
   ]
  },
  {
   "cell_type": "markdown",
   "id": "097e3c56",
   "metadata": {},
   "source": [
    "### (a)"
   ]
  },
  {
   "cell_type": "markdown",
   "id": "33bf495e",
   "metadata": {},
   "source": [
    "Given a list of names, use map to create a list where each name is prefixed with \"Hello, \".\n",
    "\n",
    "Example Input: ['Alice', 'Bob', 'Charlie']\n",
    "\n",
    "Example Output: ['Hello, Alice', 'Hello, Bob', 'Hello, Charlie']"
   ]
  },
  {
   "cell_type": "markdown",
   "id": "a8848738",
   "metadata": {},
   "source": [
    "### Solution"
   ]
  },
  {
   "cell_type": "code",
   "execution_count": 17,
   "id": "b6edad17",
   "metadata": {},
   "outputs": [
    {
     "name": "stdout",
     "output_type": "stream",
     "text": [
      "['Hello, Prabhat', 'Hello, Sourav', 'Hello, Vinod']\n"
     ]
    }
   ],
   "source": [
    "names = ['Prabhat', 'Sourav', 'Vinod'] #list of names\n",
    "greetings = list(map(lambda name: \"Hello, \" + name, names)) #using 'map' to create greetings list\n",
    "print(greetings)"
   ]
  },
  {
   "cell_type": "markdown",
   "id": "1613d081",
   "metadata": {},
   "source": [
    "### (b)"
   ]
  },
  {
   "cell_type": "markdown",
   "id": "d665f73e",
   "metadata": {},
   "source": [
    "Use filter and a lambda function to extract all even numbers from a given list.\n",
    "\n",
    "Example Input: [1, 2, 3, 4, 5, 6]\n",
    "\n",
    "Example Output: [2, 4, 6]"
   ]
  },
  {
   "cell_type": "markdown",
   "id": "57ac3c9a",
   "metadata": {},
   "source": [
    "### Solution"
   ]
  },
  {
   "cell_type": "code",
   "execution_count": 20,
   "id": "7be334b6",
   "metadata": {},
   "outputs": [
    {
     "name": "stdout",
     "output_type": "stream",
     "text": [
      "[2, 4, 6, 8, 10]\n"
     ]
    }
   ],
   "source": [
    "numbers = [1, 2, 3, 4, 5, 6, 7, 8, 9, 10] #list of integers\n",
    "even_numbers = list(filter(lambda x: x % 2 == 0, numbers)) #filtering even numbers\n",
    "print(even_numbers)"
   ]
  },
  {
   "cell_type": "markdown",
   "id": "c242c8bb",
   "metadata": {},
   "source": [
    "### (c)"
   ]
  },
  {
   "cell_type": "markdown",
   "id": "a9aaa763",
   "metadata": {},
   "source": [
    "Use reduce and lambda to concatenate all strings in a given list.\n",
    "\n",
    "Example Input: ['Python', 'is', 'awesome']\n",
    "\n",
    "Example Output: 'Pythonisawesome'"
   ]
  },
  {
   "cell_type": "markdown",
   "id": "5141f4e4",
   "metadata": {},
   "source": [
    "### Solution"
   ]
  },
  {
   "cell_type": "code",
   "execution_count": 24,
   "id": "9bbdfc35",
   "metadata": {},
   "outputs": [
    {
     "name": "stdout",
     "output_type": "stream",
     "text": [
      "After concatenation: HiIamlearningpython\n"
     ]
    }
   ],
   "source": [
    "from functools import reduce #importing reduce\n",
    "\n",
    "str1 = ['Hi', 'I', 'am', 'learning', 'python']\n",
    "concatenated_string = reduce(lambda x, y: x + y, str1) #concatenating the strings given in the list\n",
    "print('After concatenation:', concatenated_string)"
   ]
  },
  {
   "cell_type": "markdown",
   "id": "495e980b",
   "metadata": {},
   "source": [
    "## Question"
   ]
  },
  {
   "cell_type": "markdown",
   "id": "23794888",
   "metadata": {},
   "source": [
    "Define a class Complex that defines a complex number with attributes real and imaginary (as we did in the class). Define operators for addition, subtraction, multiplication and division (Do with both operator overloading as well as without overloading). While printing the output, print in the form of complex number form like ( a + ib)  - 10 marks ( 1 mark each for each of the operations with and without operator overloading)"
   ]
  },
  {
   "cell_type": "markdown",
   "id": "450746d2",
   "metadata": {},
   "source": [
    "## Solution"
   ]
  },
  {
   "cell_type": "markdown",
   "id": "cdac6010",
   "metadata": {},
   "source": [
    "### addition with and without operator overloading"
   ]
  },
  {
   "cell_type": "code",
   "execution_count": 39,
   "id": "45ad223f",
   "metadata": {},
   "outputs": [
    {
     "name": "stdout",
     "output_type": "stream",
     "text": [
      "Addition without opeartor overloading:\n",
      "8.2+11.95i\n",
      "\n",
      "Addition using opeartor overloading:\n",
      "8.2+11.95i\n"
     ]
    }
   ],
   "source": [
    "class complex_:\n",
    "    def __init__(self, real=0, imaginary=0):  #initialising and assigning 0\n",
    "        self._real = real\n",
    "        self._imag = imaginary\n",
    "        \n",
    "    def add_comp(self, other):  #addition without operator overloading\n",
    "        c = complex_()\n",
    "        c._real = self._real + other._real\n",
    "        c._imag = self._imag + other._imag\n",
    "        return c\n",
    "    \n",
    "    def __add__(self, other):  #addition with operator overloading\n",
    "        c = complex_()\n",
    "        c._real = self._real + other._real\n",
    "        c._imag = self._imag + other._imag\n",
    "        return c\n",
    "    \n",
    "    def print_comp(self):\n",
    "        print(f'{round(self._real,2)}+{round(self._imag,2)}i')\n",
    "    \n",
    "c1 = complex_(2.3, 4.72)\n",
    "c2 = complex_(5.9, 7.23)\n",
    "c3 = c1.add_comp(c2)  #adding without using operator overloading\n",
    "\n",
    "print('Addition without opeartor overloading:')\n",
    "c3.print_comp()\n",
    "\n",
    "print('\\nAddition using opeartor overloading:')\n",
    "c3 = c1 + c2  #adding using operator overloading\n",
    "c3.print_comp()"
   ]
  },
  {
   "cell_type": "markdown",
   "id": "fbe488c9",
   "metadata": {},
   "source": [
    "### substraction with and without operator overloading"
   ]
  },
  {
   "cell_type": "code",
   "execution_count": 38,
   "id": "f7b9cfc9",
   "metadata": {},
   "outputs": [
    {
     "name": "stdout",
     "output_type": "stream",
     "text": [
      "Subtraction without operator overloading:\n",
      "-3.6-2.51i\n",
      "\n",
      "Subtraction using operator overloading:\n",
      "-3.6-2.51i\n"
     ]
    }
   ],
   "source": [
    "class complex_:\n",
    "    def __init__(self, real=0, imaginary=0):  #initializing and assigning 0\n",
    "        self._real = real\n",
    "        self._imag = imaginary\n",
    "        \n",
    "    def subs_comp(self, other):  #subtraction without operator overloading\n",
    "        c = complex_()\n",
    "        c._real = self._real - other._real\n",
    "        c._imag = self._imag - other._imag\n",
    "        return c\n",
    "    \n",
    "    def __sub__(self, other):  #subtraction with operator overloading\n",
    "        c = complex_()\n",
    "        c._real = self._real - other._real\n",
    "        c._imag = self._imag - other._imag\n",
    "        return c\n",
    "    \n",
    "    def print_comp(self):\n",
    "        print(f'{round(self._real, 2)}{round(self._imag, 2)}i')\n",
    "    \n",
    "c1 = complex_(2.3, 4.72)\n",
    "c2 = complex_(5.9, 7.23)\n",
    "c3 = c1.subs_comp(c2)  #subtracting without using operator overloading\n",
    "\n",
    "print('Subtraction without operator overloading:')\n",
    "c3.print_comp()\n",
    "\n",
    "print('\\nSubtraction using operator overloading:')\n",
    "c3 = c1 - c2  #subtracting using operator overloading\n",
    "c3.print_comp()"
   ]
  },
  {
   "cell_type": "markdown",
   "id": "a1c5fb86",
   "metadata": {},
   "source": [
    "### Multiplication with and without operator overloading"
   ]
  },
  {
   "cell_type": "code",
   "execution_count": 40,
   "id": "d3d1e8ed",
   "metadata": {},
   "outputs": [
    {
     "name": "stdout",
     "output_type": "stream",
     "text": [
      "\n",
      "Multiplication without operator overloading:\n",
      "-20.56+44.48i\n",
      "\n",
      "Multiplication using operator overloading:\n",
      "-20.56+44.48i\n"
     ]
    }
   ],
   "source": [
    "class complex_:\n",
    "    def __init__(self, real=0, imaginary=0):  #initializing and assigning 0\n",
    "        self._real = real\n",
    "        self._imag = imaginary\n",
    "    \n",
    "    def mul_comp(self, other):  #multiplication without operator overloading\n",
    "        c = complex_()\n",
    "        c._real = self._real * other._real - self._imag * other._imag\n",
    "        c._imag = self._real * other._imag + self._imag * other._real\n",
    "        return c\n",
    "    \n",
    "    def __mul__(self, other):  #multiplication with operator overloading\n",
    "        c = complex_()\n",
    "        c._real = self._real * other._real - self._imag * other._imag\n",
    "        c._imag = self._real * other._imag + self._imag * other._real\n",
    "        return c\n",
    "    \n",
    "    def print_comp(self):\n",
    "        if self._imag >= 0:\n",
    "            print(f'{round(self._real, 2)}+{round(self._imag, 2)}i')\n",
    "        else:\n",
    "            print(f'{round(self._real, 2)}{round(self._imag, 2)}i')\n",
    "\n",
    "c1 = complex_(2.3, 4.72)\n",
    "c2 = complex_(5.9, 7.23)\n",
    "c3 = c1.mul_comp(c2)  #multiplying without using operator overloading\n",
    "\n",
    "print('\\nMultiplication without operator overloading:')\n",
    "c3.print_comp()\n",
    "\n",
    "print('\\nMultiplication using operator overloading:')\n",
    "c3 = c1 * c2  #multiplying using operator overloading\n",
    "c3.print_comp()"
   ]
  },
  {
   "cell_type": "markdown",
   "id": "3cfb9cfb",
   "metadata": {},
   "source": [
    "### division with and without operator overloading"
   ]
  },
  {
   "cell_type": "code",
   "execution_count": 42,
   "id": "f359cdd5",
   "metadata": {},
   "outputs": [
    {
     "name": "stdout",
     "output_type": "stream",
     "text": [
      "\n",
      "Division without operator overloading:\n",
      "0.55+0.13i\n",
      "\n",
      "Division using operator overloading:\n",
      "0.55+0.13i\n"
     ]
    }
   ],
   "source": [
    "class complex_:\n",
    "    def __init__(self, real=0, imaginary=0):  #initializing and assigning 0\n",
    "        self._real = real\n",
    "        self._imag = imaginary\n",
    "    \n",
    "    def div_comp(self, other):  #division without operator overloading\n",
    "        c = complex_()\n",
    "        denominator = other._real ** 2 + other._imag ** 2\n",
    "        c._real = (self._real * other._real + self._imag * other._imag) / denominator\n",
    "        c._imag = (self._imag * other._real - self._real * other._imag) / denominator\n",
    "        return c\n",
    "    \n",
    "    def __truediv__(self, other):  #division with operator overloading\n",
    "        c = complex_()\n",
    "        denominator = other._real ** 2 + other._imag ** 2\n",
    "        c._real = (self._real * other._real + self._imag * other._imag) / denominator\n",
    "        c._imag = (self._imag * other._real - self._real * other._imag) / denominator\n",
    "        return c\n",
    "    \n",
    "    def print_comp(self):\n",
    "        print(f'{round(self._real, 2)}+{round(self._imag, 2)}i')\n",
    "    \n",
    "c1 = complex_(2.3, 4.72)\n",
    "c2 = complex_(5.9, 7.23)\n",
    "\n",
    "\n",
    "print('\\nDivision without operator overloading:')\n",
    "c3 = c1.div_comp(c2)  #division without using operator overloading\n",
    "c3.print_comp()\n",
    "\n",
    "print('\\nDivision using operator overloading:')\n",
    "c3 = c1 / c2  #division using operator overloading\n",
    "c3.print_comp()\n"
   ]
  },
  {
   "cell_type": "code",
   "execution_count": null,
   "id": "a44477d3",
   "metadata": {},
   "outputs": [],
   "source": []
  }
 ],
 "metadata": {
  "kernelspec": {
   "display_name": "Python 3 (ipykernel)",
   "language": "python",
   "name": "python3"
  },
  "language_info": {
   "codemirror_mode": {
    "name": "ipython",
    "version": 3
   },
   "file_extension": ".py",
   "mimetype": "text/x-python",
   "name": "python",
   "nbconvert_exporter": "python",
   "pygments_lexer": "ipython3",
   "version": "3.11.4"
  }
 },
 "nbformat": 4,
 "nbformat_minor": 5
}
