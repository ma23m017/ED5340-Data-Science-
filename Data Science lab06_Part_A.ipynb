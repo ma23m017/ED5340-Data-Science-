{
 "cells": [
  {
   "cell_type": "code",
   "execution_count": 1,
   "id": "3b60c2b3",
   "metadata": {},
   "outputs": [],
   "source": [
    "#"
   ]
  },
  {
   "cell_type": "markdown",
   "id": "de13a46a",
   "metadata": {},
   "source": [
    "## Question 1"
   ]
  },
  {
   "cell_type": "markdown",
   "id": "f98d2c97",
   "metadata": {},
   "source": [
    "Design a class named Polygon that initializes with the length of a side. Then, derive a class named Square from the Polygon class. Utilize the side length defined in the Polygon class for the Square class. Within the Square class, implement a method called findArea() that calculates and returns the square's area based on its side length. Use __init__() for necessary initialization"
   ]
  },
  {
   "cell_type": "markdown",
   "id": "c1236f1e",
   "metadata": {},
   "source": [
    "## Solution"
   ]
  },
  {
   "cell_type": "code",
   "execution_count": 10,
   "id": "54419849",
   "metadata": {},
   "outputs": [],
   "source": [
    "#class creation\n",
    "\n",
    "class Polygon:\n",
    "    def __init__(self, side_length):  # Initializing the length of the sides\n",
    "        self.side_length = side_length\n",
    "\n",
    "# Deriving the class square from the polygon class\n",
    "class Square(Polygon):\n",
    "    def __init__(self, side_length):\n",
    "        # Calling the polygon(parent) class constructor to initialize the side length\n",
    "        super().__init__(side_length)\n",
    "\n",
    "    def find_area(self):  #defining a method to find the area of the square\n",
    "        return self.side_length ** 2"
   ]
  },
  {
   "cell_type": "code",
   "execution_count": 12,
   "id": "b3a74718",
   "metadata": {},
   "outputs": [
    {
     "name": "stdout",
     "output_type": "stream",
     "text": [
      "Area of the square with side 16 is 256\n"
     ]
    }
   ],
   "source": [
    "# Implementation\n",
    "\n",
    "a = 16\n",
    "square = Square(a)  #creating an object of class square\n",
    "print(f'Area of the square with side {a} is {square.find_area()}')"
   ]
  },
  {
   "cell_type": "markdown",
   "id": "c7c72ee3",
   "metadata": {},
   "source": [
    "## Question 2"
   ]
  },
  {
   "cell_type": "markdown",
   "id": "20d7ef91",
   "metadata": {},
   "source": [
    "### (a)"
   ]
  },
  {
   "cell_type": "markdown",
   "id": "b67461c8",
   "metadata": {},
   "source": [
    "Create a class Father with attributes:\n",
    "- father_name (string), father_age (int), father_talents (set of strings)\n",
    "\n",
    "Create a class Mother with attributes:\n",
    "- mother_name (string), mother_age (int), mother_talents (set of strings)\n",
    "\n",
    "Create a class Child that inherits both father and mother with attributes: \n",
    "- child_name (string), child_age (int), child_gender(string)"
   ]
  },
  {
   "cell_type": "markdown",
   "id": "da25f16c",
   "metadata": {},
   "source": [
    "### Solution"
   ]
  },
  {
   "cell_type": "code",
   "execution_count": 34,
   "id": "99f51549",
   "metadata": {},
   "outputs": [],
   "source": [
    "#creating class Father\n",
    "\n",
    "class Father:\n",
    "    def __init__(self, father_name, father_age, father_talents):  # Initializing attributes specific to Father class\n",
    "        self.father_name = father_name\n",
    "        self.father_age = father_age\n",
    "        self.father_talents = father_talents\n",
    "\n",
    "\n",
    "#creating class Mother\n",
    "\n",
    "class Mother:\n",
    "    def __init__(self, mother_name, mother_age, mother_talents):  # Initializing attributes specific to Mother class\n",
    "        self.mother_name = mother_name\n",
    "        self.mother_age = mother_age\n",
    "        self.mother_talents = mother_talents\n",
    "\n",
    "\n",
    "#creating class child which is being inherited from both the above classes\n",
    "\n",
    "class Child(Father, Mother):\n",
    "    def __init__(self, father_name, father_age, father_talents,\n",
    "                 mother_name, mother_age, mother_talents,\n",
    "                 child_name, child_age, child_gender):\n",
    "        \n",
    "        # Initialize attributes from both Father and Mother classes\n",
    "        Father.__init__(self, father_name, father_age, father_talents)\n",
    "        Mother.__init__(self, mother_name, mother_age, mother_talents)\n",
    "        \n",
    "        # Initialize attributes specific to Child class\n",
    "        self.child_name = child_name\n",
    "        self.child_age = child_age\n",
    "        self.child_gender = child_gender"
   ]
  },
  {
   "cell_type": "markdown",
   "id": "9434e7bb",
   "metadata": {},
   "source": [
    "### (b)"
   ]
  },
  {
   "cell_type": "markdown",
   "id": "138035d2",
   "metadata": {},
   "source": [
    "Create a function getChildDetails() in Child to input the details of the child, it’s father and mother and printChildDetails() to print the details using     printChildDetails()"
   ]
  },
  {
   "cell_type": "markdown",
   "id": "e03aaed2",
   "metadata": {},
   "source": [
    "### Solution"
   ]
  },
  {
   "cell_type": "code",
   "execution_count": 35,
   "id": "4d8e8716",
   "metadata": {},
   "outputs": [],
   "source": [
    "#creating class Father\n",
    "\n",
    "class Father:\n",
    "    def __init__(self, father_name, father_age, father_talents):  # Initializing attributes specific to Father class\n",
    "        self.father_name = father_name\n",
    "        self.father_age = father_age\n",
    "        self.father_talents = father_talents\n",
    "\n",
    "\n",
    "#creating class Mother\n",
    "\n",
    "class Mother:\n",
    "    def __init__(self, mother_name, mother_age, mother_talents):  # Initializing attributes specific to Mother class\n",
    "        self.mother_name = mother_name\n",
    "        self.mother_age = mother_age\n",
    "        self.mother_talents = mother_talents\n",
    "\n",
    "\n",
    "#creating class child which is being inherited from both the above classes\n",
    "\n",
    "class Child(Father, Mother):\n",
    "    def __init__(self, father_name, father_age, father_talents,\n",
    "                 mother_name, mother_age, mother_talents,\n",
    "                 child_name, child_age, child_gender):\n",
    "        \n",
    "        # Initialize attributes from both Father and Mother classes\n",
    "        Father.__init__(self, father_name, father_age, father_talents)\n",
    "        Mother.__init__(self, mother_name, mother_age, mother_talents)\n",
    "        \n",
    "        # Initialize attributes specific to Child class\n",
    "        self.child_name = child_name\n",
    "        self.child_age = child_age\n",
    "        self.child_gender = child_gender\n",
    "        \n",
    "        #creating method to take the details\n",
    "    def getChildDetails(self):\n",
    "        print(\"Taking the details:\\n\")\n",
    "        self.child_name = input(\"Enter child's name: \")\n",
    "        self.child_age = int(input(\"Enter child's age: \"))\n",
    "        self.child_gender = input(\"Enter child's gender: \")\n",
    "        self.father_name = input(\"Enter father's name: \")\n",
    "        self.father_age = int(input(\"Enter father's age: \"))\n",
    "        self.father_talents = set(input(\"Enter father's talents (separated by comma): \").split(','))\n",
    "        self.mother_name = input(\"Enter mother's name: \")\n",
    "        self.mother_age = int(input(\"Enter mother's age: \"))\n",
    "        self.mother_talents = set(input(\"Enter mother's talents (separated by comma): \").split(','))\n",
    "\n",
    "        #creating method to print the details\n",
    "    def printChildDetails(self):\n",
    "        print(\"\\nPrinting child's Details:\\n\")\n",
    "        print(\"Name:\", self.child_name)\n",
    "        print(\"Age:\", self.child_age)\n",
    "        print(\"Gender:\", self.child_gender)\n",
    "        print(\"Father's Details:\")\n",
    "        print(\"Name:\", self.father_name)\n",
    "        print(\"Age:\", self.father_age)\n",
    "        print(\"Talents:\", ', '.join(self.father_talents))\n",
    "        print(\"Mother's Details:\")\n",
    "        print(\"Name:\", self.mother_name)\n",
    "        print(\"Age:\", self.mother_age)\n",
    "        print(\"Talents:\", ', '.join(self.mother_talents))"
   ]
  },
  {
   "cell_type": "markdown",
   "id": "b6035a86",
   "metadata": {},
   "source": [
    "### (c)"
   ]
  },
  {
   "cell_type": "markdown",
   "id": "5826b34a",
   "metadata": {},
   "source": [
    "Create an object of class Child and read the details by invoking getChildDetails() and display the details entered."
   ]
  },
  {
   "cell_type": "markdown",
   "id": "f8c54819",
   "metadata": {},
   "source": [
    "### Solution"
   ]
  },
  {
   "cell_type": "code",
   "execution_count": 36,
   "id": "4a3bb6e6",
   "metadata": {},
   "outputs": [
    {
     "name": "stdout",
     "output_type": "stream",
     "text": [
      "Taking the details:\n",
      "\n",
      "Enter child's name: Prabhat Kumar\n",
      "Enter child's age: 25\n",
      "Enter child's gender: Male\n",
      "Enter father's name: Tuleshwar Sahu\n",
      "Enter father's age: 55\n",
      "Enter father's talents (separated by comma): Teaching, Farming, Singing, Reading\n",
      "Enter mother's name: Kumari Indu Choudhary\n",
      "Enter mother's age: 46\n",
      "Enter mother's talents (separated by comma): Cooking, Caretaking, Reading, Teaching\n",
      "\n",
      "Printing child's Details:\n",
      "\n",
      "Name: Prabhat Kumar\n",
      "Age: 25\n",
      "Gender: Male\n",
      "Father's Details:\n",
      "Name: Tuleshwar Sahu\n",
      "Age: 55\n",
      "Talents:  Singing,  Farming, Teaching,  Reading\n",
      "Mother's Details:\n",
      "Name: Kumari Indu Choudhary\n",
      "Age: 46\n",
      "Talents:  Reading,  Caretaking, Cooking,  Teaching\n"
     ]
    }
   ],
   "source": [
    "# Creating an object of class Child \n",
    "child_obj = Child(\"\", 0, \"\", \"\", 0, set(), \"\", 0, set())\n",
    "\n",
    "child_obj.getChildDetails()  # invoking getChildDetails() method\n",
    "\n",
    "child_obj.printChildDetails()  # Displaying the details entered"
   ]
  },
  {
   "cell_type": "markdown",
   "id": "05bdd6c2",
   "metadata": {},
   "source": [
    "### (d)"
   ]
  },
  {
   "cell_type": "markdown",
   "id": "6a82d5d2",
   "metadata": {},
   "source": [
    "Create a function displayTalents() in class Child that displays the talents of the child inherited from father and mother. A talent is inherited to a child if both the parents possess it."
   ]
  },
  {
   "cell_type": "markdown",
   "id": "abb323a7",
   "metadata": {},
   "source": [
    "### Solution"
   ]
  },
  {
   "cell_type": "code",
   "execution_count": 39,
   "id": "17c82ec9",
   "metadata": {},
   "outputs": [],
   "source": [
    "#creating class Father\n",
    "\n",
    "class Father:\n",
    "    def __init__(self, father_name, father_age, father_talents):  # Initializing attributes specific to Father class\n",
    "        self.father_name = father_name\n",
    "        self.father_age = father_age\n",
    "        self.father_talents = father_talents\n",
    "\n",
    "\n",
    "#creating class Mother\n",
    "\n",
    "class Mother:\n",
    "    def __init__(self, mother_name, mother_age, mother_talents):  # Initializing attributes specific to Mother class\n",
    "        self.mother_name = mother_name\n",
    "        self.mother_age = mother_age\n",
    "        self.mother_talents = mother_talents\n",
    "\n",
    "\n",
    "#creating class child which is being inherited from both the above classes\n",
    "\n",
    "class Child(Father, Mother):\n",
    "    def __init__(self, father_name, father_age, father_talents,\n",
    "                 mother_name, mother_age, mother_talents,\n",
    "                 child_name, child_age, child_gender):\n",
    "        \n",
    "        # Initialize attributes from both Father and Mother classes\n",
    "        Father.__init__(self, father_name, father_age, father_talents)\n",
    "        Mother.__init__(self, mother_name, mother_age, mother_talents)\n",
    "        \n",
    "        # Initialize attributes specific to Child class\n",
    "        self.child_name = child_name\n",
    "        self.child_age = child_age\n",
    "        self.child_gender = child_gender\n",
    "        \n",
    "    #creating method to take the details\n",
    "    def getChildDetails(self):\n",
    "        print(\"Taking the details:\\n\")\n",
    "        self.child_name = input(\"Enter child's name: \")\n",
    "        self.child_age = int(input(\"Enter child's age: \"))\n",
    "        self.child_gender = input(\"Enter child's gender: \")\n",
    "        self.father_name = input(\"Enter father's name: \")\n",
    "        self.father_age = int(input(\"Enter father's age: \"))\n",
    "        self.father_talents = set(input(\"Enter father's talents (separated by comma): \").split(','))\n",
    "        self.mother_name = input(\"Enter mother's name: \")\n",
    "        self.mother_age = int(input(\"Enter mother's age: \"))\n",
    "        self.mother_talents = set(input(\"Enter mother's talents (separated by comma): \").split(','))\n",
    "\n",
    "    #creating method to print the details\n",
    "    def printChildDetails(self):\n",
    "        print(\"\\nPrinting child's Details:\\n\")\n",
    "        print(\"Name:\", self.child_name)\n",
    "        print(\"Age:\", self.child_age)\n",
    "        print(\"Gender:\", self.child_gender)\n",
    "        print(\"Father's Details:\")\n",
    "        print(\"Name:\", self.father_name)\n",
    "        print(\"Age:\", self.father_age)\n",
    "        print(\"Talents:\", ', '.join(self.father_talents))\n",
    "        print(\"Mother's Details:\")\n",
    "        print(\"Name:\", self.mother_name)\n",
    "        print(\"Age:\", self.mother_age)\n",
    "        print(\"Talents:\", ', '.join(self.mother_talents))\n",
    "     \n",
    "    #creating a function to display the talent inherited by the child\n",
    "    def displayTalents(self):\n",
    "        common_talents = self.father_talents.intersection(self.mother_talents)\n",
    "        if common_talents:\n",
    "            print(\"Common Talents inherited from both parents:\")\n",
    "            print(', '.join(common_talents))\n",
    "        else:\n",
    "            print(\"No common talents inherited from both parents.\")"
   ]
  },
  {
   "cell_type": "code",
   "execution_count": 40,
   "id": "865bec98",
   "metadata": {},
   "outputs": [
    {
     "name": "stdout",
     "output_type": "stream",
     "text": [
      "Taking the details:\n",
      "\n",
      "Enter child's name: Prabhat Kumar\n",
      "Enter child's age: 25\n",
      "Enter child's gender: Male\n",
      "Enter father's name: Tuleshwar Sahu\n",
      "Enter father's age: 55\n",
      "Enter father's talents (separated by comma): Teaching, Farming, Singing, Driving\n",
      "Enter mother's name: Kumari Indu Choudhary\n",
      "Enter mother's age: 46\n",
      "Enter mother's talents (separated by comma): Cooking, Singing, Teaching, Caretaking\n",
      "\n",
      "Printing child's Details:\n",
      "\n",
      "Name: Prabhat Kumar\n",
      "Age: 25\n",
      "Gender: Male\n",
      "Father's Details:\n",
      "Name: Tuleshwar Sahu\n",
      "Age: 55\n",
      "Talents:  Driving,  Singing,  Farming, Teaching\n",
      "Mother's Details:\n",
      "Name: Kumari Indu Choudhary\n",
      "Age: 46\n",
      "Talents:  Singing,  Caretaking, Cooking,  Teaching\n",
      "Common Talents inherited from both parents:\n",
      " Singing\n"
     ]
    }
   ],
   "source": [
    "#Creating an object of class Child and reading details\n",
    "child_obj = Child(\"\", 0, \"\", \"\", 0, set(), \"\", 0, set())\n",
    "child_obj.getChildDetails()\n",
    "\n",
    "# Displaying the details entered\n",
    "child_obj.printChildDetails()\n",
    "\n",
    "# Displaying talents inherited from both parents\n",
    "child_obj.displayTalents()"
   ]
  },
  {
   "cell_type": "markdown",
   "id": "61e0ab41",
   "metadata": {},
   "source": [
    "## Question 3"
   ]
  },
  {
   "cell_type": "markdown",
   "id": "4d5b026e",
   "metadata": {},
   "source": [
    "Text File Input Output:\n",
    "\n",
    "- Create a .txt (text) file and use the pledge of India as the content of the text file.\n",
    "\n",
    "- Write a python program that reads this text file, processes it by counting the number of occurrences of each word in the file, and then writes the result back to a new text file."
   ]
  },
  {
   "cell_type": "markdown",
   "id": "92f5b1ae",
   "metadata": {},
   "source": [
    "## Solution"
   ]
  },
  {
   "cell_type": "code",
   "execution_count": 45,
   "id": "aae4869d",
   "metadata": {},
   "outputs": [],
   "source": [
    "#pledge of India\n",
    "\n",
    "pledge_of_india = \"\"\"India, my country, all my country's people,\n",
    "And my religion, my father and mother, my brother, my sister and my\n",
    "relations; I love, cherish and revere them all.\n",
    "May I ever strive to be in the service of my country and people.\n",
    "May I devote my life to the betterment of humanity and the\n",
    "upliftment of the downtrodden.\n",
    "May I endeavour to cultivate peace and harmony between all the\n",
    "nations.\"\"\""
   ]
  },
  {
   "cell_type": "code",
   "execution_count": 46,
   "id": "82974551",
   "metadata": {},
   "outputs": [],
   "source": [
    "# Create the text file with the pledge content\n",
    "\n",
    "with open(\"pledge_of_india.txt\", \"w\") as file:\n",
    "    file.write(pledge_of_india)"
   ]
  },
  {
   "cell_type": "code",
   "execution_count": 47,
   "id": "54b136ae",
   "metadata": {},
   "outputs": [],
   "source": [
    "# Function to count word occurrences in a file\n",
    "\n",
    "def count_words(filename):\n",
    "    # Open the file in read mode\n",
    "    with open(filename, \"r\") as file:\n",
    "        # Read the file content\n",
    "        text = file.read()\n",
    "\n",
    "    # Convert text to lowercase and split into words\n",
    "    words = text.lower().split()\n",
    "\n",
    "    # Create a dictionary to store word counts\n",
    "    word_counts = {}\n",
    "    for word in words:\n",
    "        # Check if word exists in the dictionary\n",
    "        if word in word_counts:\n",
    "            # Increment the count if it does\n",
    "            word_counts[word] += 1\n",
    "        else:\n",
    "            # Add the word and set its count to 1 if not found\n",
    "            word_counts[word] = 1\n",
    "\n",
    "    return word_counts"
   ]
  },
  {
   "cell_type": "code",
   "execution_count": 48,
   "id": "5e61955f",
   "metadata": {},
   "outputs": [
    {
     "name": "stdout",
     "output_type": "stream",
     "text": [
      "Word counts written to 'word_counts.txt'\n"
     ]
    }
   ],
   "source": [
    "# Get word counts from the created file\n",
    "\n",
    "word_counts = count_words(\"pledge_of_india.txt\")\n",
    "\n",
    "# Process the word counts and format the output string\n",
    "output_string = \"\"\n",
    "for word, count in word_counts.items():\n",
    "    output_string += f\"{word}: {count}\\n\"\n",
    "\n",
    "# Write the word counts to a new file\n",
    "with open(\"word_counts.txt\", \"w\") as file:\n",
    "    file.write(output_string)\n",
    "\n",
    "print(\"Word counts written to 'word_counts.txt'\")"
   ]
  },
  {
   "cell_type": "markdown",
   "id": "28e5ce72",
   "metadata": {},
   "source": [
    "## Question 4"
   ]
  },
  {
   "cell_type": "markdown",
   "id": "76365a00",
   "metadata": {},
   "source": [
    "For a restaurant, create a parent class ‘Bill’ which has the properties as ‘Customer  name’, ‘Table Number’ and ‘Order’ of which the name, order are strings and table  number is a positive integer. Define a method to extract the order details from the string and return a 2-D array of ordered items & their number. Create a child class ‘ 'Restaurant Bill’ which has a property called ‘Price list’ of the items and has a method to calculate the total bill amount by using the price list and order details. Also have a   method to print the complete bill for the customer including taxes and service charges.\n",
    "\n",
    "The strings will be of the following format:\n",
    "\n",
    "- #Name: “Akshay” (Name of the customer)\n",
    "\n",
    "- #Table Number: 7 (Table Number)\n",
    "\n",
    "- #Order: “Item1x1,Item2x3,Item3x1,…” (ItemxNumber needed)\n",
    "\n",
    "- #Price List: “Item1-100,Item2-70,Item3-250,...” (Item-Price)"
   ]
  },
  {
   "cell_type": "markdown",
   "id": "f08082ea",
   "metadata": {},
   "source": [
    "## Solution"
   ]
  },
  {
   "cell_type": "code",
   "execution_count": 55,
   "id": "8780df00",
   "metadata": {},
   "outputs": [],
   "source": [
    "#creating class named 'Bill'\n",
    "\n",
    "class Bill:\n",
    "    #Initializes a Bill object with customer details, table number, and order\n",
    "    def __init__(self, customer_name, table_number, order):\n",
    "        # Validate table number\n",
    "        if not isinstance(table_number, int) or table_number <= 0:\n",
    "            raise ValueError(\"Table number must be a positive integer\")\n",
    "        self.customer_name = customer_name  # Initialize customer name\n",
    "        self.table_number = table_number  # Initialize table number\n",
    "        self.order = order  # Initialize order details\n",
    "\n",
    "    def extract_order_details(self):  #method to extract order details\n",
    "        order_details = []\n",
    "        # Split order string into individual items\n",
    "        for item in self.order.split(\",\"):\n",
    "            # Split item name and quantity\n",
    "            item_name, quantity = item.split(\"x\")\n",
    "            order_details.append([item_name.strip(), int(quantity)])  # Append item name and quantity to order details\n",
    "        return order_details  # Return the list of order details"
   ]
  },
  {
   "cell_type": "code",
   "execution_count": 56,
   "id": "101bb895",
   "metadata": {},
   "outputs": [],
   "source": [
    "#creating child class 'RestaurantBill'\n",
    "class RestaurantBill(Bill):\n",
    "    def __init__(self, customer_name, table_number, order, price_list):  #Initializes a RestaurantBill object\n",
    "        super().__init__(customer_name, table_number, order)  # Call superclass constructor\n",
    "        self.price_list = self.parse_price_list(price_list)  # Parse price list\n",
    "\n",
    "    def parse_price_list(self, price_list):\n",
    "        \n",
    "        prices = {}\n",
    "        # Split price list string into individual items\n",
    "        for entry in price_list.split(\",\"):\n",
    "            # Split item and price\n",
    "            item, price = entry.split(\"-\")\n",
    "            prices[item.strip()] = float(price)  # Add item and price to prices dictionary\n",
    "        return prices  # Return the price dictionary\n",
    "\n",
    "    \n",
    "    def calculate_bill_amount(self):\n",
    "        \n",
    "        total_amount = 0\n",
    "        # Iterate over order details\n",
    "        for item, quantity in self.extract_order_details():\n",
    "            # Check if item exists in price list\n",
    "            if item not in self.price_list:\n",
    "                raise ValueError(f\"Item '{item}' not found in price list\")\n",
    "            # Calculate total amount by multiplying price with quantity\n",
    "            total_amount += self.price_list[item] * quantity\n",
    "        return total_amount  # Return the total bill amount\n",
    "\n",
    "    def print_bill(self, tax_rate=0.10, service_charge_rate=0.05):\n",
    "        \n",
    "        print(f\"Customer Name: {self.customer_name}\")  # Print customer name\n",
    "        print(f\"Table Number: {self.table_number}\")  # Print table number\n",
    "        print(f\"\\nOrder:\")\n",
    "        # Print each item and its quantity in the order\n",
    "        for item, quantity in self.extract_order_details():\n",
    "            print(f\"  - {item} x {quantity}\")\n",
    "        subtotal = self.calculate_bill_amount()  # Calculate subtotal\n",
    "        tax = subtotal * tax_rate  # Calculate tax\n",
    "        service_charge = subtotal * service_charge_rate  # Calculate service charge\n",
    "        total = subtotal + tax + service_charge  # Calculate total amount\n",
    "        # Print subtotal, tax, service charge, and total amount\n",
    "        print(f\"\\nSubtotal: {subtotal:.2f} Rs.\")\n",
    "        print(f\"Tax ({tax_rate * 100}%): {tax:.2f} Rs.\")\n",
    "        print(f\"Service Charge ({service_charge_rate * 100}%): {service_charge:.2f} Rs.\")\n",
    "        print(f\"\\nTotal: {total:.2f} Rs.\")"
   ]
  },
  {
   "cell_type": "code",
   "execution_count": 57,
   "id": "49e2da28",
   "metadata": {},
   "outputs": [
    {
     "name": "stdout",
     "output_type": "stream",
     "text": [
      "Customer Name: Prabhat Kumar\n",
      "Table Number: 17\n",
      "\n",
      "Order:\n",
      "  - Maggie x 1\n",
      "  - Biryani x 1\n",
      "  - Pepsi x 1\n",
      "  - Samosa x 2\n",
      "  - French Fries x 1\n",
      "\n",
      "Subtotal: 285.00 Rs.\n",
      "Tax (10.0%): 28.50 Rs.\n",
      "Service Charge (5.0%): 14.25 Rs.\n",
      "\n",
      "Total: 327.75 Rs.\n"
     ]
    }
   ],
   "source": [
    "#Implementation using example\n",
    "\n",
    "customer_name = \"Prabhat Kumar\"\n",
    "table_number = 17\n",
    "order = \"Maggie x 1, Biryani x 1, Pepsi x 1, Samosa x 2, French Fries x 1\"\n",
    "price_list = \"Maggie-25,Biryani-140,Pepsi-20, Samosa-15, French Fries-70\"\n",
    "\n",
    "bill = RestaurantBill(customer_name, table_number, order, price_list)  # Create a RestaurantBill object\n",
    "bill.print_bill()  # Print the bill"
   ]
  }
 ],
 "metadata": {
  "kernelspec": {
   "display_name": "Python 3 (ipykernel)",
   "language": "python",
   "name": "python3"
  },
  "language_info": {
   "codemirror_mode": {
    "name": "ipython",
    "version": 3
   },
   "file_extension": ".py",
   "mimetype": "text/x-python",
   "name": "python",
   "nbconvert_exporter": "python",
   "pygments_lexer": "ipython3",
   "version": "3.11.4"
  }
 },
 "nbformat": 4,
 "nbformat_minor": 5
}
