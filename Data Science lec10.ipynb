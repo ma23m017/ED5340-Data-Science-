{
 "cells": [
  {
   "cell_type": "code",
   "execution_count": 1,
   "id": "4920bcf2",
   "metadata": {},
   "outputs": [],
   "source": [
    "#nested dictionary\n",
    "studlist = {'Anand' : {'DOB' : '20/11/2001', 'Roll' : 'ED1234' },\n",
    "'Ramesh' : {'DOB' : '19/11/2001', 'Roll' : 'ED1235' },\n",
    "'Kamesh' : {'DOB' : '21/11/2001', 'Roll' : 'ED1236' } }\n",
    "\n",
    "#how do you print access and change contents of nested dictionary"
   ]
  },
  {
   "cell_type": "code",
   "execution_count": 2,
   "id": "dd8e3705",
   "metadata": {},
   "outputs": [
    {
     "name": "stdout",
     "output_type": "stream",
     "text": [
      "{'DOB': '20/11/2001', 'Roll': 'ED1234'}\n"
     ]
    }
   ],
   "source": [
    "print(studlist['Anand'])"
   ]
  },
  {
   "cell_type": "code",
   "execution_count": 3,
   "id": "25c56c80",
   "metadata": {},
   "outputs": [
    {
     "name": "stdout",
     "output_type": "stream",
     "text": [
      "{'DOB': '20/11/2001', 'Roll': 'ED1234'}\n",
      "{'DOB': '19/11/2001', 'Roll': 'ED1235'}\n",
      "{'DOB': '21/11/2001', 'Roll': 'ED1236'}\n"
     ]
    }
   ],
   "source": [
    "for k in studlist.keys():\n",
    "    print(studlist[k])"
   ]
  },
  {
   "cell_type": "code",
   "execution_count": null,
   "id": "cd0a7126",
   "metadata": {},
   "outputs": [],
   "source": []
  },
  {
   "cell_type": "code",
   "execution_count": 5,
   "id": "28444528",
   "metadata": {},
   "outputs": [
    {
     "name": "stdout",
     "output_type": "stream",
     "text": [
      "{'Anand': {'DOB': '20/11/2001', 'Roll': 'ED1234'}, 'Ramesh': {'DOB': '19/11/2001', 'Roll': 'ED1235'}, 'Kamesh': {'DOB': '21/11/2001', 'Roll': 'ED1236'}}\n"
     ]
    }
   ],
   "source": [
    "#dictionary comprehension\n",
    "dctA = {key:value for (key,value) in studlist.items()}\n",
    "print(dctA)"
   ]
  },
  {
   "cell_type": "code",
   "execution_count": 6,
   "id": "9718099c",
   "metadata": {},
   "outputs": [],
   "source": [
    "#we can do it other than dict.items() as well. How??"
   ]
  },
  {
   "cell_type": "code",
   "execution_count": null,
   "id": "50af7251",
   "metadata": {},
   "outputs": [],
   "source": []
  }
 ],
 "metadata": {
  "kernelspec": {
   "display_name": "Python 3 (ipykernel)",
   "language": "python",
   "name": "python3"
  },
  "language_info": {
   "codemirror_mode": {
    "name": "ipython",
    "version": 3
   },
   "file_extension": ".py",
   "mimetype": "text/x-python",
   "name": "python",
   "nbconvert_exporter": "python",
   "pygments_lexer": "ipython3",
   "version": "3.11.4"
  }
 },
 "nbformat": 4,
 "nbformat_minor": 5
}
